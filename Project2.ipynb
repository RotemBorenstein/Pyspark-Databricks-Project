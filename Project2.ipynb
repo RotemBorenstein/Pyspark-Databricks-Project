{
  "cells": [
    {
      "cell_type": "markdown",
      "metadata": {
        "id": "view-in-github",
        "colab_type": "text"
      },
      "source": [
        "<a href=\"https://colab.research.google.com/github/RotemBorenstein/Pyspark-Databricks-Project/blob/main/Project2.ipynb\" target=\"_parent\"><img src=\"https://colab.research.google.com/assets/colab-badge.svg\" alt=\"Open In Colab\"/></a>"
      ]
    },
    {
      "cell_type": "code",
      "execution_count": null,
      "metadata": {
        "application/vnd.databricks.v1+cell": {
          "cellMetadata": {
            "byteLimit": 2048000,
            "rowLimit": 10000
          },
          "inputWidgets": {},
          "nuid": "f4d6c092-4dbf-46e0-8265-b47081d2a411",
          "showTitle": false,
          "title": ""
        },
        "id": "psyiELn56QLY"
      },
      "outputs": [],
      "source": [
        "from pyspark.sql.types import *\n",
        "import pyspark.sql.functions as f\n",
        "from pyspark.sql.functions import col, udf, row_number, when, lit\n",
        "import os,time\n",
        "from pyspark import SparkContext\n",
        "from pyspark.sql import SparkSession\n",
        "from pyspark.ml.feature import OneHotEncoder, VectorAssembler, StringIndexer, MinMaxScaler, PCA\n",
        "from pyspark.ml import Pipeline\n",
        "from pyspark.mllib.linalg.distributed import RowMatrix\n",
        "from pyspark.mllib.linalg import Vectors as MLLibVectors\n",
        "from pyspark.ml.clustering import KMeans\n",
        "from pyspark.sql.window import Window\n",
        "from pyspark.ml.linalg import VectorUDT, Vectors\n",
        "import pandas as pd\n",
        "import seaborn as sns\n",
        "import matplotlib.pyplot as plt\n",
        "from pyspark.sql import Window\n",
        "\n",
        "spark = SparkSession.builder.appName(\"my_project_2\").getOrCreate()\n",
        "sc = spark.sparkContext"
      ]
    },
    {
      "cell_type": "markdown",
      "metadata": {
        "application/vnd.databricks.v1+cell": {
          "cellMetadata": {
            "byteLimit": 2048000,
            "rowLimit": 10000
          },
          "inputWidgets": {},
          "nuid": "e4ee84a3-ee08-4f43-8dd5-a82be478efe4",
          "showTitle": false,
          "title": ""
        },
        "id": "WZTodVnQ6QLa"
      },
      "source": [
        "# read data"
      ]
    },
    {
      "cell_type": "code",
      "execution_count": null,
      "metadata": {
        "application/vnd.databricks.v1+cell": {
          "cellMetadata": {
            "byteLimit": 2048000,
            "rowLimit": 10000
          },
          "inputWidgets": {},
          "nuid": "69ef1fb0-2a09-47ef-9451-d234edeb9d46",
          "showTitle": false,
          "title": ""
        },
        "id": "vjN8nUW36QLa",
        "outputId": "6df43a55-4761-477c-d70c-46321b237759"
      },
      "outputs": [
        {
          "output_type": "stream",
          "name": "stdout",
          "text": [
            "root\n |-- household_id: long (nullable = true)\n |-- household_size: integer (nullable = true)\n |-- num_adults: integer (nullable = true)\n |-- num_generations: integer (nullable = true)\n |-- marital_status: string (nullable = true)\n |-- race_code: string (nullable = true)\n |-- dwelling_type: string (nullable = true)\n |-- home_owner_status: string (nullable = true)\n |-- length_residence: integer (nullable = true)\n |-- home_market_value: integer (nullable = true)\n |-- net_worth: integer (nullable = true)\n |-- education_highest: integer (nullable = true)\n |-- gender_individual: string (nullable = true)\n\n"
          ]
        },
        {
          "output_type": "display_data",
          "data": {
            "text/html": [
              "<style scoped>\n",
              "  .table-result-container {\n",
              "    max-height: 300px;\n",
              "    overflow: auto;\n",
              "  }\n",
              "  table, th, td {\n",
              "    border: 1px solid black;\n",
              "    border-collapse: collapse;\n",
              "  }\n",
              "  th, td {\n",
              "    padding: 5px;\n",
              "  }\n",
              "  th {\n",
              "    text-align: left;\n",
              "  }\n",
              "</style><div class='table-result-container'><table class='table-result'><thead style='background-color: white'><tr><th>household_id</th><th>household_size</th><th>num_adults</th><th>num_generations</th><th>marital_status</th><th>race_code</th><th>dwelling_type</th><th>home_owner_status</th><th>length_residence</th><th>home_market_value</th><th>net_worth</th><th>education_highest</th><th>gender_individual</th></tr></thead><tbody><tr><td>15</td><td>2</td><td>2</td><td>1</td><td>S</td><td>B</td><td>S</td><td>O</td><td>5</td><td>5</td><td>6</td><td>4</td><td>M</td></tr><tr><td>28</td><td>3</td><td>2</td><td>2</td><td>S</td><td>W</td><td>S</td><td>O</td><td>3</td><td>8</td><td>5</td><td>2</td><td>M</td></tr><tr><td>56</td><td>2</td><td>2</td><td>1</td><td>S</td><td>W</td><td>S</td><td>O</td><td>4</td><td>10</td><td>5</td><td>1</td><td>M</td></tr><tr><td>61</td><td>2</td><td>2</td><td>2</td><td>M</td><td>W</td><td>S</td><td>O</td><td>15</td><td>8</td><td>8</td><td>1</td><td>M</td></tr><tr><td>98</td><td>3</td><td>2</td><td>2</td><td>M</td><td>W</td><td>S</td><td>O</td><td>4</td><td>13</td><td>7</td><td>1</td><td>F</td></tr><tr><td>111</td><td>2</td><td>2</td><td>1</td><td>S</td><td>W</td><td>S</td><td>O</td><td>15</td><td>4</td><td>8</td><td>2</td><td>M</td></tr><tr><td>122</td><td>3</td><td>2</td><td>2</td><td>M</td><td>W</td><td>S</td><td>O</td><td>8</td><td>7</td><td>7</td><td>2</td><td>F</td></tr><tr><td>130</td><td>2</td><td>2</td><td>2</td><td>S</td><td>W</td><td>S</td><td>O</td><td>8</td><td>8</td><td>6</td><td>2</td><td>M</td></tr><tr><td>145</td><td>1</td><td>1</td><td>1</td><td>B</td><td>W</td><td>S</td><td>O</td><td>3</td><td>6</td><td>5</td><td>1</td><td>M</td></tr><tr><td>160</td><td>2</td><td>2</td><td>1</td><td>A</td><td>W</td><td>S</td><td>O</td><td>15</td><td>6</td><td>6</td><td>1</td><td>M</td></tr></tbody></table></div>"
            ]
          },
          "metadata": {
            "application/vnd.databricks.v1+output": {
              "addedWidgets": {},
              "aggData": [],
              "aggError": "",
              "aggOverflow": false,
              "aggSchema": [],
              "aggSeriesLimitReached": false,
              "aggType": "",
              "arguments": {},
              "columnCustomDisplayInfos": {},
              "data": [
                [
                  15,
                  2,
                  2,
                  1,
                  "S",
                  "B",
                  "S",
                  "O",
                  5,
                  5,
                  6,
                  4,
                  "M"
                ],
                [
                  28,
                  3,
                  2,
                  2,
                  "S",
                  "W",
                  "S",
                  "O",
                  3,
                  8,
                  5,
                  2,
                  "M"
                ],
                [
                  56,
                  2,
                  2,
                  1,
                  "S",
                  "W",
                  "S",
                  "O",
                  4,
                  10,
                  5,
                  1,
                  "M"
                ],
                [
                  61,
                  2,
                  2,
                  2,
                  "M",
                  "W",
                  "S",
                  "O",
                  15,
                  8,
                  8,
                  1,
                  "M"
                ],
                [
                  98,
                  3,
                  2,
                  2,
                  "M",
                  "W",
                  "S",
                  "O",
                  4,
                  13,
                  7,
                  1,
                  "F"
                ],
                [
                  111,
                  2,
                  2,
                  1,
                  "S",
                  "W",
                  "S",
                  "O",
                  15,
                  4,
                  8,
                  2,
                  "M"
                ],
                [
                  122,
                  3,
                  2,
                  2,
                  "M",
                  "W",
                  "S",
                  "O",
                  8,
                  7,
                  7,
                  2,
                  "F"
                ],
                [
                  130,
                  2,
                  2,
                  2,
                  "S",
                  "W",
                  "S",
                  "O",
                  8,
                  8,
                  6,
                  2,
                  "M"
                ],
                [
                  145,
                  1,
                  1,
                  1,
                  "B",
                  "W",
                  "S",
                  "O",
                  3,
                  6,
                  5,
                  1,
                  "M"
                ],
                [
                  160,
                  2,
                  2,
                  1,
                  "A",
                  "W",
                  "S",
                  "O",
                  15,
                  6,
                  6,
                  1,
                  "M"
                ]
              ],
              "datasetInfos": [],
              "dbfsResultPath": null,
              "isJsonSchema": true,
              "metadata": {},
              "overflow": false,
              "plotOptions": {
                "customPlotOptions": {},
                "displayType": "table",
                "pivotAggregation": null,
                "pivotColumns": null,
                "xColumns": null,
                "yColumns": null
              },
              "removedWidgets": [],
              "schema": [
                {
                  "metadata": "{}",
                  "name": "household_id",
                  "type": "\"long\""
                },
                {
                  "metadata": "{}",
                  "name": "household_size",
                  "type": "\"integer\""
                },
                {
                  "metadata": "{}",
                  "name": "num_adults",
                  "type": "\"integer\""
                },
                {
                  "metadata": "{}",
                  "name": "num_generations",
                  "type": "\"integer\""
                },
                {
                  "metadata": "{}",
                  "name": "marital_status",
                  "type": "\"string\""
                },
                {
                  "metadata": "{}",
                  "name": "race_code",
                  "type": "\"string\""
                },
                {
                  "metadata": "{}",
                  "name": "dwelling_type",
                  "type": "\"string\""
                },
                {
                  "metadata": "{}",
                  "name": "home_owner_status",
                  "type": "\"string\""
                },
                {
                  "metadata": "{}",
                  "name": "length_residence",
                  "type": "\"integer\""
                },
                {
                  "metadata": "{}",
                  "name": "home_market_value",
                  "type": "\"integer\""
                },
                {
                  "metadata": "{}",
                  "name": "net_worth",
                  "type": "\"integer\""
                },
                {
                  "metadata": "{}",
                  "name": "education_highest",
                  "type": "\"integer\""
                },
                {
                  "metadata": "{}",
                  "name": "gender_individual",
                  "type": "\"string\""
                }
              ],
              "type": "table"
            }
          }
        }
      ],
      "source": [
        "demographic_df = spark.read.parquet(\"/dbfs/mnt/coursedata2024/fwm-stb-data/Project2_demographic.parquet\")\n",
        "\n",
        "demographic_df = demographic_df.withColumn(\"household_id\", col(\"household_id\").cast(LongType()))\n",
        "\n",
        "demographic_df.printSchema()\n",
        "display(demographic_df.limit(10))"
      ]
    },
    {
      "cell_type": "code",
      "execution_count": null,
      "metadata": {
        "application/vnd.databricks.v1+cell": {
          "cellMetadata": {
            "byteLimit": 2048000,
            "rowLimit": 10000
          },
          "inputWidgets": {},
          "nuid": "85ed0f13-cb7f-4e09-a610-02efa7ec1dac",
          "showTitle": false,
          "title": ""
        },
        "id": "wvH-SIh86QLb",
        "outputId": "eb1c4c1a-cc7c-4341-b88c-d691223a4a39"
      },
      "outputs": [
        {
          "output_type": "stream",
          "name": "stdout",
          "text": [
            "root\n |-- device_id: string (nullable = true)\n |-- event_date: integer (nullable = true)\n |-- event_time: integer (nullable = true)\n |-- station_num: string (nullable = true)\n |-- prog_code: string (nullable = true)\n |-- household_id: long (nullable = true)\n\n"
          ]
        },
        {
          "output_type": "display_data",
          "data": {
            "text/html": [
              "<style scoped>\n",
              "  .table-result-container {\n",
              "    max-height: 300px;\n",
              "    overflow: auto;\n",
              "  }\n",
              "  table, th, td {\n",
              "    border: 1px solid black;\n",
              "    border-collapse: collapse;\n",
              "  }\n",
              "  th, td {\n",
              "    padding: 5px;\n",
              "  }\n",
              "  th {\n",
              "    text-align: left;\n",
              "  }\n",
              "</style><div class='table-result-container'><table class='table-result'><thead style='background-color: white'><tr><th>device_id</th><th>event_date</th><th>event_time</th><th>station_num</th><th>prog_code</th><th>household_id</th></tr></thead><tbody><tr><td>000000d8b042</td><td>20151101</td><td>500</td><td>31709</td><td>EP015686040014</td><td>1463331</td></tr><tr><td>000000fb0fe7</td><td>20151101</td><td>230000</td><td>11006</td><td>EP001151270249</td><td>1447701</td></tr><tr><td>0000010e4717</td><td>20151101</td><td>13000</td><td>49788</td><td>EP003267331348</td><td>1447541</td></tr><tr><td>0000015ce10e</td><td>20151101</td><td>153432</td><td>50001</td><td>EP013605340004</td><td>2880783</td></tr><tr><td>000004351a40</td><td>20151101</td><td>65207</td><td>59636</td><td>SP003189620000</td><td>2882159</td></tr><tr><td>000004d26feb</td><td>20151101</td><td>210550</td><td>14988</td><td>MV002161540000</td><td>405836</td></tr><tr><td>000005ac0b7c</td><td>20151101</td><td>194211</td><td>63322</td><td>EP015662900055</td><td>397950</td></tr><tr><td>000013fb3e40</td><td>20151101</td><td>123000</td><td>16374</td><td>SH006818540000</td><td>399721</td></tr><tr><td>00001602e18b</td><td>20151101</td><td>64445</td><td>18090</td><td>SP003189620000</td><td>400046</td></tr><tr><td>000002c427cf</td><td>20151101</td><td>52403</td><td>59337</td><td>MV002415180000</td><td>1300668</td></tr></tbody></table></div>"
            ]
          },
          "metadata": {
            "application/vnd.databricks.v1+output": {
              "addedWidgets": {},
              "aggData": [],
              "aggError": "",
              "aggOverflow": false,
              "aggSchema": [],
              "aggSeriesLimitReached": false,
              "aggType": "",
              "arguments": {},
              "columnCustomDisplayInfos": {},
              "data": [
                [
                  "000000d8b042",
                  20151101,
                  500,
                  "31709",
                  "EP015686040014",
                  1463331
                ],
                [
                  "000000fb0fe7",
                  20151101,
                  230000,
                  "11006",
                  "EP001151270249",
                  1447701
                ],
                [
                  "0000010e4717",
                  20151101,
                  13000,
                  "49788",
                  "EP003267331348",
                  1447541
                ],
                [
                  "0000015ce10e",
                  20151101,
                  153432,
                  "50001",
                  "EP013605340004",
                  2880783
                ],
                [
                  "000004351a40",
                  20151101,
                  65207,
                  "59636",
                  "SP003189620000",
                  2882159
                ],
                [
                  "000004d26feb",
                  20151101,
                  210550,
                  "14988",
                  "MV002161540000",
                  405836
                ],
                [
                  "000005ac0b7c",
                  20151101,
                  194211,
                  "63322",
                  "EP015662900055",
                  397950
                ],
                [
                  "000013fb3e40",
                  20151101,
                  123000,
                  "16374",
                  "SH006818540000",
                  399721
                ],
                [
                  "00001602e18b",
                  20151101,
                  64445,
                  "18090",
                  "SP003189620000",
                  400046
                ],
                [
                  "000002c427cf",
                  20151101,
                  52403,
                  "59337",
                  "MV002415180000",
                  1300668
                ]
              ],
              "datasetInfos": [],
              "dbfsResultPath": null,
              "isJsonSchema": true,
              "metadata": {},
              "overflow": false,
              "plotOptions": {
                "customPlotOptions": {},
                "displayType": "table",
                "pivotAggregation": null,
                "pivotColumns": null,
                "xColumns": null,
                "yColumns": null
              },
              "removedWidgets": [],
              "schema": [
                {
                  "metadata": "{}",
                  "name": "device_id",
                  "type": "\"string\""
                },
                {
                  "metadata": "{}",
                  "name": "event_date",
                  "type": "\"integer\""
                },
                {
                  "metadata": "{}",
                  "name": "event_time",
                  "type": "\"integer\""
                },
                {
                  "metadata": "{}",
                  "name": "station_num",
                  "type": "\"string\""
                },
                {
                  "metadata": "{}",
                  "name": "prog_code",
                  "type": "\"string\""
                },
                {
                  "metadata": "{}",
                  "name": "household_id",
                  "type": "\"long\""
                }
              ],
              "type": "table"
            }
          }
        }
      ],
      "source": [
        "static_viewing_df = spark.read.parquet(\"/dbfs/mnt/coursedata2024/fwm-stb-data/Project2_static_viewing_data.parquet\")\n",
        "\n",
        "static_viewing_df = static_viewing_df.withColumn(\"household_id\", col(\"household_id\").cast(LongType()))\n",
        "\n",
        "static_viewing_df.printSchema()\n",
        "display(static_viewing_df.limit(10))"
      ]
    },
    {
      "cell_type": "markdown",
      "metadata": {
        "application/vnd.databricks.v1+cell": {
          "cellMetadata": {
            "byteLimit": 2048000,
            "rowLimit": 10000
          },
          "inputWidgets": {},
          "nuid": "7d19491c-f6d1-4cc8-8996-eb1e79de5686",
          "showTitle": false,
          "title": ""
        },
        "id": "T8h4YFcz6QLb"
      },
      "source": [
        "# Static Data Analysis"
      ]
    },
    {
      "cell_type": "markdown",
      "metadata": {
        "application/vnd.databricks.v1+cell": {
          "cellMetadata": {
            "byteLimit": 2048000,
            "rowLimit": 10000
          },
          "inputWidgets": {},
          "nuid": "c47377c0-a2f5-475c-8586-487f7918799a",
          "showTitle": false,
          "title": ""
        },
        "id": "dUH6-CeT6QLb"
      },
      "source": [
        "## Feature Extraction"
      ]
    },
    {
      "cell_type": "code",
      "execution_count": null,
      "metadata": {
        "application/vnd.databricks.v1+cell": {
          "cellMetadata": {
            "byteLimit": 2048000,
            "rowLimit": 10000
          },
          "inputWidgets": {},
          "nuid": "d3cf57c0-04e5-4f2a-96a9-23fd2b593d12",
          "showTitle": false,
          "title": ""
        },
        "id": "COnyea4f6QLb",
        "outputId": "ecfe0722-f593-4634-90f8-79bb84c56f4b"
      },
      "outputs": [
        {
          "output_type": "display_data",
          "data": {
            "text/html": [
              "<style scoped>\n",
              "  .table-result-container {\n",
              "    max-height: 300px;\n",
              "    overflow: auto;\n",
              "  }\n",
              "  table, th, td {\n",
              "    border: 1px solid black;\n",
              "    border-collapse: collapse;\n",
              "  }\n",
              "  th, td {\n",
              "    padding: 5px;\n",
              "  }\n",
              "  th {\n",
              "    text-align: left;\n",
              "  }\n",
              "</style><div class='table-result-container'><table class='table-result'><thead style='background-color: white'><tr><th>household_id</th><th>features</th></tr></thead><tbody><tr><td>15</td><td>Map(vectorType -> dense, length -> 16, values -> List(0.125, 0.2, 0.0, 0.3333333333333333, 0.2222222222222222, 0.625, 1.0, 0.0, 1.0, 0.0, 0.0, 0.0, 1.0, 1.0, 1.0, 1.0))</td></tr><tr><td>28</td><td>Map(vectorType -> dense, length -> 16, values -> List(0.25, 0.2, 0.5, 0.2, 0.3888888888888889, 0.5, 0.3333333333333333, 0.0, 1.0, 0.0, 1.0, 0.0, 0.0, 1.0, 1.0, 1.0))</td></tr><tr><td>56</td><td>Map(vectorType -> dense, length -> 16, values -> List(0.125, 0.2, 0.0, 0.26666666666666666, 0.5, 0.5, 0.0, 0.0, 1.0, 0.0, 1.0, 0.0, 0.0, 1.0, 1.0, 1.0))</td></tr><tr><td>61</td><td>Map(vectorType -> dense, length -> 16, values -> List(0.125, 0.2, 0.5, 1.0, 0.3888888888888889, 0.875, 0.0, 1.0, 0.0, 0.0, 1.0, 0.0, 0.0, 1.0, 1.0, 1.0))</td></tr><tr><td>98</td><td>Map(vectorType -> dense, length -> 16, values -> List(0.25, 0.2, 0.5, 0.26666666666666666, 0.6666666666666666, 0.75, 0.0, 1.0, 0.0, 0.0, 1.0, 0.0, 0.0, 1.0, 1.0, 0.0))</td></tr><tr><td>111</td><td>Map(vectorType -> dense, length -> 16, values -> List(0.125, 0.2, 0.0, 1.0, 0.16666666666666666, 0.875, 0.3333333333333333, 0.0, 1.0, 0.0, 1.0, 0.0, 0.0, 1.0, 1.0, 1.0))</td></tr><tr><td>122</td><td>Map(vectorType -> dense, length -> 16, values -> List(0.25, 0.2, 0.5, 0.5333333333333333, 0.3333333333333333, 0.75, 0.3333333333333333, 1.0, 0.0, 0.0, 1.0, 0.0, 0.0, 1.0, 1.0, 0.0))</td></tr><tr><td>130</td><td>Map(vectorType -> dense, length -> 16, values -> List(0.125, 0.2, 0.5, 0.5333333333333333, 0.3888888888888889, 0.625, 0.3333333333333333, 0.0, 1.0, 0.0, 1.0, 0.0, 0.0, 1.0, 1.0, 1.0))</td></tr><tr><td>145</td><td>Map(vectorType -> sparse, length -> 16, indices -> List(3, 4, 5, 10, 13, 14, 15), values -> List(0.2, 0.2777777777777778, 0.5, 1.0, 1.0, 1.0, 1.0))</td></tr><tr><td>160</td><td>Map(vectorType -> dense, length -> 16, values -> List(0.125, 0.2, 0.0, 1.0, 0.2777777777777778, 0.625, 0.0, 0.0, 0.0, 1.0, 1.0, 0.0, 0.0, 1.0, 1.0, 1.0))</td></tr></tbody></table></div>"
            ]
          },
          "metadata": {
            "application/vnd.databricks.v1+output": {
              "addedWidgets": {},
              "aggData": [],
              "aggError": "",
              "aggOverflow": false,
              "aggSchema": [],
              "aggSeriesLimitReached": false,
              "aggType": "",
              "arguments": {},
              "columnCustomDisplayInfos": {},
              "data": [
                [
                  15,
                  {
                    "length": 16,
                    "values": [
                      0.125,
                      0.2,
                      0,
                      0.3333333333333333,
                      0.2222222222222222,
                      0.625,
                      1,
                      0,
                      1,
                      0,
                      0,
                      0,
                      1,
                      1,
                      1,
                      1
                    ],
                    "vectorType": "dense"
                  }
                ],
                [
                  28,
                  {
                    "length": 16,
                    "values": [
                      0.25,
                      0.2,
                      0.5,
                      0.2,
                      0.3888888888888889,
                      0.5,
                      0.3333333333333333,
                      0,
                      1,
                      0,
                      1,
                      0,
                      0,
                      1,
                      1,
                      1
                    ],
                    "vectorType": "dense"
                  }
                ],
                [
                  56,
                  {
                    "length": 16,
                    "values": [
                      0.125,
                      0.2,
                      0,
                      0.26666666666666666,
                      0.5,
                      0.5,
                      0,
                      0,
                      1,
                      0,
                      1,
                      0,
                      0,
                      1,
                      1,
                      1
                    ],
                    "vectorType": "dense"
                  }
                ],
                [
                  61,
                  {
                    "length": 16,
                    "values": [
                      0.125,
                      0.2,
                      0.5,
                      1,
                      0.3888888888888889,
                      0.875,
                      0,
                      1,
                      0,
                      0,
                      1,
                      0,
                      0,
                      1,
                      1,
                      1
                    ],
                    "vectorType": "dense"
                  }
                ],
                [
                  98,
                  {
                    "length": 16,
                    "values": [
                      0.25,
                      0.2,
                      0.5,
                      0.26666666666666666,
                      0.6666666666666666,
                      0.75,
                      0,
                      1,
                      0,
                      0,
                      1,
                      0,
                      0,
                      1,
                      1,
                      0
                    ],
                    "vectorType": "dense"
                  }
                ],
                [
                  111,
                  {
                    "length": 16,
                    "values": [
                      0.125,
                      0.2,
                      0,
                      1,
                      0.16666666666666666,
                      0.875,
                      0.3333333333333333,
                      0,
                      1,
                      0,
                      1,
                      0,
                      0,
                      1,
                      1,
                      1
                    ],
                    "vectorType": "dense"
                  }
                ],
                [
                  122,
                  {
                    "length": 16,
                    "values": [
                      0.25,
                      0.2,
                      0.5,
                      0.5333333333333333,
                      0.3333333333333333,
                      0.75,
                      0.3333333333333333,
                      1,
                      0,
                      0,
                      1,
                      0,
                      0,
                      1,
                      1,
                      0
                    ],
                    "vectorType": "dense"
                  }
                ],
                [
                  130,
                  {
                    "length": 16,
                    "values": [
                      0.125,
                      0.2,
                      0.5,
                      0.5333333333333333,
                      0.3888888888888889,
                      0.625,
                      0.3333333333333333,
                      0,
                      1,
                      0,
                      1,
                      0,
                      0,
                      1,
                      1,
                      1
                    ],
                    "vectorType": "dense"
                  }
                ],
                [
                  145,
                  {
                    "indices": [
                      3,
                      4,
                      5,
                      10,
                      13,
                      14,
                      15
                    ],
                    "length": 16,
                    "values": [
                      0.2,
                      0.2777777777777778,
                      0.5,
                      1,
                      1,
                      1,
                      1
                    ],
                    "vectorType": "sparse"
                  }
                ],
                [
                  160,
                  {
                    "length": 16,
                    "values": [
                      0.125,
                      0.2,
                      0,
                      1,
                      0.2777777777777778,
                      0.625,
                      0,
                      0,
                      0,
                      1,
                      1,
                      0,
                      0,
                      1,
                      1,
                      1
                    ],
                    "vectorType": "dense"
                  }
                ]
              ],
              "datasetInfos": [],
              "dbfsResultPath": null,
              "isJsonSchema": true,
              "metadata": {},
              "overflow": false,
              "plotOptions": {
                "customPlotOptions": {},
                "displayType": "table",
                "pivotAggregation": null,
                "pivotColumns": null,
                "xColumns": null,
                "yColumns": null
              },
              "removedWidgets": [],
              "schema": [
                {
                  "metadata": "{}",
                  "name": "household_id",
                  "type": "\"long\""
                },
                {
                  "metadata": "{\"ml_attr\":{\"attrs\":{\"numeric\":[{\"idx\":0,\"name\":\"household_size\"},{\"idx\":1,\"name\":\"num_adults\"},{\"idx\":2,\"name\":\"num_generations\"},{\"idx\":3,\"name\":\"length_residence\"},{\"idx\":4,\"name\":\"home_market_value\"},{\"idx\":5,\"name\":\"net_worth\"},{\"idx\":6,\"name\":\"education_highest\"}],\"binary\":[{\"idx\":7,\"name\":\"marital_status_encoded_M\"},{\"idx\":8,\"name\":\"marital_status_encoded_S\"},{\"idx\":9,\"name\":\"marital_status_encoded_A\"},{\"idx\":10,\"name\":\"race_code_encoded_W\"},{\"idx\":11,\"name\":\"race_code_encoded_H\"},{\"idx\":12,\"name\":\"race_code_encoded_B\"},{\"idx\":13,\"name\":\"dwelling_type_encoded_S\"},{\"idx\":14,\"name\":\"home_owner_status_encoded_O\"},{\"idx\":15,\"name\":\"gender_individual_encoded_M\"}]},\"num_attrs\":16}}",
                  "name": "features",
                  "type": "{\"type\":\"udt\",\"class\":\"org.apache.spark.ml.linalg.VectorUDT\",\"pyClass\":\"pyspark.ml.linalg.VectorUDT\",\"sqlType\":{\"type\":\"struct\",\"fields\":[{\"name\":\"type\",\"type\":\"byte\",\"nullable\":false,\"metadata\":{}},{\"name\":\"size\",\"type\":\"integer\",\"nullable\":true,\"metadata\":{}},{\"name\":\"indices\",\"type\":{\"type\":\"array\",\"elementType\":\"integer\",\"containsNull\":false},\"nullable\":true,\"metadata\":{}},{\"name\":\"values\",\"type\":{\"type\":\"array\",\"elementType\":\"double\",\"containsNull\":false},\"nullable\":true,\"metadata\":{}}]}}"
                }
              ],
              "type": "table"
            }
          }
        }
      ],
      "source": [
        "numerical_variables = ['household_size', 'num_adults', 'num_generations', 'length_residence', 'home_market_value', 'net_worth', 'education_highest']\n",
        "\n",
        "categorial_variables = ['marital_status', 'race_code', 'dwelling_type', 'home_owner_status', 'gender_individual']\n",
        "\n",
        "demographic_df_normalize = demographic_df\n",
        "\n",
        "for var in numerical_variables:\n",
        "    max_var_value = demographic_df_normalize.agg(f.max(var)).collect()[0][0]\n",
        "    min_var_value = demographic_df_normalize.agg(f.min(var)).collect()[0][0]\n",
        "    demographic_df_normalize = demographic_df_normalize.withColumn(var, (f.col(var) - min_var_value)/ (max_var_value - min_var_value))\n",
        "\n",
        "for var in categorial_variables:\n",
        "    indexer = StringIndexer(inputCol=var, outputCol=var + \"_index\")\n",
        "    demographic_df_normalize = indexer.fit(demographic_df_normalize).transform(demographic_df_normalize)\n",
        "\n",
        "    encoder = OneHotEncoder(inputCol=var + \"_index\", outputCol=var+\"_encoded\")\n",
        "    model = encoder.fit(demographic_df_normalize)\n",
        "    demographic_df_normalize = model.transform(demographic_df_normalize)\n",
        "\n",
        "\n",
        "assembler = VectorAssembler(\n",
        "    inputCols=numerical_variables + [var + \"_encoded\" for var in categorial_variables],\n",
        "    outputCol=\"features\")\n",
        "\n",
        "demographic_df_normalize = assembler.transform(demographic_df_normalize)\n",
        "demographic_df_normalize = demographic_df_normalize.select(\"household_id\",\"features\")\n",
        "\n",
        "display(demographic_df_normalize.limit(10))"
      ]
    },
    {
      "cell_type": "markdown",
      "metadata": {
        "application/vnd.databricks.v1+cell": {
          "cellMetadata": {
            "byteLimit": 2048000,
            "rowLimit": 10000
          },
          "inputWidgets": {},
          "nuid": "80d00c8d-8c30-4687-83f3-5bef2f5ddcbf",
          "showTitle": false,
          "title": ""
        },
        "id": "g5ljtq0C6QLc"
      },
      "source": [
        "## Visual Analysis"
      ]
    },
    {
      "cell_type": "code",
      "execution_count": null,
      "metadata": {
        "application/vnd.databricks.v1+cell": {
          "cellMetadata": {
            "byteLimit": 2048000,
            "rowLimit": 10000
          },
          "inputWidgets": {},
          "nuid": "97823cdc-dea4-49d5-976a-3226a50d757a",
          "showTitle": false,
          "title": ""
        },
        "id": "3nb5QpI36QLc",
        "outputId": "5afea8ef-74c3-47f0-fd7f-3cf3b655b608"
      },
      "outputs": [
        {
          "output_type": "display_data",
          "data": {
            "text/html": [
              "<style scoped>\n",
              "  .table-result-container {\n",
              "    max-height: 300px;\n",
              "    overflow: auto;\n",
              "  }\n",
              "  table, th, td {\n",
              "    border: 1px solid black;\n",
              "    border-collapse: collapse;\n",
              "  }\n",
              "  th, td {\n",
              "    padding: 5px;\n",
              "  }\n",
              "  th {\n",
              "    text-align: left;\n",
              "  }\n",
              "</style><div class='table-result-container'><table class='table-result'><thead style='background-color: white'><tr><th>household_id</th><th>original_features</th><th>projected_features</th></tr></thead><tbody><tr><td>15</td><td>List(0.125, 0.2, 0.0, 0.3333333333333333, 0.2222222222222222, 0.625, 1.0, 0.0, 1.0, 0.0, 0.0, 0.0, 1.0, 1.0, 1.0, 1.0)</td><td>List(0.0016194122503428504, -0.003387300004152642)</td></tr><tr><td>28</td><td>List(0.25, 0.2, 0.5, 0.2, 0.3888888888888889, 0.5, 0.3333333333333333, 0.0, 1.0, 0.0, 1.0, 0.0, 0.0, 1.0, 1.0, 1.0)</td><td>List(0.0019925765357273802, -0.0036278922184046335)</td></tr><tr><td>56</td><td>List(0.125, 0.2, 0.0, 0.26666666666666666, 0.5, 0.5, 0.0, 0.0, 1.0, 0.0, 1.0, 0.0, 0.0, 1.0, 1.0, 1.0)</td><td>List(0.0018858638558191918, -0.0037497411833248527)</td></tr><tr><td>61</td><td>List(0.125, 0.2, 0.5, 1.0, 0.3888888888888889, 0.875, 0.0, 1.0, 0.0, 0.0, 1.0, 0.0, 0.0, 1.0, 1.0, 1.0)</td><td>List(0.002485444175929986, 0.0010321056582340599)</td></tr><tr><td>98</td><td>List(0.25, 0.2, 0.5, 0.26666666666666666, 0.6666666666666666, 0.75, 0.0, 1.0, 0.0, 0.0, 1.0, 0.0, 0.0, 1.0, 1.0, 0.0)</td><td>List(0.0020538677719737514, 0.0015202860238672407)</td></tr><tr><td>111</td><td>List(0.125, 0.2, 0.0, 1.0, 0.16666666666666666, 0.875, 0.3333333333333333, 0.0, 1.0, 0.0, 1.0, 0.0, 0.0, 1.0, 1.0, 1.0)</td><td>List(0.002197449730310477, -0.0037600840410148923)</td></tr><tr><td>122</td><td>List(0.25, 0.2, 0.5, 0.5333333333333333, 0.3333333333333333, 0.75, 0.3333333333333333, 1.0, 0.0, 0.0, 1.0, 0.0, 0.0, 1.0, 1.0, 0.0)</td><td>List(0.0021154792226826895, 0.0015539111234403402)</td></tr><tr><td>130</td><td>List(0.125, 0.2, 0.5, 0.5333333333333333, 0.3888888888888889, 0.625, 0.3333333333333333, 0.0, 1.0, 0.0, 1.0, 0.0, 0.0, 1.0, 1.0, 1.0)</td><td>List(0.0021134187789530225, -0.003663937490515139)</td></tr><tr><td>145</td><td>List(0.0, 0.0, 0.0, 0.2, 0.2777777777777778, 0.5, 0.0, 0.0, 0.0, 0.0, 1.0, 0.0, 0.0, 1.0, 1.0, 1.0)</td><td>List(0.0017005890063343902, -0.0016944065734397446)</td></tr><tr><td>160</td><td>List(0.125, 0.2, 0.0, 1.0, 0.2777777777777778, 0.625, 0.0, 0.0, 0.0, 1.0, 1.0, 0.0, 0.0, 1.0, 1.0, 1.0)</td><td>List(0.0020798896427833154, -0.002278669703194091)</td></tr></tbody></table></div>"
            ]
          },
          "metadata": {
            "application/vnd.databricks.v1+output": {
              "addedWidgets": {},
              "aggData": [],
              "aggError": "",
              "aggOverflow": false,
              "aggSchema": [],
              "aggSeriesLimitReached": false,
              "aggType": "",
              "arguments": {},
              "columnCustomDisplayInfos": {},
              "data": [
                [
                  15,
                  [
                    0.125,
                    0.2,
                    0,
                    0.3333333333333333,
                    0.2222222222222222,
                    0.625,
                    1,
                    0,
                    1,
                    0,
                    0,
                    0,
                    1,
                    1,
                    1,
                    1
                  ],
                  [
                    0.0016194122503428504,
                    -0.003387300004152642
                  ]
                ],
                [
                  28,
                  [
                    0.25,
                    0.2,
                    0.5,
                    0.2,
                    0.3888888888888889,
                    0.5,
                    0.3333333333333333,
                    0,
                    1,
                    0,
                    1,
                    0,
                    0,
                    1,
                    1,
                    1
                  ],
                  [
                    0.0019925765357273802,
                    -0.0036278922184046335
                  ]
                ],
                [
                  56,
                  [
                    0.125,
                    0.2,
                    0,
                    0.26666666666666666,
                    0.5,
                    0.5,
                    0,
                    0,
                    1,
                    0,
                    1,
                    0,
                    0,
                    1,
                    1,
                    1
                  ],
                  [
                    0.0018858638558191918,
                    -0.0037497411833248527
                  ]
                ],
                [
                  61,
                  [
                    0.125,
                    0.2,
                    0.5,
                    1,
                    0.3888888888888889,
                    0.875,
                    0,
                    1,
                    0,
                    0,
                    1,
                    0,
                    0,
                    1,
                    1,
                    1
                  ],
                  [
                    0.002485444175929986,
                    0.0010321056582340599
                  ]
                ],
                [
                  98,
                  [
                    0.25,
                    0.2,
                    0.5,
                    0.26666666666666666,
                    0.6666666666666666,
                    0.75,
                    0,
                    1,
                    0,
                    0,
                    1,
                    0,
                    0,
                    1,
                    1,
                    0
                  ],
                  [
                    0.0020538677719737514,
                    0.0015202860238672407
                  ]
                ],
                [
                  111,
                  [
                    0.125,
                    0.2,
                    0,
                    1,
                    0.16666666666666666,
                    0.875,
                    0.3333333333333333,
                    0,
                    1,
                    0,
                    1,
                    0,
                    0,
                    1,
                    1,
                    1
                  ],
                  [
                    0.002197449730310477,
                    -0.0037600840410148923
                  ]
                ],
                [
                  122,
                  [
                    0.25,
                    0.2,
                    0.5,
                    0.5333333333333333,
                    0.3333333333333333,
                    0.75,
                    0.3333333333333333,
                    1,
                    0,
                    0,
                    1,
                    0,
                    0,
                    1,
                    1,
                    0
                  ],
                  [
                    0.0021154792226826895,
                    0.0015539111234403402
                  ]
                ],
                [
                  130,
                  [
                    0.125,
                    0.2,
                    0.5,
                    0.5333333333333333,
                    0.3888888888888889,
                    0.625,
                    0.3333333333333333,
                    0,
                    1,
                    0,
                    1,
                    0,
                    0,
                    1,
                    1,
                    1
                  ],
                  [
                    0.0021134187789530225,
                    -0.003663937490515139
                  ]
                ],
                [
                  145,
                  [
                    0,
                    0,
                    0,
                    0.2,
                    0.2777777777777778,
                    0.5,
                    0,
                    0,
                    0,
                    0,
                    1,
                    0,
                    0,
                    1,
                    1,
                    1
                  ],
                  [
                    0.0017005890063343902,
                    -0.0016944065734397446
                  ]
                ],
                [
                  160,
                  [
                    0.125,
                    0.2,
                    0,
                    1,
                    0.2777777777777778,
                    0.625,
                    0,
                    0,
                    0,
                    1,
                    1,
                    0,
                    0,
                    1,
                    1,
                    1
                  ],
                  [
                    0.0020798896427833154,
                    -0.002278669703194091
                  ]
                ]
              ],
              "datasetInfos": [],
              "dbfsResultPath": null,
              "isJsonSchema": true,
              "metadata": {},
              "overflow": false,
              "plotOptions": {
                "customPlotOptions": {},
                "displayType": "table",
                "pivotAggregation": null,
                "pivotColumns": null,
                "xColumns": null,
                "yColumns": null
              },
              "removedWidgets": [],
              "schema": [
                {
                  "metadata": "{}",
                  "name": "household_id",
                  "type": "\"long\""
                },
                {
                  "metadata": "{}",
                  "name": "original_features",
                  "type": "{\"type\":\"array\",\"elementType\":\"double\",\"containsNull\":true}"
                },
                {
                  "metadata": "{}",
                  "name": "projected_features",
                  "type": "{\"type\":\"array\",\"elementType\":\"double\",\"containsNull\":true}"
                }
              ],
              "type": "table"
            }
          }
        },
        {
          "output_type": "execute_result",
          "data": {
            "text/plain": [
              "<Axes: xlabel='svd_1', ylabel='svd_2'>"
            ]
          },
          "execution_count": 9,
          "metadata": {}
        },
        {
          "output_type": "display_data",
          "data": {
            "image/png": "[encoded data removed]",
            "text/plain": [
              "<Figure size 640x480 with 1 Axes>"
            ]
          },
          "metadata": {}
        }
      ],
      "source": [
        "features_rdd = demographic_df_normalize.select(\"household_id\", \"features\").rdd.map(lambda row: (row.household_id, MLLibVectors.dense(row.features.toArray())))\n",
        "mat = RowMatrix(features_rdd.map(lambda x: x[1]))\n",
        "svd = mat.computeSVD(2, computeU=True)\n",
        "U = svd.U\n",
        "\n",
        "projected_df = features_rdd.zip(U.rows).map(lambda x: (\n",
        "    x[0][0],\n",
        "    x[0][1].toArray().tolist(),\n",
        "    x[1].toArray().tolist()\n",
        ")).toDF([\"household_id\", \"original_features\", \"projected_features\"])\n",
        "\n",
        "projected_df = projected_df.withColumn(\"svd_1\", col(\"projected_features\")[0])\n",
        "projected_df = projected_df.withColumn(\"svd_2\", col(\"projected_features\")[1])\n",
        "\n",
        "\n",
        "display(projected_df.select(\"household_id\", \"original_features\", \"projected_features\").limit(10))\n",
        "projected_df.toPandas().plot.scatter(x='svd_1', y='svd_2')\n"
      ]
    },
    {
      "cell_type": "markdown",
      "metadata": {
        "application/vnd.databricks.v1+cell": {
          "cellMetadata": {
            "byteLimit": 2048000,
            "rowLimit": 10000
          },
          "inputWidgets": {},
          "nuid": "1d142534-78c8-4305-a7ab-4081ed764dde",
          "showTitle": false,
          "title": ""
        },
        "id": "r0ewoI7k6QLc"
      },
      "source": [
        "## Clustering"
      ]
    },
    {
      "cell_type": "code",
      "execution_count": null,
      "metadata": {
        "application/vnd.databricks.v1+cell": {
          "cellMetadata": {
            "byteLimit": 2048000,
            "rowLimit": 10000
          },
          "inputWidgets": {},
          "nuid": "e60912a8-4914-4b0e-af41-eb4385c8b160",
          "showTitle": false,
          "title": ""
        },
        "id": "MfCVcikQ6QLc",
        "outputId": "78e95a78-cbee-4873-b8f3-bdbc3df075b1"
      },
      "outputs": [
        {
          "output_type": "display_data",
          "data": {
            "text/html": [
              "<style scoped>\n",
              "  .table-result-container {\n",
              "    max-height: 300px;\n",
              "    overflow: auto;\n",
              "  }\n",
              "  table, th, td {\n",
              "    border: 1px solid black;\n",
              "    border-collapse: collapse;\n",
              "  }\n",
              "  th, td {\n",
              "    padding: 5px;\n",
              "  }\n",
              "  th {\n",
              "    text-align: left;\n",
              "  }\n",
              "</style><div class='table-result-container'><table class='table-result'><thead style='background-color: white'><tr><th>household_id</th><th>features</th><th>prediction</th><th>distance_from_centroid</th></tr></thead><tbody><tr><td>15</td><td>Map(vectorType -> dense, length -> 16, values -> List(0.125, 0.2, 0.0, 0.3333333333333333, 0.2222222222222222, 0.625, 1.0, 0.0, 1.0, 0.0, 0.0, 0.0, 1.0, 1.0, 1.0, 1.0))</td><td>2</td><td>1.450782563315443</td></tr><tr><td>28</td><td>Map(vectorType -> dense, length -> 16, values -> List(0.25, 0.2, 0.5, 0.2, 0.3888888888888889, 0.5, 0.3333333333333333, 0.0, 1.0, 0.0, 1.0, 0.0, 0.0, 1.0, 1.0, 1.0))</td><td>7</td><td>0.7245586446112136</td></tr><tr><td>56</td><td>Map(vectorType -> dense, length -> 16, values -> List(0.125, 0.2, 0.0, 0.26666666666666666, 0.5, 0.5, 0.0, 0.0, 1.0, 0.0, 1.0, 0.0, 0.0, 1.0, 1.0, 1.0))</td><td>7</td><td>0.7831719347939347</td></tr><tr><td>61</td><td>Map(vectorType -> dense, length -> 16, values -> List(0.125, 0.2, 0.5, 1.0, 0.3888888888888889, 0.875, 0.0, 1.0, 0.0, 0.0, 1.0, 0.0, 0.0, 1.0, 1.0, 1.0))</td><td>5</td><td>0.4757532522236078</td></tr><tr><td>98</td><td>Map(vectorType -> dense, length -> 16, values -> List(0.25, 0.2, 0.5, 0.26666666666666666, 0.6666666666666666, 0.75, 0.0, 1.0, 0.0, 0.0, 1.0, 0.0, 0.0, 1.0, 1.0, 0.0))</td><td>3</td><td>0.6366364391274877</td></tr><tr><td>111</td><td>Map(vectorType -> dense, length -> 16, values -> List(0.125, 0.2, 0.0, 1.0, 0.16666666666666666, 0.875, 0.3333333333333333, 0.0, 1.0, 0.0, 1.0, 0.0, 0.0, 1.0, 1.0, 1.0))</td><td>7</td><td>0.7639255209838841</td></tr><tr><td>122</td><td>Map(vectorType -> dense, length -> 16, values -> List(0.25, 0.2, 0.5, 0.5333333333333333, 0.3333333333333333, 0.75, 0.3333333333333333, 1.0, 0.0, 0.0, 1.0, 0.0, 0.0, 1.0, 1.0, 0.0))</td><td>3</td><td>0.30510101093309056</td></tr><tr><td>130</td><td>Map(vectorType -> dense, length -> 16, values -> List(0.125, 0.2, 0.5, 0.5333333333333333, 0.3888888888888889, 0.625, 0.3333333333333333, 0.0, 1.0, 0.0, 1.0, 0.0, 0.0, 1.0, 1.0, 1.0))</td><td>7</td><td>0.5628629498957646</td></tr><tr><td>145</td><td>Map(vectorType -> sparse, length -> 16, indices -> List(3, 4, 5, 10, 13, 14, 15), values -> List(0.2, 0.2777777777777778, 0.5, 1.0, 1.0, 1.0, 1.0))</td><td>6</td><td>1.236909318809367</td></tr><tr><td>160</td><td>Map(vectorType -> dense, length -> 16, values -> List(0.125, 0.2, 0.0, 1.0, 0.2777777777777778, 0.625, 0.0, 0.0, 0.0, 1.0, 1.0, 0.0, 0.0, 1.0, 1.0, 1.0))</td><td>6</td><td>0.7211004938403033</td></tr></tbody></table></div>"
            ]
          },
          "metadata": {
            "application/vnd.databricks.v1+output": {
              "addedWidgets": {},
              "aggData": [],
              "aggError": "",
              "aggOverflow": false,
              "aggSchema": [],
              "aggSeriesLimitReached": false,
              "aggType": "",
              "arguments": {},
              "columnCustomDisplayInfos": {},
              "data": [
                [
                  15,
                  {
                    "length": 16,
                    "values": [
                      0.125,
                      0.2,
                      0,
                      0.3333333333333333,
                      0.2222222222222222,
                      0.625,
                      1,
                      0,
                      1,
                      0,
                      0,
                      0,
                      1,
                      1,
                      1,
                      1
                    ],
                    "vectorType": "dense"
                  },
                  2,
                  1.450782563315443
                ],
                [
                  28,
                  {
                    "length": 16,
                    "values": [
                      0.25,
                      0.2,
                      0.5,
                      0.2,
                      0.3888888888888889,
                      0.5,
                      0.3333333333333333,
                      0,
                      1,
                      0,
                      1,
                      0,
                      0,
                      1,
                      1,
                      1
                    ],
                    "vectorType": "dense"
                  },
                  7,
                  0.7245586446112136
                ],
                [
                  56,
                  {
                    "length": 16,
                    "values": [
                      0.125,
                      0.2,
                      0,
                      0.26666666666666666,
                      0.5,
                      0.5,
                      0,
                      0,
                      1,
                      0,
                      1,
                      0,
                      0,
                      1,
                      1,
                      1
                    ],
                    "vectorType": "dense"
                  },
                  7,
                  0.7831719347939347
                ],
                [
                  61,
                  {
                    "length": 16,
                    "values": [
                      0.125,
                      0.2,
                      0.5,
                      1,
                      0.3888888888888889,
                      0.875,
                      0,
                      1,
                      0,
                      0,
                      1,
                      0,
                      0,
                      1,
                      1,
                      1
                    ],
                    "vectorType": "dense"
                  },
                  5,
                  0.4757532522236078
                ],
                [
                  98,
                  {
                    "length": 16,
                    "values": [
                      0.25,
                      0.2,
                      0.5,
                      0.26666666666666666,
                      0.6666666666666666,
                      0.75,
                      0,
                      1,
                      0,
                      0,
                      1,
                      0,
                      0,
                      1,
                      1,
                      0
                    ],
                    "vectorType": "dense"
                  },
                  3,
                  0.6366364391274877
                ],
                [
                  111,
                  {
                    "length": 16,
                    "values": [
                      0.125,
                      0.2,
                      0,
                      1,
                      0.16666666666666666,
                      0.875,
                      0.3333333333333333,
                      0,
                      1,
                      0,
                      1,
                      0,
                      0,
                      1,
                      1,
                      1
                    ],
                    "vectorType": "dense"
                  },
                  7,
                  0.7639255209838841
                ],
                [
                  122,
                  {
                    "length": 16,
                    "values": [
                      0.25,
                      0.2,
                      0.5,
                      0.5333333333333333,
                      0.3333333333333333,
                      0.75,
                      0.3333333333333333,
                      1,
                      0,
                      0,
                      1,
                      0,
                      0,
                      1,
                      1,
                      0
                    ],
                    "vectorType": "dense"
                  },
                  3,
                  0.30510101093309056
                ],
                [
                  130,
                  {
                    "length": 16,
                    "values": [
                      0.125,
                      0.2,
                      0.5,
                      0.5333333333333333,
                      0.3888888888888889,
                      0.625,
                      0.3333333333333333,
                      0,
                      1,
                      0,
                      1,
                      0,
                      0,
                      1,
                      1,
                      1
                    ],
                    "vectorType": "dense"
                  },
                  7,
                  0.5628629498957646
                ],
                [
                  145,
                  {
                    "indices": [
                      3,
                      4,
                      5,
                      10,
                      13,
                      14,
                      15
                    ],
                    "length": 16,
                    "values": [
                      0.2,
                      0.2777777777777778,
                      0.5,
                      1,
                      1,
                      1,
                      1
                    ],
                    "vectorType": "sparse"
                  },
                  6,
                  1.236909318809367
                ],
                [
                  160,
                  {
                    "length": 16,
                    "values": [
                      0.125,
                      0.2,
                      0,
                      1,
                      0.2777777777777778,
                      0.625,
                      0,
                      0,
                      0,
                      1,
                      1,
                      0,
                      0,
                      1,
                      1,
                      1
                    ],
                    "vectorType": "dense"
                  },
                  6,
                  0.7211004938403033
                ]
              ],
              "datasetInfos": [],
              "dbfsResultPath": null,
              "isJsonSchema": true,
              "metadata": {},
              "overflow": false,
              "plotOptions": {
                "customPlotOptions": {},
                "displayType": "table",
                "pivotAggregation": null,
                "pivotColumns": null,
                "xColumns": null,
                "yColumns": null
              },
              "removedWidgets": [],
              "schema": [
                {
                  "metadata": "{}",
                  "name": "household_id",
                  "type": "\"long\""
                },
                {
                  "metadata": "{\"ml_attr\":{\"attrs\":{\"numeric\":[{\"idx\":0,\"name\":\"household_size\"},{\"idx\":1,\"name\":\"num_adults\"},{\"idx\":2,\"name\":\"num_generations\"},{\"idx\":3,\"name\":\"length_residence\"},{\"idx\":4,\"name\":\"home_market_value\"},{\"idx\":5,\"name\":\"net_worth\"},{\"idx\":6,\"name\":\"education_highest\"}],\"binary\":[{\"idx\":7,\"name\":\"marital_status_encoded_M\"},{\"idx\":8,\"name\":\"marital_status_encoded_S\"},{\"idx\":9,\"name\":\"marital_status_encoded_A\"},{\"idx\":10,\"name\":\"race_code_encoded_W\"},{\"idx\":11,\"name\":\"race_code_encoded_H\"},{\"idx\":12,\"name\":\"race_code_encoded_B\"},{\"idx\":13,\"name\":\"dwelling_type_encoded_S\"},{\"idx\":14,\"name\":\"home_owner_status_encoded_O\"},{\"idx\":15,\"name\":\"gender_individual_encoded_M\"}]},\"num_attrs\":16}}",
                  "name": "features",
                  "type": "{\"type\":\"udt\",\"class\":\"org.apache.spark.ml.linalg.VectorUDT\",\"pyClass\":\"pyspark.ml.linalg.VectorUDT\",\"sqlType\":{\"type\":\"struct\",\"fields\":[{\"name\":\"type\",\"type\":\"byte\",\"nullable\":false,\"metadata\":{}},{\"name\":\"size\",\"type\":\"integer\",\"nullable\":true,\"metadata\":{}},{\"name\":\"indices\",\"type\":{\"type\":\"array\",\"elementType\":\"integer\",\"containsNull\":false},\"nullable\":true,\"metadata\":{}},{\"name\":\"values\",\"type\":{\"type\":\"array\",\"elementType\":\"double\",\"containsNull\":false},\"nullable\":true,\"metadata\":{}}]}}"
                },
                {
                  "metadata": "{\"ml_attr\":{\"type\":\"nominal\",\"num_vals\":8}}",
                  "name": "prediction",
                  "type": "\"integer\""
                },
                {
                  "metadata": "{}",
                  "name": "distance_from_centroid",
                  "type": "\"double\""
                }
              ],
              "type": "table"
            }
          }
        }
      ],
      "source": [
        "df = demographic_df_normalize.select(\"household_id\", \"features\")\n",
        "\n",
        "kmeans = KMeans(k=8, seed=7, featuresCol=\"features\")\n",
        "model = kmeans.fit(df)\n",
        "\n",
        "df_with_clusters = model.transform(df)\n",
        "\n",
        "centroids = model.clusterCenters()\n",
        "broadcast_centroids = spark.sparkContext.broadcast(centroids)\n",
        "\n",
        "def distance_and_centroid(features, cluster):\n",
        "    centroid = broadcast_centroids.value[cluster]\n",
        "    distance = sum((x - y) ** 2 for x, y in zip(features, centroid)) ** 0.5\n",
        "    return float(distance)\n",
        "\n",
        "distance_udf = udf(distance_and_centroid, DoubleType())\n",
        "\n",
        "df_with_distances = df_with_clusters.withColumn(\n",
        "    \"distance_from_centroid\",\n",
        "    distance_udf(col(\"features\"), col(\"prediction\"))\n",
        ")\n",
        "\n",
        "display(df_with_distances.select(\"household_id\", \"features\", \"prediction\", \"distance_from_centroid\").limit(10))"
      ]
    },
    {
      "cell_type": "markdown",
      "metadata": {
        "application/vnd.databricks.v1+cell": {
          "cellMetadata": {
            "byteLimit": 2048000,
            "rowLimit": 10000
          },
          "inputWidgets": {},
          "nuid": "c2228027-ba0c-4def-b12a-da6f8f565ba0",
          "showTitle": false,
          "title": ""
        },
        "id": "-bVva_bV6QLd"
      },
      "source": [
        "## Visual Clustering"
      ]
    },
    {
      "cell_type": "code",
      "execution_count": null,
      "metadata": {
        "application/vnd.databricks.v1+cell": {
          "cellMetadata": {
            "byteLimit": 2048000,
            "rowLimit": 10000
          },
          "inputWidgets": {},
          "nuid": "1bc29cfd-b592-42eb-ad37-508b9169ee5e",
          "showTitle": false,
          "title": ""
        },
        "id": "HeJQ2hVl6QLd",
        "outputId": "19ef6a8e-7bbe-41d8-b053-92e5d0c27c2d"
      },
      "outputs": [
        {
          "output_type": "display_data",
          "data": {
            "text/html": [
              "<style scoped>\n",
              "  .table-result-container {\n",
              "    max-height: 300px;\n",
              "    overflow: auto;\n",
              "  }\n",
              "  table, th, td {\n",
              "    border: 1px solid black;\n",
              "    border-collapse: collapse;\n",
              "  }\n",
              "  th, td {\n",
              "    padding: 5px;\n",
              "  }\n",
              "  th {\n",
              "    text-align: left;\n",
              "  }\n",
              "</style><div class='table-result-container'><table class='table-result'><thead style='background-color: white'><tr><th>household_id</th><th>features</th><th>prediction</th><th>distance_from_centroid</th><th>pca_features</th></tr></thead><tbody><tr><td>15</td><td>Map(vectorType -> dense, length -> 16, values -> List(0.125, 0.2, 0.0, 0.3333333333333333, 0.2222222222222222, 0.625, 1.0, 0.0, 1.0, 0.0, 0.0, 0.0, 1.0, 1.0, 1.0, 1.0))</td><td>2</td><td>1.450782563315443</td><td>Map(vectorType -> dense, length -> 2, values -> List(0.28813137809056155, -0.9958620783545076))</td></tr><tr><td>28</td><td>Map(vectorType -> dense, length -> 16, values -> List(0.25, 0.2, 0.5, 0.2, 0.3888888888888889, 0.5, 0.3333333333333333, 0.0, 1.0, 0.0, 1.0, 0.0, 0.0, 1.0, 1.0, 1.0))</td><td>7</td><td>0.7245586446112136</td><td>Map(vectorType -> dense, length -> 2, values -> List(0.1843991618917935, -1.0324235165319495))</td></tr><tr><td>56</td><td>Map(vectorType -> dense, length -> 16, values -> List(0.125, 0.2, 0.0, 0.26666666666666666, 0.5, 0.5, 0.0, 0.0, 1.0, 0.0, 1.0, 0.0, 0.0, 1.0, 1.0, 1.0))</td><td>7</td><td>0.7831719347939347</td><td>Map(vectorType -> dense, length -> 2, values -> List(0.2584861200037278, -1.0280513115368473))</td></tr><tr><td>61</td><td>Map(vectorType -> dense, length -> 16, values -> List(0.125, 0.2, 0.5, 1.0, 0.3888888888888889, 0.875, 0.0, 1.0, 0.0, 0.0, 1.0, 0.0, 0.0, 1.0, 1.0, 1.0))</td><td>5</td><td>0.4757532522236078</td><td>Map(vectorType -> dense, length -> 2, values -> List(-1.2255110792896229, -0.9706140726906686))</td></tr><tr><td>98</td><td>Map(vectorType -> dense, length -> 16, values -> List(0.25, 0.2, 0.5, 0.26666666666666666, 0.6666666666666666, 0.75, 0.0, 1.0, 0.0, 0.0, 1.0, 0.0, 0.0, 1.0, 1.0, 0.0))</td><td>3</td><td>0.6366364391274877</td><td>Map(vectorType -> dense, length -> 2, values -> List(-1.0895069959187025, -0.002050552412943926))</td></tr><tr><td>111</td><td>Map(vectorType -> dense, length -> 16, values -> List(0.125, 0.2, 0.0, 1.0, 0.16666666666666666, 0.875, 0.3333333333333333, 0.0, 1.0, 0.0, 1.0, 0.0, 0.0, 1.0, 1.0, 1.0))</td><td>7</td><td>0.7639255209838841</td><td>Map(vectorType -> dense, length -> 2, values -> List(0.1534645637850226, -1.0106084265978124))</td></tr><tr><td>122</td><td>Map(vectorType -> dense, length -> 16, values -> List(0.25, 0.2, 0.5, 0.5333333333333333, 0.3333333333333333, 0.75, 0.3333333333333333, 1.0, 0.0, 0.0, 1.0, 0.0, 0.0, 1.0, 1.0, 0.0))</td><td>3</td><td>0.30510101093309056</td><td>Map(vectorType -> dense, length -> 2, values -> List(-1.1204431862196194, 0.009796392133612053))</td></tr><tr><td>130</td><td>Map(vectorType -> dense, length -> 16, values -> List(0.125, 0.2, 0.5, 0.5333333333333333, 0.3888888888888889, 0.625, 0.3333333333333333, 0.0, 1.0, 0.0, 1.0, 0.0, 0.0, 1.0, 1.0, 1.0))</td><td>7</td><td>0.5628629498957646</td><td>Map(vectorType -> dense, length -> 2, values -> List(0.1521701473223459, -1.0255308266001226))</td></tr><tr><td>145</td><td>Map(vectorType -> sparse, length -> 16, indices -> List(3, 4, 5, 10, 13, 14, 15), values -> List(0.2, 0.2777777777777778, 0.5, 1.0, 1.0, 1.0, 1.0))</td><td>6</td><td>1.236909318809367</td><td>Map(vectorType -> dense, length -> 2, values -> List(-0.23800234905484932, -1.0503897954507146))</td></tr><tr><td>160</td><td>Map(vectorType -> dense, length -> 16, values -> List(0.125, 0.2, 0.0, 1.0, 0.2777777777777778, 0.625, 0.0, 0.0, 0.0, 1.0, 1.0, 0.0, 0.0, 1.0, 1.0, 1.0))</td><td>6</td><td>0.7211004938403033</td><td>Map(vectorType -> dense, length -> 2, values -> List(-0.2221993338766552, -1.147328087379702))</td></tr></tbody></table></div>"
            ]
          },
          "metadata": {
            "application/vnd.databricks.v1+output": {
              "addedWidgets": {},
              "aggData": [],
              "aggError": "",
              "aggOverflow": false,
              "aggSchema": [],
              "aggSeriesLimitReached": false,
              "aggType": "",
              "arguments": {},
              "columnCustomDisplayInfos": {},
              "data": [
                [
                  15,
                  {
                    "length": 16,
                    "values": [
                      0.125,
                      0.2,
                      0,
                      0.3333333333333333,
                      0.2222222222222222,
                      0.625,
                      1,
                      0,
                      1,
                      0,
                      0,
                      0,
                      1,
                      1,
                      1,
                      1
                    ],
                    "vectorType": "dense"
                  },
                  2,
                  1.450782563315443,
                  {
                    "length": 2,
                    "values": [
                      0.28813137809056155,
                      -0.9958620783545076
                    ],
                    "vectorType": "dense"
                  }
                ],
                [
                  28,
                  {
                    "length": 16,
                    "values": [
                      0.25,
                      0.2,
                      0.5,
                      0.2,
                      0.3888888888888889,
                      0.5,
                      0.3333333333333333,
                      0,
                      1,
                      0,
                      1,
                      0,
                      0,
                      1,
                      1,
                      1
                    ],
                    "vectorType": "dense"
                  },
                  7,
                  0.7245586446112136,
                  {
                    "length": 2,
                    "values": [
                      0.1843991618917935,
                      -1.0324235165319495
                    ],
                    "vectorType": "dense"
                  }
                ],
                [
                  56,
                  {
                    "length": 16,
                    "values": [
                      0.125,
                      0.2,
                      0,
                      0.26666666666666666,
                      0.5,
                      0.5,
                      0,
                      0,
                      1,
                      0,
                      1,
                      0,
                      0,
                      1,
                      1,
                      1
                    ],
                    "vectorType": "dense"
                  },
                  7,
                  0.7831719347939347,
                  {
                    "length": 2,
                    "values": [
                      0.2584861200037278,
                      -1.0280513115368473
                    ],
                    "vectorType": "dense"
                  }
                ],
                [
                  61,
                  {
                    "length": 16,
                    "values": [
                      0.125,
                      0.2,
                      0.5,
                      1,
                      0.3888888888888889,
                      0.875,
                      0,
                      1,
                      0,
                      0,
                      1,
                      0,
                      0,
                      1,
                      1,
                      1
                    ],
                    "vectorType": "dense"
                  },
                  5,
                  0.4757532522236078,
                  {
                    "length": 2,
                    "values": [
                      -1.2255110792896229,
                      -0.9706140726906686
                    ],
                    "vectorType": "dense"
                  }
                ],
                [
                  98,
                  {
                    "length": 16,
                    "values": [
                      0.25,
                      0.2,
                      0.5,
                      0.26666666666666666,
                      0.6666666666666666,
                      0.75,
                      0,
                      1,
                      0,
                      0,
                      1,
                      0,
                      0,
                      1,
                      1,
                      0
                    ],
                    "vectorType": "dense"
                  },
                  3,
                  0.6366364391274877,
                  {
                    "length": 2,
                    "values": [
                      -1.0895069959187025,
                      -0.002050552412943926
                    ],
                    "vectorType": "dense"
                  }
                ],
                [
                  111,
                  {
                    "length": 16,
                    "values": [
                      0.125,
                      0.2,
                      0,
                      1,
                      0.16666666666666666,
                      0.875,
                      0.3333333333333333,
                      0,
                      1,
                      0,
                      1,
                      0,
                      0,
                      1,
                      1,
                      1
                    ],
                    "vectorType": "dense"
                  },
                  7,
                  0.7639255209838841,
                  {
                    "length": 2,
                    "values": [
                      0.1534645637850226,
                      -1.0106084265978124
                    ],
                    "vectorType": "dense"
                  }
                ],
                [
                  122,
                  {
                    "length": 16,
                    "values": [
                      0.25,
                      0.2,
                      0.5,
                      0.5333333333333333,
                      0.3333333333333333,
                      0.75,
                      0.3333333333333333,
                      1,
                      0,
                      0,
                      1,
                      0,
                      0,
                      1,
                      1,
                      0
                    ],
                    "vectorType": "dense"
                  },
                  3,
                  0.30510101093309056,
                  {
                    "length": 2,
                    "values": [
                      -1.1204431862196194,
                      0.009796392133612053
                    ],
                    "vectorType": "dense"
                  }
                ],
                [
                  130,
                  {
                    "length": 16,
                    "values": [
                      0.125,
                      0.2,
                      0.5,
                      0.5333333333333333,
                      0.3888888888888889,
                      0.625,
                      0.3333333333333333,
                      0,
                      1,
                      0,
                      1,
                      0,
                      0,
                      1,
                      1,
                      1
                    ],
                    "vectorType": "dense"
                  },
                  7,
                  0.5628629498957646,
                  {
                    "length": 2,
                    "values": [
                      0.1521701473223459,
                      -1.0255308266001226
                    ],
                    "vectorType": "dense"
                  }
                ],
                [
                  145,
                  {
                    "indices": [
                      3,
                      4,
                      5,
                      10,
                      13,
                      14,
                      15
                    ],
                    "length": 16,
                    "values": [
                      0.2,
                      0.2777777777777778,
                      0.5,
                      1,
                      1,
                      1,
                      1
                    ],
                    "vectorType": "sparse"
                  },
                  6,
                  1.236909318809367,
                  {
                    "length": 2,
                    "values": [
                      -0.23800234905484932,
                      -1.0503897954507146
                    ],
                    "vectorType": "dense"
                  }
                ],
                [
                  160,
                  {
                    "length": 16,
                    "values": [
                      0.125,
                      0.2,
                      0,
                      1,
                      0.2777777777777778,
                      0.625,
                      0,
                      0,
                      0,
                      1,
                      1,
                      0,
                      0,
                      1,
                      1,
                      1
                    ],
                    "vectorType": "dense"
                  },
                  6,
                  0.7211004938403033,
                  {
                    "length": 2,
                    "values": [
                      -0.2221993338766552,
                      -1.147328087379702
                    ],
                    "vectorType": "dense"
                  }
                ]
              ],
              "datasetInfos": [],
              "dbfsResultPath": null,
              "isJsonSchema": true,
              "metadata": {},
              "overflow": false,
              "plotOptions": {
                "customPlotOptions": {},
                "displayType": "table",
                "pivotAggregation": null,
                "pivotColumns": null,
                "xColumns": null,
                "yColumns": null
              },
              "removedWidgets": [],
              "schema": [
                {
                  "metadata": "{}",
                  "name": "household_id",
                  "type": "\"long\""
                },
                {
                  "metadata": "{\"ml_attr\":{\"attrs\":{\"numeric\":[{\"idx\":0,\"name\":\"household_size\"},{\"idx\":1,\"name\":\"num_adults\"},{\"idx\":2,\"name\":\"num_generations\"},{\"idx\":3,\"name\":\"length_residence\"},{\"idx\":4,\"name\":\"home_market_value\"},{\"idx\":5,\"name\":\"net_worth\"},{\"idx\":6,\"name\":\"education_highest\"}],\"binary\":[{\"idx\":7,\"name\":\"marital_status_encoded_M\"},{\"idx\":8,\"name\":\"marital_status_encoded_S\"},{\"idx\":9,\"name\":\"marital_status_encoded_A\"},{\"idx\":10,\"name\":\"race_code_encoded_W\"},{\"idx\":11,\"name\":\"race_code_encoded_H\"},{\"idx\":12,\"name\":\"race_code_encoded_B\"},{\"idx\":13,\"name\":\"dwelling_type_encoded_S\"},{\"idx\":14,\"name\":\"home_owner_status_encoded_O\"},{\"idx\":15,\"name\":\"gender_individual_encoded_M\"}]},\"num_attrs\":16}}",
                  "name": "features",
                  "type": "{\"type\":\"udt\",\"class\":\"org.apache.spark.ml.linalg.VectorUDT\",\"pyClass\":\"pyspark.ml.linalg.VectorUDT\",\"sqlType\":{\"type\":\"struct\",\"fields\":[{\"name\":\"type\",\"type\":\"byte\",\"nullable\":false,\"metadata\":{}},{\"name\":\"size\",\"type\":\"integer\",\"nullable\":true,\"metadata\":{}},{\"name\":\"indices\",\"type\":{\"type\":\"array\",\"elementType\":\"integer\",\"containsNull\":false},\"nullable\":true,\"metadata\":{}},{\"name\":\"values\",\"type\":{\"type\":\"array\",\"elementType\":\"double\",\"containsNull\":false},\"nullable\":true,\"metadata\":{}}]}}"
                },
                {
                  "metadata": "{\"ml_attr\":{\"type\":\"nominal\",\"num_vals\":8}}",
                  "name": "prediction",
                  "type": "\"integer\""
                },
                {
                  "metadata": "{}",
                  "name": "distance_from_centroid",
                  "type": "\"double\""
                },
                {
                  "metadata": "{\"ml_attr\":{\"num_attrs\":2}}",
                  "name": "pca_features",
                  "type": "{\"type\":\"udt\",\"class\":\"org.apache.spark.ml.linalg.VectorUDT\",\"pyClass\":\"pyspark.ml.linalg.VectorUDT\",\"sqlType\":{\"type\":\"struct\",\"fields\":[{\"name\":\"type\",\"type\":\"byte\",\"nullable\":false,\"metadata\":{}},{\"name\":\"size\",\"type\":\"integer\",\"nullable\":true,\"metadata\":{}},{\"name\":\"indices\",\"type\":{\"type\":\"array\",\"elementType\":\"integer\",\"containsNull\":false},\"nullable\":true,\"metadata\":{}},{\"name\":\"values\",\"type\":{\"type\":\"array\",\"elementType\":\"double\",\"containsNull\":false},\"nullable\":true,\"metadata\":{}}]}}"
                }
              ],
              "type": "table"
            }
          }
        },
        {
          "output_type": "display_data",
          "data": {
            "image/png": "[encoded data removed]",
            "text/plain": [
              "<Figure size 1200x800 with 1 Axes>"
            ]
          },
          "metadata": {}
        }
      ],
      "source": [
        "from pyspark.ml.functions import vector_to_array\n",
        "\n",
        "pca = PCA(inputCol=\"features\", outputCol=\"pca_features\", k=2)\n",
        "reduced_features = pca.fit(df_with_distances).transform(df_with_distances)\n",
        "\n",
        "display(reduced_features.limit(10))\n",
        "\n",
        "# Convert PCA features to columns\n",
        "reduced_features = reduced_features.select(\n",
        "    \"household_id\",\n",
        "    \"prediction\",\n",
        "    vector_to_array(\"pca_features\").alias(\"pca_features\")\n",
        ")\n",
        "reduced_features = reduced_features.select(\n",
        "    \"household_id\",\n",
        "    \"prediction\",\n",
        "    reduced_features.pca_features[0].alias(\"pca1\"),\n",
        "    reduced_features.pca_features[1].alias(\"pca2\")\n",
        ")\n",
        "\n",
        "# Convert to Pandas DataFrame for visualization\n",
        "pandas_df = reduced_features.toPandas()\n",
        "\n",
        "# Create the scatter plot\n",
        "plt.figure(figsize=(12, 8))\n",
        "sns.scatterplot(data=pandas_df, x=\"pca1\", y=\"pca2\", hue=\"prediction\", palette=\"rocket\")\n",
        "plt.title(\"PCA-reduced Features Clustered by K-means\")\n",
        "plt.xlabel(\"First Principal Component\")\n",
        "plt.ylabel(\"Second Principal Component\")\n",
        "plt.legend(title=\"Cluster\")\n",
        "plt.show()"
      ]
    },
    {
      "cell_type": "markdown",
      "metadata": {
        "application/vnd.databricks.v1+cell": {
          "cellMetadata": {
            "byteLimit": 2048000,
            "rowLimit": 10000
          },
          "inputWidgets": {},
          "nuid": "538b99ab-5af5-497f-9357-5f589a1cc4a8",
          "showTitle": false,
          "title": ""
        },
        "id": "H57tZP946QLd"
      },
      "source": [
        "## Dividing households into subsets"
      ]
    },
    {
      "cell_type": "code",
      "execution_count": null,
      "metadata": {
        "application/vnd.databricks.v1+cell": {
          "cellMetadata": {
            "byteLimit": 2048000,
            "rowLimit": 10000
          },
          "inputWidgets": {},
          "nuid": "1347b39d-9815-4f2e-8266-042718b81bce",
          "showTitle": false,
          "title": ""
        },
        "id": "gz0ByCRn6QLd"
      },
      "outputs": [],
      "source": [
        "from pyspark.sql.window import Window\n",
        "from pyspark.sql.functions import row_number\n",
        "\n",
        "windowSpec = Window.partitionBy(\"prediction\").orderBy(\"distance_from_centroid\")\n",
        "df_with_rank = df_with_distances.withColumn(\"rank\", row_number().over(windowSpec))\n",
        "\n",
        "seventh_subset = df_with_rank.where(\"rank % 7 == 0\")\n",
        "eleventh_subset = df_with_rank.where(\"rank % 11 == 0\")\n",
        "\n",
        "seventh_subset_dict = {}\n",
        "eleventh_subset_dict = {}\n",
        "full_subset_dict = {}\n",
        "\n",
        "for i in range(8):\n",
        "    full_subset_dict[f\"full_subset_{i}\"] = df_with_rank.where(f\"prediction == {i}\")\n",
        "    seventh_subset_dict[f\"seventh_subset_{i}\"] = seventh_subset.where(f\"prediction == {i}\")\n",
        "    eleventh_subset_dict[f\"eleventh_subset_{i}\"] = eleventh_subset.where(f\"prediction == {i}\")"
      ]
    },
    {
      "cell_type": "code",
      "execution_count": null,
      "metadata": {
        "application/vnd.databricks.v1+cell": {
          "cellMetadata": {
            "byteLimit": 2048000,
            "rowLimit": 10000
          },
          "inputWidgets": {},
          "nuid": "9a0a9495-c5b7-4497-be05-d3ce38f6d85d",
          "showTitle": false,
          "title": ""
        },
        "id": "lsstnSuk6QLd",
        "outputId": "67253758-5c98-4d00-fb64-81809eea6158"
      },
      "outputs": [
        {
          "output_type": "stream",
          "name": "stdout",
          "text": [
            "full subset, cluster 0:\n+------------+------------------------------------------------------------------------------------------------------------------+----------+----------------------+----+\n|household_id|features                                                                                                          |prediction|distance_from_centroid|rank|\n+------------+------------------------------------------------------------------------------------------------------------------+----------+----------------------+----+\n|3988444     |[0.25,0.4,0.5,0.5333333333333333,0.3333333333333333,0.625,0.3333333333333333,0.0,0.0,1.0,1.0,0.0,0.0,1.0,1.0,0.0] |0         |0.18794519460027      |1   |\n|3608088     |[0.25,0.4,0.5,0.6,0.3888888888888889,0.625,0.3333333333333333,0.0,0.0,1.0,1.0,0.0,0.0,1.0,1.0,0.0]                |0         |0.19179988447268123   |2   |\n|2310297     |[0.375,0.4,0.5,0.5333333333333333,0.3888888888888889,0.75,0.3333333333333333,0.0,0.0,1.0,1.0,0.0,0.0,1.0,1.0,0.0] |0         |0.19564962349401832   |3   |\n|2096522     |[0.375,0.4,0.5,0.5333333333333333,0.3333333333333333,0.625,0.3333333333333333,0.0,0.0,1.0,1.0,0.0,0.0,1.0,1.0,0.0]|0         |0.19732343528688873   |4   |\n|2594718     |[0.25,0.4,0.5,0.5333333333333333,0.4444444444444444,0.75,0.3333333333333333,0.0,0.0,1.0,1.0,0.0,0.0,1.0,1.0,0.0]  |0         |0.20142188947508388   |5   |\n|3299258     |[0.25,0.4,0.5,0.5333333333333333,0.4444444444444444,0.625,0.3333333333333333,0.0,0.0,1.0,1.0,0.0,0.0,1.0,1.0,0.0] |0         |0.20238785862806907   |6   |\n|2456701     |[0.25,0.4,0.5,0.5333333333333333,0.2777777777777778,0.625,0.3333333333333333,0.0,0.0,1.0,1.0,0.0,0.0,1.0,1.0,0.0] |0         |0.20436225399821675   |7   |\n|29371       |[0.25,0.4,0.5,0.4666666666666667,0.3888888888888889,0.75,0.3333333333333333,0.0,0.0,1.0,1.0,0.0,0.0,1.0,1.0,0.0]  |0         |0.20450679067460925   |8   |\n|1280656     |[0.25,0.4,0.5,0.4666666666666667,0.3888888888888889,0.75,0.3333333333333333,0.0,0.0,1.0,1.0,0.0,0.0,1.0,1.0,0.0]  |0         |0.20450679067460925   |9   |\n|2134657     |[0.25,0.4,0.5,0.6,0.4444444444444444,0.75,0.3333333333333333,0.0,0.0,1.0,1.0,0.0,0.0,1.0,1.0,0.0]                 |0         |0.20567516196623958   |10  |\n+------------+------------------------------------------------------------------------------------------------------------------+----------+----------------------+----+\nonly showing top 10 rows\n\nfull subset, cluster 1:\n+------------+------------------------------------------------------------------------------------------------------------------+----------+----------------------+----+\n|household_id|features                                                                                                          |prediction|distance_from_centroid|rank|\n+------------+------------------------------------------------------------------------------------------------------------------+----------+----------------------+----+\n|2992848     |[0.375,0.4,0.5,0.6666666666666666,0.3333333333333333,0.625,0.3333333333333333,1.0,0.0,0.0,0.0,1.0,0.0,1.0,1.0,1.0]|1         |0.7448425979233583    |1   |\n|2303217     |[0.25,0.4,0.5,0.6666666666666666,0.2777777777777778,0.625,0.3333333333333333,1.0,0.0,0.0,0.0,1.0,0.0,1.0,1.0,1.0] |1         |0.7450458160457175    |2   |\n|2536119     |[0.25,0.4,0.5,0.6,0.2777777777777778,0.625,0.3333333333333333,1.0,0.0,0.0,0.0,1.0,0.0,1.0,1.0,1.0]                |1         |0.7492966986635712    |3   |\n|1992211     |[0.375,0.4,0.5,0.7333333333333333,0.2222222222222222,0.625,0.3333333333333333,1.0,0.0,0.0,0.0,1.0,0.0,1.0,1.0,1.0]|1         |0.7499212112299403    |4   |\n|3660329     |[0.375,0.4,0.5,0.6666666666666666,0.3333333333333333,0.75,0.3333333333333333,1.0,0.0,0.0,0.0,1.0,0.0,1.0,1.0,1.0] |1         |0.7551172025579194    |5   |\n|3163218     |[0.25,0.4,0.5,0.6666666666666666,0.2777777777777778,0.625,0.0,1.0,0.0,0.0,0.0,1.0,0.0,1.0,1.0,1.0]                |1         |0.7553132515329716    |6   |\n|2213926     |[0.25,0.4,0.5,0.6666666666666666,0.16666666666666666,0.625,0.3333333333333333,1.0,0.0,0.0,0.0,1.0,0.0,1.0,1.0,1.0]|1         |0.7566331080007975    |7   |\n|2976623     |[0.25,0.4,0.5,0.6666666666666666,0.16666666666666666,0.625,0.3333333333333333,1.0,0.0,0.0,0.0,1.0,0.0,1.0,1.0,1.0]|1         |0.7566331080007975    |8   |\n|3831425     |[0.25,0.4,0.5,0.7333333333333333,0.16666666666666666,0.625,0.3333333333333333,1.0,0.0,0.0,0.0,1.0,0.0,1.0,1.0,1.0]|1         |0.7583075064846305    |9   |\n|24674       |[0.25,0.2,0.5,0.6666666666666666,0.2777777777777778,0.625,0.3333333333333333,1.0,0.0,0.0,0.0,1.0,0.0,1.0,1.0,1.0] |1         |0.758478675970241     |10  |\n+------------+------------------------------------------------------------------------------------------------------------------+----------+----------------------+----+\nonly showing top 10 rows\n\nfull subset, cluster 2:\n+------------+------------------------------------------------------------------------------------------------------------------+----------+----------------------+----+\n|household_id|features                                                                                                          |prediction|distance_from_centroid|rank|\n+------------+------------------------------------------------------------------------------------------------------------------+----------+----------------------+----+\n|2039251     |[0.25,0.4,0.5,0.6,0.2222222222222222,0.625,0.3333333333333333,1.0,0.0,0.0,0.0,0.0,1.0,1.0,1.0,0.0]                |2         |0.7561061381836993    |1   |\n|2334525     |[0.25,0.4,0.5,0.6,0.2222222222222222,0.625,0.3333333333333333,1.0,0.0,0.0,0.0,0.0,1.0,1.0,1.0,0.0]                |2         |0.7561061381836993    |2   |\n|1986363     |[0.25,0.4,0.5,0.7333333333333333,0.2222222222222222,0.625,0.3333333333333333,1.0,0.0,0.0,0.0,0.0,1.0,1.0,1.0,0.0] |2         |0.7576262359297661    |3   |\n|3767211     |[0.25,0.4,0.5,0.7333333333333333,0.2222222222222222,0.625,0.3333333333333333,1.0,0.0,0.0,0.0,0.0,1.0,1.0,1.0,0.0] |2         |0.7576262359297661    |4   |\n|4085294     |[0.25,0.4,0.5,0.6,0.16666666666666666,0.625,0.3333333333333333,1.0,0.0,0.0,0.0,0.0,1.0,1.0,1.0,0.0]               |2         |0.7598986236214598    |5   |\n|2799234     |[0.25,0.4,0.5,0.7333333333333333,0.16666666666666666,0.625,0.3333333333333333,1.0,0.0,0.0,0.0,0.0,1.0,1.0,1.0,0.0]|2         |0.7614111500049281    |6   |\n|3058426     |[0.25,0.2,0.5,0.6666666666666666,0.16666666666666666,0.625,0.3333333333333333,1.0,0.0,0.0,0.0,0.0,1.0,1.0,1.0,0.0]|2         |0.76546815840714      |7   |\n|3333876     |[0.25,0.4,0.5,0.6666666666666666,0.1111111111111111,0.625,0.3333333333333333,1.0,0.0,0.0,0.0,0.0,1.0,1.0,1.0,0.0] |2         |0.7655548640112334    |8   |\n|2597127     |[0.375,0.4,0.5,0.6,0.16666666666666666,0.625,0.3333333333333333,1.0,0.0,0.0,0.0,0.0,1.0,1.0,1.0,0.0]              |2         |0.7658896916015274    |9   |\n|2049252     |[0.25,0.4,0.5,0.6,0.1111111111111111,0.625,0.3333333333333333,1.0,0.0,0.0,0.0,0.0,1.0,1.0,1.0,0.0]                |2         |0.7677031872219128    |10  |\n+------------+------------------------------------------------------------------------------------------------------------------+----------+----------------------+----+\nonly showing top 10 rows\n\nfull subset, cluster 3:\n+------------+-----------------------------------------------------------------------------------------------------------------+----------+----------------------+----+\n|household_id|features                                                                                                         |prediction|distance_from_centroid|rank|\n+------------+-----------------------------------------------------------------------------------------------------------------+----------+----------------------+----+\n|2008130     |[0.25,0.4,0.5,0.7333333333333333,0.3333333333333333,0.75,0.3333333333333333,1.0,0.0,0.0,1.0,0.0,0.0,1.0,1.0,0.0] |3         |0.15719955691186827   |1   |\n|2085196     |[0.25,0.4,0.5,0.7333333333333333,0.3333333333333333,0.75,0.3333333333333333,1.0,0.0,0.0,1.0,0.0,0.0,1.0,1.0,0.0] |3         |0.15719955691186827   |2   |\n|3002684     |[0.25,0.4,0.5,0.7333333333333333,0.3333333333333333,0.75,0.3333333333333333,1.0,0.0,0.0,1.0,0.0,0.0,1.0,1.0,0.0] |3         |0.15719955691186827   |3   |\n|2795385     |[0.375,0.4,0.5,0.7333333333333333,0.3333333333333333,0.75,0.3333333333333333,1.0,0.0,0.0,1.0,0.0,0.0,1.0,1.0,0.0]|3         |0.15903288648052785   |4   |\n|2062298     |[0.25,0.4,0.5,0.7333333333333333,0.3888888888888889,0.75,0.3333333333333333,1.0,0.0,0.0,1.0,0.0,0.0,1.0,1.0,0.0] |3         |0.16430716327468006   |5   |\n|2455741     |[0.25,0.4,0.5,0.7333333333333333,0.3888888888888889,0.75,0.3333333333333333,1.0,0.0,0.0,1.0,0.0,0.0,1.0,1.0,0.0] |3         |0.16430716327468006   |6   |\n|2459250     |[0.25,0.4,0.5,0.7333333333333333,0.3888888888888889,0.75,0.3333333333333333,1.0,0.0,0.0,1.0,0.0,0.0,1.0,1.0,0.0] |3         |0.16430716327468006   |7   |\n|3665179     |[0.25,0.4,0.5,0.7333333333333333,0.3888888888888889,0.75,0.3333333333333333,1.0,0.0,0.0,1.0,0.0,0.0,1.0,1.0,0.0] |3         |0.16430716327468006   |8   |\n|2735630     |[0.375,0.4,0.5,0.7333333333333333,0.3888888888888889,0.75,0.3333333333333333,1.0,0.0,0.0,1.0,0.0,0.0,1.0,1.0,0.0]|3         |0.16606204320197052   |9   |\n|4687404     |[0.375,0.4,0.5,0.7333333333333333,0.3888888888888889,0.75,0.3333333333333333,1.0,0.0,0.0,1.0,0.0,0.0,1.0,1.0,0.0]|3         |0.16606204320197052   |10  |\n+------------+-----------------------------------------------------------------------------------------------------------------+----------+----------------------+----+\nonly showing top 10 rows\n\nfull subset, cluster 4:\n+------------+--------------------------------------------------------------------------------------------------------------+----------+----------------------+----+\n|household_id|features                                                                                                      |prediction|distance_from_centroid|rank|\n+------------+--------------------------------------------------------------------------------------------------------------+----------+----------------------+----+\n|3755544     |(16,[0,2,3,4,5,6,8,10],[0.125,0.5,0.5333333333333333,0.3333333333333333,0.5,0.3333333333333333,1.0,1.0])      |4         |0.7261121422549861    |1   |\n|2031485     |(16,[0,2,3,4,5,6,8,10],[0.125,0.5,0.5333333333333333,0.2777777777777778,0.5,0.3333333333333333,1.0,1.0])      |4         |0.7271499968586385    |2   |\n|2367522     |(16,[0,2,3,4,5,6,8,10],[0.125,0.5,0.4666666666666667,0.3333333333333333,0.5,0.3333333333333333,1.0,1.0])      |4         |0.7305653095793918    |3   |\n|3935874     |(16,[0,2,3,4,5,6,8,10],[0.125,0.5,0.5333333333333333,0.2222222222222222,0.5,0.3333333333333333,1.0,1.0])      |4         |0.7324126106499554    |4   |\n|2233237     |(16,[0,2,3,4,5,6,8,10],[0.125,0.5,0.6,0.2222222222222222,0.5,0.3333333333333333,1.0,1.0])                     |4         |0.7340506063598509    |5   |\n|1577068     |(16,[0,1,2,3,4,5,6,8,10],[0.125,0.2,0.5,0.5333333333333333,0.2222222222222222,0.5,0.3333333333333333,1.0,1.0])|4         |0.734929105553365     |6   |\n|3242362     |(16,[0,2,3,4,5,6,8,10],[0.125,0.5,0.6666666666666666,0.2777777777777778,0.5,0.3333333333333333,1.0,1.0])      |4         |0.7365053480707182    |7   |\n|2570306     |(16,[0,2,3,4,5,6,8,10],[0.125,0.5,0.5333333333333333,0.2777777777777778,0.375,0.3333333333333333,1.0,1.0])    |4         |0.7381458351552235    |8   |\n|1592472     |(16,[0,2,3,4,5,6,8,10],[0.125,0.5,0.4,0.3333333333333333,0.5,0.3333333333333333,1.0,1.0])                     |4         |0.7410137575513891    |9   |\n|3640042     |(16,[0,2,3,4,5,6,8,10],[0.125,0.5,0.4666666666666667,0.3333333333333333,0.375,0.3333333333333333,1.0,1.0])    |4         |0.7415105040296578    |10  |\n+------------+--------------------------------------------------------------------------------------------------------------+----------+----------------------+----+\nonly showing top 10 rows\n\nfull subset, cluster 5:\n+------------+-----------------------------------------------------------------------------------------------------------------+----------+----------------------+----+\n|household_id|features                                                                                                         |prediction|distance_from_centroid|rank|\n+------------+-----------------------------------------------------------------------------------------------------------------+----------+----------------------+----+\n|2823130     |[0.25,0.4,0.5,0.7333333333333333,0.3333333333333333,0.75,0.3333333333333333,1.0,0.0,0.0,1.0,0.0,0.0,1.0,1.0,1.0] |5         |0.1518627465930132    |1   |\n|2838392     |[0.25,0.4,0.5,0.7333333333333333,0.3333333333333333,0.75,0.3333333333333333,1.0,0.0,0.0,1.0,0.0,0.0,1.0,1.0,1.0] |5         |0.1518627465930132    |2   |\n|1480958     |[0.375,0.4,0.5,0.7333333333333333,0.3888888888888889,0.75,0.3333333333333333,1.0,0.0,0.0,1.0,0.0,0.0,1.0,1.0,1.0]|5         |0.15526184636913432   |3   |\n|1467865     |[0.25,0.4,0.5,0.7333333333333333,0.3888888888888889,0.75,0.3333333333333333,1.0,0.0,0.0,1.0,0.0,0.0,1.0,1.0,1.0] |5         |0.15659714438749614   |4   |\n|2201874     |[0.25,0.4,0.5,0.7333333333333333,0.3888888888888889,0.75,0.3333333333333333,1.0,0.0,0.0,1.0,0.0,0.0,1.0,1.0,1.0] |5         |0.15659714438749614   |5   |\n|2037847     |[0.25,0.4,0.5,0.7333333333333333,0.3333333333333333,0.625,0.3333333333333333,1.0,0.0,0.0,1.0,0.0,0.0,1.0,1.0,1.0]|5         |0.16197000523582658   |6   |\n|2143764     |[0.25,0.4,0.5,0.7333333333333333,0.3333333333333333,0.625,0.3333333333333333,1.0,0.0,0.0,1.0,0.0,0.0,1.0,1.0,1.0]|5         |0.16197000523582658   |7   |\n|2727722     |[0.25,0.4,0.5,0.7333333333333333,0.3333333333333333,0.625,0.3333333333333333,1.0,0.0,0.0,1.0,0.0,0.0,1.0,1.0,1.0]|5         |0.16197000523582658   |8   |\n|108767      |[0.375,0.4,0.5,0.6666666666666666,0.3333333333333333,0.75,0.3333333333333333,1.0,0.0,0.0,1.0,0.0,0.0,1.0,1.0,1.0]|5         |0.1633264533497945    |9   |\n|7563        |[0.375,0.4,0.5,0.7333333333333333,0.2777777777777778,0.75,0.3333333333333333,1.0,0.0,0.0,1.0,0.0,0.0,1.0,1.0,1.0]|5         |0.1654035573651194    |10  |\n+------------+-----------------------------------------------------------------------------------------------------------------+----------+----------------------+----+\nonly showing top 10 rows\n\nfull subset, cluster 6:\n+------------+-----------------------------------------------------------------------------------------------------------------+----------+----------------------+----+\n|household_id|features                                                                                                         |prediction|distance_from_centroid|rank|\n+------------+-----------------------------------------------------------------------------------------------------------------+----------+----------------------+----+\n|1596728     |[0.25,0.4,0.5,0.5333333333333333,0.3888888888888889,0.75,0.3333333333333333,0.0,0.0,1.0,1.0,0.0,0.0,1.0,1.0,1.0] |6         |0.1817949043216478    |1   |\n|2196880     |[0.25,0.4,0.5,0.5333333333333333,0.3888888888888889,0.75,0.3333333333333333,0.0,0.0,1.0,1.0,0.0,0.0,1.0,1.0,1.0] |6         |0.1817949043216478    |2   |\n|2356676     |[0.25,0.4,0.5,0.5333333333333333,0.3888888888888889,0.625,0.3333333333333333,0.0,0.0,1.0,1.0,0.0,0.0,1.0,1.0,1.0]|6         |0.1863000820468161    |3   |\n|3297326     |[0.25,0.4,0.5,0.6,0.3333333333333333,0.75,0.3333333333333333,0.0,0.0,1.0,1.0,0.0,0.0,1.0,1.0,1.0]                |6         |0.1893177821237726    |4   |\n|2059786     |[0.25,0.4,0.5,0.5333333333333333,0.4444444444444444,0.75,0.3333333333333333,0.0,0.0,1.0,1.0,0.0,0.0,1.0,1.0,1.0] |6         |0.19429942844937195   |5   |\n|3950601     |[0.375,0.4,0.5,0.5333333333333333,0.3888888888888889,0.75,0.3333333333333333,0.0,0.0,1.0,1.0,0.0,0.0,1.0,1.0,1.0]|6         |0.19620552861614093   |6   |\n|3958852     |[0.25,0.2,0.5,0.5333333333333333,0.3888888888888889,0.75,0.3333333333333333,0.0,0.0,1.0,1.0,0.0,0.0,1.0,1.0,1.0] |6         |0.1973676260937731    |7   |\n|2310556     |[0.25,0.4,0.5,0.5333333333333333,0.4444444444444444,0.625,0.3333333333333333,0.0,0.0,1.0,1.0,0.0,0.0,1.0,1.0,1.0]|6         |0.19852103472701818   |8   |\n|2687514     |[0.25,0.4,0.5,0.5333333333333333,0.4444444444444444,0.625,0.3333333333333333,0.0,0.0,1.0,1.0,0.0,0.0,1.0,1.0,1.0]|6         |0.19852103472701818   |9   |\n|2996704     |[0.25,0.4,0.5,0.5333333333333333,0.4444444444444444,0.625,0.3333333333333333,0.0,0.0,1.0,1.0,0.0,0.0,1.0,1.0,1.0]|6         |0.19852103472701818   |10  |\n+------------+-----------------------------------------------------------------------------------------------------------------+----------+----------------------+----+\nonly showing top 10 rows\n\nfull subset, cluster 7:\n+------------+------------------------------------------------------------------------------------------------------------------+----------+----------------------+----+\n|household_id|features                                                                                                          |prediction|distance_from_centroid|rank|\n+------------+------------------------------------------------------------------------------------------------------------------+----------+----------------------+----+\n|2273109     |[0.125,0.2,0.5,0.6666666666666666,0.3333333333333333,0.625,0.3333333333333333,0.0,1.0,0.0,1.0,0.0,0.0,1.0,1.0,0.0]|7         |0.5418003217080068    |1   |\n|2020866     |[0.125,0.2,0.5,0.6666666666666666,0.2777777777777778,0.625,0.3333333333333333,0.0,1.0,0.0,1.0,0.0,0.0,1.0,1.0,0.0]|7         |0.5431563147778562    |2   |\n|3937451     |[0.125,0.2,0.5,0.6666666666666666,0.2777777777777778,0.625,0.3333333333333333,0.0,1.0,0.0,1.0,0.0,0.0,1.0,1.0,0.0]|7         |0.5431563147778562    |3   |\n|2185561     |[0.25,0.2,0.5,0.6,0.3333333333333333,0.625,0.3333333333333333,0.0,1.0,0.0,1.0,0.0,0.0,1.0,1.0,0.0]                |7         |0.5442898265352675    |4   |\n|2734364     |[0.125,0.2,0.5,0.6666666666666666,0.3333333333333333,0.75,0.3333333333333333,0.0,1.0,0.0,1.0,0.0,0.0,1.0,1.0,0.0] |7         |0.5450461411944604    |5   |\n|4025941     |[0.125,0.2,0.5,0.6666666666666666,0.3333333333333333,0.75,0.3333333333333333,0.0,1.0,0.0,1.0,0.0,0.0,1.0,1.0,0.0] |7         |0.5450461411944604    |6   |\n|2401371     |[0.25,0.2,0.5,0.6,0.2777777777777778,0.625,0.3333333333333333,0.0,1.0,0.0,1.0,0.0,0.0,1.0,1.0,0.0]                |7         |0.5456396328621607    |7   |\n|2858276     |[0.25,0.2,0.5,0.6,0.2777777777777778,0.625,0.3333333333333333,0.0,1.0,0.0,1.0,0.0,0.0,1.0,1.0,0.0]                |7         |0.5456396328621607    |8   |\n|3721551     |[0.25,0.2,0.5,0.6,0.2777777777777778,0.625,0.3333333333333333,0.0,1.0,0.0,1.0,0.0,0.0,1.0,1.0,0.0]                |7         |0.5456396328621607    |9   |\n|36816       |[0.125,0.2,0.5,0.6,0.2777777777777778,0.75,0.3333333333333333,0.0,1.0,0.0,1.0,0.0,0.0,1.0,1.0,0.0]                |7         |0.5463864454173926    |10  |\n+------------+------------------------------------------------------------------------------------------------------------------+----------+----------------------+----+\nonly showing top 10 rows\n\nseventh subset, cluster 0:\n+------------+------------------------------------------------------------------------------------------------------------------+----------+----------------------+----+\n|household_id|features                                                                                                          |prediction|distance_from_centroid|rank|\n+------------+------------------------------------------------------------------------------------------------------------------+----------+----------------------+----+\n|2456701     |[0.25,0.4,0.5,0.5333333333333333,0.2777777777777778,0.625,0.3333333333333333,0.0,0.0,1.0,1.0,0.0,0.0,1.0,1.0,0.0] |0         |0.20436225399821675   |7   |\n|2922759     |[0.25,0.2,0.5,0.5333333333333333,0.3888888888888889,0.75,0.3333333333333333,0.0,0.0,1.0,1.0,0.0,0.0,1.0,1.0,0.0]  |0         |0.2097230321376343    |14  |\n|2698768     |[0.25,0.2,0.5,0.5333333333333333,0.3333333333333333,0.625,0.3333333333333333,0.0,0.0,1.0,1.0,0.0,0.0,1.0,1.0,0.0] |0         |0.2112853831884047    |21  |\n|3742286     |[0.25,0.4,0.5,0.6666666666666666,0.3888888888888889,0.75,0.3333333333333333,0.0,0.0,1.0,1.0,0.0,0.0,1.0,1.0,0.0]  |0         |0.2168352173942378    |28  |\n|75148       |[0.25,0.2,0.5,0.5333333333333333,0.4444444444444444,0.75,0.3333333333333333,0.0,0.0,1.0,1.0,0.0,0.0,1.0,1.0,0.0]  |0         |0.22335822021016052   |35  |\n|2776015     |[0.375,0.4,0.5,0.4666666666666667,0.4444444444444444,0.75,0.3333333333333333,0.0,0.0,1.0,1.0,0.0,0.0,1.0,1.0,0.0] |0         |0.22658621692098002   |42  |\n|3191233     |[0.375,0.4,0.5,0.4666666666666667,0.4444444444444444,0.625,0.3333333333333333,0.0,0.0,1.0,1.0,0.0,0.0,1.0,1.0,0.0]|0         |0.22744533729866565   |49  |\n|2445778     |[0.25,0.4,0.5,0.6666666666666666,0.2777777777777778,0.625,0.3333333333333333,0.0,0.0,1.0,1.0,0.0,0.0,1.0,1.0,0.0] |0         |0.23262804888571045   |56  |\n|1479723     |[0.375,0.2,0.5,0.6,0.2777777777777778,0.75,0.3333333333333333,0.0,0.0,1.0,1.0,0.0,0.0,1.0,1.0,0.0]                |0         |0.23672054559086864   |63  |\n|2336268     |[0.375,0.2,0.5,0.6,0.2777777777777778,0.625,0.3333333333333333,0.0,0.0,1.0,1.0,0.0,0.0,1.0,1.0,0.0]               |0         |0.23754301603116199   |70  |\n+------------+------------------------------------------------------------------------------------------------------------------+----------+----------------------+----+\nonly showing top 10 rows\n\nseventh subset, cluster 1:\n+------------+------------------------------------------------------------------------------------------------------------------+----------+----------------------+----+\n|household_id|features                                                                                                          |prediction|distance_from_centroid|rank|\n+------------+------------------------------------------------------------------------------------------------------------------+----------+----------------------+----+\n|2213926     |[0.25,0.4,0.5,0.6666666666666666,0.16666666666666666,0.625,0.3333333333333333,1.0,0.0,0.0,0.0,1.0,0.0,1.0,1.0,1.0]|1         |0.7566331080007975    |7   |\n|1961634     |[0.375,0.4,0.5,0.6666666666666666,0.2222222222222222,0.5,0.3333333333333333,1.0,0.0,0.0,0.0,1.0,0.0,1.0,1.0,1.0]  |1         |0.758738238700877     |14  |\n|2088212     |[0.375,0.4,0.5,0.6666666666666666,0.2777777777777778,0.5,0.0,1.0,0.0,0.0,0.0,1.0,0.0,1.0,1.0,1.0]                 |1         |0.7651632365033082    |21  |\n|3696597     |[0.25,0.2,0.5,0.8,0.3333333333333333,0.625,0.3333333333333333,1.0,0.0,0.0,0.0,1.0,0.0,1.0,1.0,1.0]                |1         |0.7679915901413518    |28  |\n|2198898     |[0.25,0.2,0.5,0.6666666666666666,0.2777777777777778,0.5,0.3333333333333333,1.0,0.0,0.0,0.0,1.0,0.0,1.0,1.0,1.0]   |1         |0.7688487549472194    |35  |\n|1910096     |[0.375,0.4,0.5,0.6,0.3333333333333333,0.75,0.0,1.0,0.0,0.0,0.0,1.0,0.0,1.0,1.0,1.0]                               |1         |0.7693887860853421    |42  |\n|2133396     |[0.375,0.4,0.5,0.8666666666666667,0.2222222222222222,0.625,0.3333333333333333,1.0,0.0,0.0,0.0,1.0,0.0,1.0,1.0,1.0]|1         |0.7707929152860904    |49  |\n|2190555     |[0.25,0.2,0.5,0.6,0.3333333333333333,0.625,0.3333333333333333,1.0,0.0,0.0,0.0,1.0,0.0,1.0,1.0,0.0]                |1         |0.772786348313986     |56  |\n|2044554     |[0.375,0.4,0.5,0.6666666666666666,0.3333333333333333,0.75,0.0,1.0,0.0,0.0,0.0,1.0,0.0,1.0,1.0,0.0]                |1         |0.7749866643688627    |63  |\n|2334974     |[0.25,0.4,0.5,0.8,0.1111111111111111,0.625,0.3333333333333333,1.0,0.0,0.0,0.0,1.0,0.0,1.0,1.0,1.0]                |1         |0.7774414658769727    |70  |\n+------------+------------------------------------------------------------------------------------------------------------------+----------+----------------------+----+\nonly showing top 10 rows\n\nseventh subset, cluster 2:\n+------------+------------------------------------------------------------------------------------------------------------------+----------+----------------------+----+\n|household_id|features                                                                                                          |prediction|distance_from_centroid|rank|\n+------------+------------------------------------------------------------------------------------------------------------------+----------+----------------------+----+\n|3058426     |[0.25,0.2,0.5,0.6666666666666666,0.16666666666666666,0.625,0.3333333333333333,1.0,0.0,0.0,0.0,0.0,1.0,1.0,1.0,0.0]|2         |0.76546815840714      |7   |\n|3706883     |[0.25,0.4,0.5,0.7333333333333333,0.1111111111111111,0.625,0.3333333333333333,1.0,0.0,0.0,0.0,0.0,1.0,1.0,1.0,0.0] |2         |0.7692003671610678    |14  |\n|2996079     |[0.25,0.2,0.5,0.6,0.2777777777777778,0.625,0.0\n\n*** WARNING: max output size exceeded, skipping output. ***\n\n0.18701981587023464   |42  |\n|2939478     |[0.25,0.4,0.5,0.8,0.2777777777777778,0.625,0.3333333333333333,1.0,0.0,0.0,1.0,0.0,0.0,1.0,1.0,1.0]                |5         |0.18922467574340388   |49  |\n|2018340     |[0.25,0.4,0.5,0.8,0.4444444444444444,0.75,0.3333333333333333,1.0,0.0,0.0,1.0,0.0,0.0,1.0,1.0,1.0]                 |5         |0.19239309914731895   |56  |\n|2189882     |[0.25,0.4,0.5,0.6,0.3333333333333333,0.75,0.3333333333333333,1.0,0.0,0.0,1.0,0.0,0.0,1.0,1.0,1.0]                 |5         |0.20002626127209308   |63  |\n|2118175     |[0.375,0.4,0.5,0.7333333333333333,0.2222222222222222,0.625,0.3333333333333333,1.0,0.0,0.0,1.0,0.0,0.0,1.0,1.0,1.0]|5         |0.20350831129749325   |70  |\n+------------+------------------------------------------------------------------------------------------------------------------+----------+----------------------+----+\nonly showing top 10 rows\n\nseventh subset, cluster 6:\n+------------+-----------------------------------------------------------------------------------------------------------------+----------+----------------------+----+\n|household_id|features                                                                                                         |prediction|distance_from_centroid|rank|\n+------------+-----------------------------------------------------------------------------------------------------------------+----------+----------------------+----+\n|3958852     |[0.25,0.2,0.5,0.5333333333333333,0.3888888888888889,0.75,0.3333333333333333,0.0,0.0,1.0,1.0,0.0,0.0,1.0,1.0,1.0] |6         |0.1973676260937731    |7   |\n|2086596     |[0.25,0.2,0.5,0.6,0.3888888888888889,0.75,0.3333333333333333,0.0,0.0,1.0,1.0,0.0,0.0,1.0,1.0,1.0]                |6         |0.20068845600358104   |14  |\n|2505888     |[0.375,0.4,0.5,0.6,0.3333333333333333,0.75,0.3333333333333333,0.0,0.0,1.0,1.0,0.0,0.0,1.0,1.0,1.0]               |6         |0.20319558275338187   |21  |\n|2122561     |[0.25,0.2,0.5,0.6,0.3888888888888889,0.625,0.3333333333333333,0.0,0.0,1.0,1.0,0.0,0.0,1.0,1.0,1.0]               |6         |0.2047783916980369    |28  |\n|2002237     |[0.25,0.2,0.5,0.6,0.3333333333333333,0.625,0.3333333333333333,0.0,0.0,1.0,1.0,0.0,0.0,1.0,1.0,1.0]               |6         |0.20833662317070403   |35  |\n|2995508     |[0.25,0.4,0.5,0.5333333333333333,0.2777777777777778,0.625,0.3333333333333333,0.0,0.0,1.0,1.0,0.0,0.0,1.0,1.0,1.0]|6         |0.2093334129380636    |42  |\n|2546486     |[0.375,0.2,0.5,0.6,0.3888888888888889,0.75,0.3333333333333333,0.0,0.0,1.0,1.0,0.0,0.0,1.0,1.0,1.0]               |6         |0.21382955500894518   |49  |\n|2720170     |[0.25,0.2,0.5,0.4666666666666667,0.3888888888888889,0.75,0.3333333333333333,0.0,0.0,1.0,1.0,0.0,0.0,1.0,1.0,1.0] |6         |0.21568725547785722   |56  |\n|64964       |[0.25,0.2,0.5,0.4666666666666667,0.3333333333333333,0.75,0.3333333333333333,0.0,0.0,1.0,1.0,0.0,0.0,1.0,1.0,1.0] |6         |0.219068370659271     |63  |\n|2501294     |[0.375,0.2,0.5,0.5333333333333333,0.4444444444444444,0.75,0.3333333333333333,0.0,0.0,1.0,1.0,0.0,0.0,1.0,1.0,1.0]|6         |0.22159441037749392   |70  |\n+------------+-----------------------------------------------------------------------------------------------------------------+----------+----------------------+----+\nonly showing top 10 rows\n\nseventh subset, cluster 7:\n+------------+------------------------------------------------------------------------------------------------------------------+----------+----------------------+----+\n|household_id|features                                                                                                          |prediction|distance_from_centroid|rank|\n+------------+------------------------------------------------------------------------------------------------------------------+----------+----------------------+----+\n|2401371     |[0.25,0.2,0.5,0.6,0.2777777777777778,0.625,0.3333333333333333,0.0,1.0,0.0,1.0,0.0,0.0,1.0,1.0,0.0]                |7         |0.5456396328621607    |7   |\n|2093042     |[0.25,0.2,0.5,0.6,0.3333333333333333,0.75,0.3333333333333333,0.0,1.0,0.0,1.0,0.0,0.0,1.0,1.0,0.0]                 |7         |0.5475208879100992    |14  |\n|1508156     |[0.125,0.2,0.5,0.6666666666666666,0.2222222222222222,0.625,0.3333333333333333,0.0,1.0,0.0,1.0,0.0,0.0,1.0,1.0,0.0]|7         |0.5501479941519339    |21  |\n|2018685     |[0.125,0.2,0.5,0.6,0.2777777777777778,0.625,0.3333333333333333,0.0,1.0,0.0,1.0,0.0,0.0,1.0,1.0,1.0]               |7         |0.5519997294436876    |28  |\n|2288069     |[0.125,0.2,0.5,0.5333333333333333,0.3333333333333333,0.75,0.3333333333333333,0.0,1.0,0.0,1.0,0.0,0.0,1.0,1.0,0.0] |7         |0.5531252127405692    |35  |\n|1440507     |[0.125,0.2,0.5,0.6666666666666666,0.3333333333333333,0.75,0.3333333333333333,0.0,1.0,0.0,1.0,0.0,0.0,1.0,1.0,1.0] |7         |0.5538669127408629    |42  |\n|3957449     |[0.125,0.2,0.5,0.6666666666666666,0.2777777777777778,0.75,0.3333333333333333,0.0,1.0,0.0,1.0,0.0,0.0,1.0,1.0,1.0] |7         |0.5551934353982011    |49  |\n|2221417     |[0.25,0.2,0.5,0.6,0.3333333333333333,0.75,0.3333333333333333,0.0,1.0,0.0,1.0,0.0,0.0,1.0,1.0,1.0]                 |7         |0.5563024210768693    |56  |\n|2033500     |[0.125,0.2,0.5,0.5333333333333333,0.3888888888888889,0.75,0.3333333333333333,0.0,1.0,0.0,1.0,0.0,0.0,1.0,1.0,0.0] |7         |0.5573590824552076    |63  |\n|1487536     |[0.125,0.2,0.5,0.6,0.2222222222222222,0.625,0.3333333333333333,0.0,1.0,0.0,1.0,0.0,0.0,1.0,1.0,1.0]               |7         |0.5588807873708301    |70  |\n+------------+------------------------------------------------------------------------------------------------------------------+----------+----------------------+----+\nonly showing top 10 rows\n\neleventh subset, cluster 0:\n+------------+------------------------------------------------------------------------------------------------------------------+----------+----------------------+----+\n|household_id|features                                                                                                          |prediction|distance_from_centroid|rank|\n+------------+------------------------------------------------------------------------------------------------------------------+----------+----------------------+----+\n|2420544     |[0.25,0.4,0.5,0.6,0.4444444444444444,0.75,0.3333333333333333,0.0,0.0,1.0,1.0,0.0,0.0,1.0,1.0,0.0]                 |0         |0.20567516196623958   |11  |\n|2063369     |[0.375,0.4,0.5,0.4666666666666667,0.3333333333333333,0.75,0.3333333333333333,0.0,0.0,1.0,1.0,0.0,0.0,1.0,1.0,0.0] |0         |0.21378462187874858   |22  |\n|3033942     |[0.25,0.4,0.5,0.4666666666666667,0.2777777777777778,0.625,0.3333333333333333,0.0,0.0,1.0,1.0,0.0,0.0,1.0,1.0,0.0] |0         |0.22118165624209113   |33  |\n|2838331     |[0.25,0.2,0.5,0.4666666666666667,0.3333333333333333,0.75,0.3333333333333333,0.0,0.0,1.0,1.0,0.0,0.0,1.0,1.0,0.0]  |0         |0.2267351750114912    |44  |\n|1974050     |[0.375,0.2,0.5,0.5333333333333333,0.4444444444444444,0.625,0.3333333333333333,0.0,0.0,1.0,1.0,0.0,0.0,1.0,1.0,0.0]|0         |0.23214672997024643   |55  |\n|2814483     |[0.375,0.4,0.5,0.5333333333333333,0.5,0.75,0.3333333333333333,0.0,0.0,1.0,1.0,0.0,0.0,1.0,1.0,0.0]                |0         |0.23719591761330702   |66  |\n|2300954     |[0.375,0.4,0.5,0.5333333333333333,0.2222222222222222,0.75,0.3333333333333333,0.0,0.0,1.0,1.0,0.0,0.0,1.0,1.0,0.0] |0         |0.24000079006337882   |77  |\n|2873133     |[0.25,0.4,0.5,0.4666666666666667,0.2222222222222222,0.625,0.3333333333333333,0.0,0.0,1.0,1.0,0.0,0.0,1.0,1.0,0.0] |0         |0.24806188592781786   |88  |\n|3754868     |[0.25,0.2,0.5,0.6666666666666666,0.2777777777777778,0.75,0.3333333333333333,0.0,0.0,1.0,1.0,0.0,0.0,1.0,1.0,0.0]  |0         |0.2510853606719591    |99  |\n|2496370     |[0.375,0.4,0.5,0.4666666666666667,0.2222222222222222,0.75,0.3333333333333333,0.0,0.0,1.0,1.0,0.0,0.0,1.0,1.0,0.0] |0         |0.2544754868937457    |110 |\n+------------+------------------------------------------------------------------------------------------------------------------+----------+----------------------+----+\nonly showing top 10 rows\n\neleventh subset, cluster 1:\n+------------+-----------------------------------------------------------------------------------------------------------------+----------+----------------------+----+\n|household_id|features                                                                                                         |prediction|distance_from_centroid|rank|\n+------------+-----------------------------------------------------------------------------------------------------------------+----------+----------------------+----+\n|2564404     |[0.25,0.2,0.5,0.6666666666666666,0.2777777777777778,0.625,0.3333333333333333,1.0,0.0,0.0,0.0,1.0,0.0,1.0,1.0,1.0]|1         |0.758478675970241     |11  |\n|2006636     |[0.375,0.4,0.5,0.6666666666666666,0.3333333333333333,0.75,0.0,1.0,0.0,0.0,0.0,1.0,0.0,1.0,1.0,1.0]               |1         |0.7652495210929431    |22  |\n|2198323     |[0.25,0.2,0.5,0.6666666666666666,0.2777777777777778,0.75,0.3333333333333333,1.0,0.0,0.0,0.0,1.0,0.0,1.0,1.0,1.0] |1         |0.7685710089635506    |33  |\n|2949950     |[0.25,0.4,0.5,0.6,0.3333333333333333,0.75,0.3333333333333333,1.0,0.0,0.0,0.0,1.0,0.0,1.0,1.0,0.0]                |1         |0.7696840911463644    |44  |\n|2513027     |[0.25,0.2,0.5,0.6,0.2777777777777778,0.75,0.3333333333333333,1.0,0.0,0.0,0.0,1.0,0.0,1.0,1.0,1.0]                |1         |0.772692481159321     |55  |\n|2105182     |[0.25,0.2,0.5,0.5333333333333333,0.2222222222222222,0.625,0.3333333333333333,1.0,0.0,0.0,0.0,1.0,0.0,1.0,1.0,1.0]|1         |0.7762068772801656    |66  |\n|2469743     |[0.25,0.4,0.5,0.6666666666666666,0.4444444444444444,0.75,0.3333333333333333,1.0,0.0,0.0,0.0,1.0,0.0,1.0,1.0,0.0] |1         |0.7782660023823648    |77  |\n|2206060     |[0.25,0.4,0.5,0.7333333333333333,0.1111111111111111,0.625,0.3333333333333333,1.0,0.0,0.0,0.0,1.0,0.0,1.0,1.0,0.0]|1         |0.7797353590319304    |88  |\n|2239813     |[0.5,0.4,0.5,0.7333333333333333,0.3888888888888889,0.75,0.3333333333333333,1.0,0.0,0.0,0.0,1.0,0.0,1.0,1.0,1.0]  |1         |0.780934485758601     |99  |\n|28688       |[0.375,0.2,0.5,0.5333333333333333,0.3333333333333333,0.75,0.3333333333333333,1.0,0.0,0.0,0.0,1.0,0.0,1.0,1.0,1.0]|1         |0.7822992148940983    |110 |\n+------------+-----------------------------------------------------------------------------------------------------------------+----------+----------------------+----+\nonly showing top 10 rows\n\neleventh subset, cluster 2:\n+------------+------------------------------------------------------------------------------------------------------------------+----------+----------------------+----+\n|household_id|features                                                                                                          |prediction|distance_from_centroid|rank|\n+------------+------------------------------------------------------------------------------------------------------------------+----------+----------------------+----+\n|2074956     |[0.25,0.4,0.5,0.5333333333333333,0.16666666666666666,0.625,0.3333333333333333,1.0,0.0,0.0,0.0,0.0,1.0,1.0,1.0,0.0]|2         |0.7678728676871602    |11  |\n|2056655     |[0.25,0.4,0.5,0.6666666666666666,0.1111111111111111,0.625,0.0,1.0,0.0,0.0,0.0,0.0,1.0,1.0,1.0,0.0]                |2         |0.7745719481489489    |22  |\n|3759379     |[0.25,0.2,0.5,0.5333333333333333,0.2777777777777778,0.5,0.3333333333333333,1.0,0.0,0.0,0.0,0.0,1.0,1.0,1.0,0.0]   |2         |0.7786357389210854    |33  |\n|3606768     |[0.25,0.4,0.5,0.6666666666666666,0.3888888888888889,0.5,0.0,1.0,0.0,0.0,0.0,0.0,1.0,1.0,1.0,0.0]                  |2         |0.7824705353673143    |44  |\n|2226206     |[0.125,0.2,0.5,0.6666666666666666,0.16666666666666666,0.5,0.3333333333333333,1.0,0.0,0.0,0.0,0.0,1.0,1.0,1.0,0.0] |2         |0.7862771574050854    |55  |\n|1966437     |[0.25,0.2,0.5,0.7333333333333333,0.05555555555555555,0.625,0.3333333333333333,1.0,0.0,0.0,0.0,0.0,1.0,1.0,1.0,0.0]|2         |0.7883868511388579    |66  |\n|2050846     |[0.25,0.4,0.5,0.6666666666666666,0.16666666666666666,0.375,0.3333333333333333,1.0,0.0,0.0,0.0,0.0,1.0,1.0,1.0,0.0]|2         |0.7910529190928742    |77  |\n|385984      |[0.25,0.4,0.5,0.8,0.3333333333333333,0.75,0.0,1.0,0.0,0.0,0.0,0.0,1.0,1.0,1.0,0.0]                                |2         |0.7940132924876236    |88  |\n|2151484     |[0.375,0.4,0.5,0.7333333333333333,0.05555555555555555,0.625,0.0,1.0,0.0,0.0,0.0,0.0,1.0,1.0,1.0,0.0]              |2         |0.7954827869938375    |99  |\n|2150967     |[0.25,0.4,0.5,0.7333333333333333,0.16666666666666666,0.625,0.0,1.0,0.0,0.0,0.0,0.0,1.0,1.0,1.0,1.0]               |2         |0.7993862965550362    |110 |\n+------------+------------------------------------------------------------------------------------------------------------------+----------+----------------------+----+\nonly showing top 10 rows\n\neleventh subset, cluster 3:\n+------------+-----------------------------------------------------------------------------------------------------------------+----------+----------------------+----+\n|household_id|features                                                                                                         |prediction|distance_from_centroid|rank|\n+------------+-----------------------------------------------------------------------------------------------------------------+----------+----------------------+----+\n|1482559     |[0.25,0.4,0.5,0.7333333333333333,0.3333333333333333,0.625,0.3333333333333333,1.0,0.0,0.0,1.0,0.0,0.0,1.0,1.0,0.0]|3         |0.166343248164855     |11  |\n|1959125     |[0.25,0.4,0.5,0.6666666666666666,0.3888888888888889,0.75,0.3333333333333333,1.0,0.0,0.0,1.0,0.0,0.0,1.0,1.0,0.0] |3         |0.17416643081156805   |22  |\n|2723698     |[0.25,0.4,0.5,0.7333333333333333,0.2777777777777778,0.625,0.3333333333333333,1.0,0.0,0.0,1.0,0.0,0.0,1.0,1.0,0.0]|3         |0.17764507453380943   |33  |\n|2065283     |[0.25,0.4,0.5,0.6666666666666666,0.2777777777777778,0.625,0.3333333333333333,1.0,0.0,0.0,1.0,0.0,0.0,1.0,1.0,0.0]|3         |0.1868016975950461    |44  |\n|2677119     |[0.25,0.4,0.5,0.7333333333333333,0.2222222222222222,0.75,0.3333333333333333,1.0,0.0,0.0,1.0,0.0,0.0,1.0,1.0,0.0] |3         |0.19662129282363316   |55  |\n|2087163     |[0.375,0.4,0.5,0.8,0.4444444444444444,0.75,0.3333333333333333,1.0,0.0,0.0,1.0,0.0,0.0,1.0,1.0,0.0]               |3         |0.20392736961793814   |66  |\n|394823      |[0.25,0.4,0.5,0.6,0.2777777777777778,0.75,0.3333333333333333,1.0,0.0,0.0,1.0,0.0,0.0,1.0,1.0,0.0]                |3         |0.21014873141373341   |77  |\n|2510606     |[0.25,0.4,0.5,0.6666666666666666,0.2222222222222222,0.625,0.3333333333333333,1.0,0.0,0.0,1.0,0.0,0.0,1.0,1.0,0.0]|3         |0.2120269087324816    |88  |\n|2031115     |[0.25,0.4,0.5,0.8,0.2222222222222222,0.625,0.3333333333333333,1.0,0.0,0.0,1.0,0.0,0.0,1.0,1.0,0.0]               |3         |0.2171867755619671    |99  |\n|2216212     |[0.25,0.4,0.5,0.8666666666666667,0.2777777777777778,0.75,0.3333333333333333,1.0,0.0,0.0,1.0,0.0,0.0,1.0,1.0,0.0] |3         |0.2204356146803548    |110 |\n+------------+-----------------------------------------------------------------------------------------------------------------+----------+----------------------+----+\nonly showing top 10 rows\n\neleventh subset, cluster 4:\n+------------+---------------------------------------------------------------------------------------------------------------+----------+----------------------+----+\n|household_id|features                                                                                                       |prediction|distance_from_centroid|rank|\n+------------+---------------------------------------------------------------------------------------------------------------+----------+----------------------+----+\n|2295052     |(16,[0,2,3,4,5,6,8,10],[0.125,0.5,0.4,0.2777777777777778,0.5,0.3333333333333333,1.0,1.0])                      |4         |0.7420307700370796    |11  |\n|2715201     |(16,[0,2,3,4,5,8,10],[0.125,0.5,0.5333333333333333,0.2222222222222222,0.5,1.0,1.0])                            |4         |0.7490154862760368    |22  |\n|1934348     |(16,[3,4,5,6,8,10],[0.5333333333333333,0.3333333333333333,0.5,0.3333333333333333,1.0,1.0])                     |4         |0.7551408978614578    |33  |\n|2582954     |(16,[0,1,2,3,4,5,6,8,10],[0.25,0.2,0.5,0.5333333333333333,0.2222222222222222,0.375,0.3333333333333333,1.0,1.0])|4         |0.7579418713427267    |44  |\n|2851242     |(16,[3,4,5,6,8,10],[0.4666666666666667,0.3333333333333333,0.5,0.3333333333333333,1.0,1.0])                     |4         |0.7594238632369382    |55  |\n|2083687     |(16,[3,4,5,6,8,10],[0.6,0.2222222222222222,0.5,0.3333333333333333,1.0,1.0])                                    |4         |0.7627773103535186    |66  |\n|3986639     |(16,[3,4,5,6,8,10],[0.4666666666666667,0.2222222222222222,0.5,0.3333333333333333,1.0,1.0])                     |4         |0.7654501898638956    |77  |\n|1967318     |(16,[0,1,3,4,5,6,8,10],[0.125,0.2,0.4,0.2222222222222222,0.5,0.3333333333333333,1.0,1.0])                      |4         |0.7693992478240518    |88  |\n|3115042     |(16,[3,4,5,6,8,10],[0.4,0.2777777777777778,0.5,0.3333333333333333,1.0,1.0])                                    |4         |0.7704599899895547    |99  |\n|4008298     |(16,[3,4,5,8,10],[0.5333333333333333,0.2777777777777778,0.5,1.0,1.0])                                          |4         |0.7722318413965108    |110 |\n+------------+---------------------------------------------------------------------------------------------------------------+----------+----------------------+----+\nonly showing top 10 rows\n\neleventh subset, cluster 5:\n+------------+------------------------------------------------------------------------------------------------------------------+----------+----------------------+----+\n|household_id|features                                                                                                          |prediction|distance_from_centroid|rank|\n+------------+------------------------------------------------------------------------------------------------------------------+----------+----------------------+----+\n|1579104     |[0.375,0.4,0.5,0.8,0.3333333333333333,0.75,0.3333333333333333,1.0,0.0,0.0,1.0,0.0,0.0,1.0,1.0,1.0]                |5         |0.16584660607284815   |11  |\n|2177840     |[0.25,0.4,0.5,0.6666666666666666,0.3333333333333333,0.625,0.3333333333333333,1.0,0.0,0.0,1.0,0.0,0.0,1.0,1.0,1.0] |5         |0.1739653524398126    |22  |\n|2242454     |[0.25,0.4,0.5,0.8,0.3333333333333333,0.625,0.3333333333333333,1.0,0.0,0.0,1.0,0.0,0.0,1.0,1.0,1.0]                |5         |0.17633351987517312   |33  |\n|3911136     |[0.25,0.4,0.5,0.6666666666666666,0.2777777777777778,0.625,0.3333333333333333,1.0,0.0,0.0,1.0,0.0,0.0,1.0,1.0,1.0] |5         |0.18701981587023464   |44  |\n|1580041     |[0.25,0.4,0.5,0.8,0.4444444444444444,0.75,0.3333333333333333,1.0,0.0,0.0,1.0,0.0,0.0,1.0,1.0,1.0]                 |5         |0.19239309914731895   |55  |\n|3159033     |[0.375,0.4,0.5,0.6,0.3888888888888889,0.75,0.3333333333333333,1.0,0.0,0.0,1.0,0.0,0.0,1.0,1.0,1.0]                |5         |0.2026189831522964    |66  |\n|2717272     |[0.25,0.4,0.5,0.7333333333333333,0.2222222222222222,0.625,0.3333333333333333,1.0,0.0,0.0,1.0,0.0,0.0,1.0,1.0,1.0] |5         |0.20452886705676307   |77  |\n|2154291     |[0.25,0.4,0.5,0.6,0.3333333333333333,0.625,0.3333333333333333,1.0,0.0,0.0,1.0,0.0,0.0,1.0,1.0,1.0]                |5         |0.20780397973044595   |88  |\n|2762766     |[0.375,0.4,0.5,0.8666666666666667,0.3333333333333333,0.625,0.3333333333333333,1.0,0.0,0.0,1.0,0.0,0.0,1.0,1.0,1.0]|5         |0.2107728684237269    |99  |\n|2741260     |[0.25,0.4,0.5,0.8666666666666667,0.3888888888888889,0.625,0.3333333333333333,1.0,0.0,0.0,1.0,0.0,0.0,1.0,1.0,1.0] |5         |0.21517899196593498   |110 |\n+------------+------------------------------------------------------------------------------------------------------------------+----------+----------------------+----+\nonly showing top 10 rows\n\neleventh subset, cluster 6:\n+------------+-----------------------------------------------------------------------------------------------------------------+----------+----------------------+----+\n|household_id|features                                                                                                         |prediction|distance_from_centroid|rank|\n+------------+-----------------------------------------------------------------------------------------------------------------+----------+----------------------+----+\n|2250469     |[0.375,0.4,0.5,0.6,0.3888888888888889,0.75,0.3333333333333333,0.0,0.0,1.0,1.0,0.0,0.0,1.0,1.0,1.0]               |6         |0.19954569903345237   |11  |\n|2782775     |[0.375,0.4,0.5,0.6,0.3888888888888889,0.625,0.3333333333333333,0.0,0.0,1.0,1.0,0.0,0.0,1.0,1.0,1.0]              |6         |0.20365858522557428   |22  |\n|1581964     |[0.375,0.4,0.5,0.5333333333333333,0.4444444444444444,0.75,0.3333333333333333,0.0,0.0,1.0,1.0,0.0,0.0,1.0,1.0,1.0]|6         |0.2078448703191273    |33  |\n|2228994     |[0.25,0.2,0.5,0.6,0.4444444444444444,0.75,0.3333333333333333,0.0,0.0,1.0,1.0,0.0,0.0,1.0,1.0,1.0]                |6         |0.2120819111370341    |44  |\n|2081692     |[0.25,0.2,0.5,0.4666666666666667,0.3888888888888889,0.75,0.3333333333333333,0.0,0.0,1.0,1.0,0.0,0.0,1.0,1.0,1.0] |6         |0.21568725547785722   |55  |\n|2501308     |[0.375,0.4,0.5,0.6,0.2777777777777778,0.75,0.3333333333333333,0.0,0.0,1.0,1.0,0.0,0.0,1.0,1.0,1.0]               |6         |0.22120407592175284   |66  |\n|2024692     |[0.25,0.2,0.5,0.5333333333333333,0.2777777777777778,0.625,0.3333333333333333,0.0,0.0,1.0,1.0,0.0,0.0,1.0,1.0,1.0]|6         |0.22299118898483905   |77  |\n|83188       |[0.25,0.2,0.5,0.6666666666666666,0.3333333333333333,0.75,0.3333333333333333,0.0,0.0,1.0,1.0,0.0,0.0,1.0,1.0,1.0] |6         |0.22793986192181773   |88  |\n|2317528     |[0.25,0.2,0.5,0.5333333333333333,0.5,0.75,0.3333333333333333,0.0,0.0,1.0,1.0,0.0,0.0,1.0,1.0,1.0]                |6         |0.2335221202647307    |99  |\n|3791712     |[0.375,0.2,0.5,0.4666666666666667,0.4444444444444444,0.75,0.3333333333333333,0.0,0.0,1.0,1.0,0.0,0.0,1.0,1.0,1.0]|6         |0.2380569155816067    |110 |\n+------------+-----------------------------------------------------------------------------------------------------------------+----------+----------------------+----+\nonly showing top 10 rows\n\neleventh subset, cluster 7:\n+------------+------------------------------------------------------------------------------------------------------------------+----------+----------------------+----+\n|household_id|features                                                                                                          |prediction|distance_from_centroid|rank|\n+------------+------------------------------------------------------------------------------------------------------------------+----------+----------------------+----+\n|2019890     |[0.125,0.2,0.5,0.6,0.2777777777777778,0.75,0.3333333333333333,0.0,1.0,0.0,1.0,0.0,0.0,1.0,1.0,0.0]                |7         |0.5463864454173926    |11  |\n|2789139     |[0.125,0.2,0.5,0.6666666666666666,0.3333333333333333,0.625,0.3333333333333333,0.0,1.0,0.0,1.0,0.0,0.0,1.0,1.0,1.0]|7         |0.5506730877762438    |22  |\n|2664950     |[0.25,0.2,0.5,0.6,0.2222222222222222,0.625,0.3333333333333333,0.0,1.0,0.0,1.0,0.0,0.0,1.0,1.0,0.0]                |7         |0.5525998933552994    |33  |\n|1961094     |[0.125,0.2,0.5,0.7333333333333333,0.2777777777777778,0.75,0.3333333333333333,0.0,1.0,0.0,1.0,0.0,0.0,1.0,1.0,0.0] |7         |0.5544760775500622    |44  |\n|78133       |[0.25,0.2,0.5,0.6,0.3333333333333333,0.75,0.3333333333333333,0.0,1.0,0.0,1.0,0.0,0.0,1.0,1.0,1.0]                 |7         |0.5563024210768693    |55  |\n|3128256     |[0.125,0.2,0.5,0.5333333333333333,0.2222222222222222,0.625,0.3333333333333333,0.0,1.0,0.0,1.0,0.0,0.0,1.0,1.0,0.0]|7         |0.5581532230559317    |66  |\n|2723177     |[0.25,0.2,0.5,0.6,0.2222222222222222,0.625,0.3333333333333333,0.0,1.0,0.0,1.0,0.0,0.0,1.0,1.0,1.0]                |7         |0.5613019714328564    |77  |\n|130         |[0.125,0.2,0.5,0.5333333333333333,0.3888888888888889,0.625,0.3333333333333333,0.0,1.0,0.0,1.0,0.0,0.0,1.0,1.0,1.0]|7         |0.5628629498957646    |88  |\n|88496       |[0.25,0.2,0.5,0.7333333333333333,0.2777777777777778,0.75,0.3333333333333333,0.0,1.0,0.0,1.0,0.0,0.0,1.0,1.0,1.0]  |7         |0.5655520756001146    |99  |\n|1998794     |[0.125,0.2,0.5,0.6666666666666666,0.2777777777777778,0.5,0.3333333333333333,0.0,1.0,0.0,1.0,0.0,0.0,1.0,1.0,0.0]  |7         |0.5681030495033359    |110 |\n+------------+------------------------------------------------------------------------------------------------------------------+----------+----------------------+----+\nonly showing top 10 rows\n\n"
          ]
        }
      ],
      "source": [
        "for dict_ in [full_subset_dict, seventh_subset_dict, eleventh_subset_dict]:\n",
        "    for key, val in dict_.items():\n",
        "        subset_name = key.split(\"_\")[0]\n",
        "        print(f\"{subset_name} subset, cluster {key[-1]}:\")\n",
        "        val.show(10, truncate=False)"
      ]
    },
    {
      "cell_type": "markdown",
      "metadata": {
        "application/vnd.databricks.v1+cell": {
          "cellMetadata": {
            "byteLimit": 2048000,
            "rowLimit": 10000
          },
          "inputWidgets": {},
          "nuid": "89004ffc-8173-4ea3-b01e-f319ab062eb3",
          "showTitle": false,
          "title": ""
        },
        "id": "8VCuMVW06QLd"
      },
      "source": [
        "## Cluster’s Viewing Analysis"
      ]
    },
    {
      "cell_type": "code",
      "execution_count": null,
      "metadata": {
        "application/vnd.databricks.v1+cell": {
          "cellMetadata": {
            "byteLimit": 2048000,
            "rowLimit": 10000
          },
          "inputWidgets": {},
          "nuid": "72b98102-2b28-4ed7-b74d-a0426ff6c7fe",
          "showTitle": false,
          "title": ""
        },
        "id": "pOs7Uy_F6QLd",
        "outputId": "43acf58a-13cd-44e7-f160-a613ee79a201"
      },
      "outputs": [
        {
          "output_type": "stream",
          "name": "stdout",
          "text": [
            "amount of viewing events per station for the full subset cluster 0:\n+-----------+-----+\n|station_num|count|\n+-----------+-----+\n|99993      |29993|\n|60179      |6372 |\n|16374      |5620 |\n|32645      |5242 |\n|99995      |4721 |\n|10171      |4108 |\n|14902      |4078 |\n|49788      |3812 |\n|12131      |3648 |\n|14771      |3406 |\n+-----------+-----+\nonly showing top 10 rows\n\namount of viewing events per station for the seventh subset cluster 0:\n+-----------+-----+\n|station_num|count|\n+-----------+-----+\n|99993      |4374 |\n|60179      |949  |\n|16374      |815  |\n|32645      |742  |\n|99995      |678  |\n|14902      |602  |\n|10171      |564  |\n|49788      |549  |\n|14771      |500  |\n|10179      |480  |\n+-----------+-----+\nonly showing top 10 rows\n\namount of viewing events per station for the eleventh subset cluster 0:\n+-----------+-----+\n|station_num|count|\n+-----------+-----+\n|99993      |2652 |\n|60179      |548  |\n|16374      |522  |\n|14902      |419  |\n|32645      |412  |\n|99995      |404  |\n|12131      |394  |\n|10171      |365  |\n|10179      |364  |\n|10142      |359  |\n+-----------+-----+\nonly showing top 10 rows\n\namount of viewing events per station for the full subset cluster 1:\n+-----------+-----+\n|station_num|count|\n+-----------+-----+\n|99993      |28802|\n|10171      |5017 |\n|12131      |4242 |\n|32645      |4080 |\n|99995      |3771 |\n|16374      |3334 |\n|60179      |3098 |\n|11187      |2731 |\n|10179      |2629 |\n|10142      |2609 |\n+-----------+-----+\nonly showing top 10 rows\n\namount of viewing events per station for the seventh subset cluster 1:\n+-----------+-----+\n|station_num|count|\n+-----------+-----+\n|99993      |3770 |\n|10171      |762  |\n|12131      |642  |\n|99995      |582  |\n|32645      |559  |\n|16374      |456  |\n|60179      |410  |\n|10179      |400  |\n|10142      |390  |\n|11187      |388  |\n+-----------+-----+\nonly showing top 10 rows\n\namount of viewing events per station for the eleventh subset cluster 1:\n+-----------+-----+\n|station_num|count|\n+-----------+-----+\n|99993      |2780 |\n|10171      |423  |\n|60179      |376  |\n|32645      |355  |\n|12131      |337  |\n|99995      |328  |\n|16374      |281  |\n|11118      |275  |\n|10179      |255  |\n|10142      |242  |\n+-----------+-----+\nonly showing top 10 rows\n\namount of viewing events per station for the full subset cluster 2:\n+-----------+-----+\n|station_num|count|\n+-----------+-----+\n|99993      |28746|\n|10171      |4306 |\n|12131      |4184 |\n|10179      |3924 |\n|11207      |3386 |\n|32645      |3305 |\n|10142      |3106 |\n|11164      |3036 |\n|70387      |3033 |\n|16374      |2884 |\n+-----------+-----+\nonly showing top 10 rows\n\namount of viewing events per station for the seventh subset cluster 2:\n+-----------+-----+\n|station_num|count|\n+-----------+-----+\n|99993      |3956 |\n|10171      |619  |\n|12131      |615  |\n|10179      |514  |\n|11207      |507  |\n|32645      |470  |\n|11164      |442  |\n|14765      |434  |\n|10142      |422  |\n|70387      |416  |\n+-----------+-----+\nonly showing top 10 rows\n\namount of viewing events per station for the eleventh subset cluster 2:\n+-----------+-----+\n|station_num|count|\n+-----------+-----+\n|99993      |2629 |\n|10179      |385  |\n|10171      |350  |\n|16374      |348  |\n|11207      |347  |\n|10142      |325  |\n|12131      |324  |\n|11164      |299  |\n|70387      |285  |\n|32645      |283  |\n+-----------+-----+\nonly showing top 10 rows\n\namount of viewing events per station for the full subset cluster 3:\n+-----------+------+\n|station_num|count |\n+-----------+------+\n|99993      |142240|\n|60179      |29548 |\n|16374      |28835 |\n|32645      |22486 |\n|14902      |18224 |\n|99995      |17446 |\n|49788      |16970 |\n|11187      |16196 |\n|10142      |16189 |\n|14771      |15509 |\n+-----------+------+\nonly showing top 10 rows\n\namount of viewing events per station for the seventh subset cluster 3:\n+-----------+-----+\n|station_num|count|\n+-----------+-----+\n|99993      |19156|\n|60179      |4346 |\n|16374      |3592 |\n|32645      |3243 |\n|14902      |2612 |\n|49788      |2478 |\n|99995      |2436 |\n|11187      |2269 |\n|14771      |2228 |\n|10142      |2212 |\n+-----------+-----+\nonly showing top 10 rows\n\namount of viewing events per station for the eleventh subset cluster 3:\n+-----------+-----+\n|station_num|count|\n+-----------+-----+\n|99993      |13074|\n|16374      |2676 |\n|60179      |2587 |\n|32645      |2063 |\n|14902      |1581 |\n|99995      |1499 |\n|49788      |1497 |\n|10142      |1490 |\n|11187      |1408 |\n|14771      |1384 |\n+-----------+-----+\nonly showing top 10 rows\n\namount of viewing events per station for the full subset cluster 4:\n+-----------+-----+\n|station_num|count|\n+-----------+-----+\n|99993      |15941|\n|16374      |2517 |\n|11221      |2275 |\n|12131      |2202 |\n|10142      |2144 |\n|11207      |2127 |\n|11187      |2114 |\n|10171      |1947 |\n|60179      |1902 |\n|32645      |1886 |\n+-----------+-----+\nonly showing top 10 rows\n\namount of viewing events per station for the seventh subset cluster 4:\n+-----------+-----+\n|station_num|count|\n+-----------+-----+\n|99993      |2248 |\n|16374      |414  |\n|12131      |351  |\n|10142      |327  |\n|11867      |300  |\n|11221      |299  |\n|10171      |287  |\n|11187      |285  |\n|11207      |280  |\n|60179      |264  |\n+-----------+-----+\nonly showing top 10 rows\n\namount of viewing events per station for the eleventh subset cluster 4:\n+-----------+-----+\n|station_num|count|\n+-----------+-----+\n|99993      |1489 |\n|16374      |281  |\n|10142      |226  |\n|10179      |207  |\n|11207      |200  |\n|11221      |198  |\n|10171      |196  |\n|12131      |195  |\n|99995      |188  |\n|60179      |170  |\n+-----------+-----+\nonly showing top 10 rows\n\namount of viewing events per station for the full subset cluster 5:\n+-----------+------+\n|station_num|count |\n+-----------+------+\n|99993      |153993|\n|60179      |34809 |\n|16374      |30665 |\n|32645      |28573 |\n|99995      |19872 |\n|49788      |18577 |\n|14902      |17909 |\n|14771      |17488 |\n|10179      |17299 |\n|11187      |17239 |\n+-----------+------+\nonly showing top 10 rows\n\namount of viewing events per station for the seventh subset cluster 5:\n+-----------+-----+\n|station_num|count|\n+-----------+-----+\n|99993      |22057|\n|60179      |4805 |\n|32645      |4315 |\n|16374      |4285 |\n|99995      |2831 |\n|49788      |2769 |\n|14771      |2530 |\n|14902      |2514 |\n|11187      |2437 |\n|10179      |2396 |\n+-----------+-----+\nonly showing top 10 rows\n\namount of viewing events per station for the eleventh subset cluster 5:\n+-----------+-----+\n|station_num|count|\n+-----------+-----+\n|99993      |13930|\n|60179      |2996 |\n|16374      |2778 |\n|32645      |2643 |\n|99995      |1802 |\n|14771      |1641 |\n|49788      |1598 |\n|14902      |1581 |\n|11187      |1577 |\n|10179      |1560 |\n+-----------+-----+\nonly showing top 10 rows\n\namount of viewing events per station for the full subset cluster 6:\n+-----------+-----+\n|station_num|count|\n+-----------+-----+\n|99993      |36717|\n|60179      |8378 |\n|32645      |7709 |\n|16374      |7207 |\n|99995      |5718 |\n|49788      |4725 |\n|10171      |4580 |\n|14902      |4417 |\n|12131      |4330 |\n|14771      |4316 |\n+-----------+-----+\nonly showing top 10 rows\n\namount of viewing events per station for the seventh subset cluster 6:\n+-----------+-----+\n|station_num|count|\n+-----------+-----+\n|99993      |5331 |\n|16374      |1200 |\n|32645      |1112 |\n|60179      |1061 |\n|99995      |783  |\n|49788      |712  |\n|14771      |631  |\n|10171      |630  |\n|10179      |590  |\n|14902      |584  |\n+-----------+-----+\nonly showing top 10 rows\n\namount of viewing events per station for the eleventh subset cluster 6:\n+-----------+-----+\n|station_num|count|\n+-----------+-----+\n|99993      |3571 |\n|16374      |745  |\n|60179      |707  |\n|32645      |592  |\n|99995      |532  |\n|14771      |449  |\n|12131      |444  |\n|10171      |437  |\n|11187      |430  |\n|49788      |406  |\n+-----------+-----+\nonly showing top 10 rows\n\namount of viewing events per station for the full subset cluster 7:\n+-----------+-----+\n|station_num|count|\n+-----------+-----+\n|99993      |78883|\n|16374      |14116|\n|32645      |13496|\n|60179      |13290|\n|99995      |10955|\n|10171      |10788|\n|12131      |10430|\n|14902      |9849 |\n|10142      |9827 |\n|14771      |9501 |\n+-----------+-----+\nonly showing top 10 rows\n\namount of viewing events per station for the seventh subset cluster 7:\n+-----------+-----+\n|station_num|count|\n+-----------+-----+\n|99993      |11327|\n|16374      |2099 |\n|60179      |1939 |\n|32645      |1810 |\n|99995      |1674 |\n|10171      |1568 |\n|12131      |1547 |\n|10142      |1504 |\n|10179      |1403 |\n|14771      |1401 |\n+-----------+-----+\nonly showing top 10 rows\n\namount of viewing events per station for the eleventh subset cluster 7:\n+-----------+-----+\n|station_num|count|\n+-----------+-----+\n|99993      |7194 |\n|16374      |1399 |\n|60179      |1240 |\n|32645      |1215 |\n|99995      |1009 |\n|10171      |1003 |\n|14902      |934  |\n|12131      |894  |\n|14771      |861  |\n|10179      |841  |\n+-----------+-----+\nonly showing top 10 rows\n\n"
          ]
        }
      ],
      "source": [
        "# stage 1\n",
        "\n",
        "subset_viewing_per_station = {}\n",
        "seventh_subset_viewing_per_station = {}\n",
        "eleventh_subset_viewing_per_station = {}\n",
        "\n",
        "static_viewing_df.cache()\n",
        "\n",
        "for key, val in full_subset_dict.items():\n",
        "    subset_viewing_per_station[key] = val.join(static_viewing_df, on=\"household_id\").groupBy(\"station_num\").count().orderBy(\"count\", ascending=False)\n",
        "\n",
        "for key, val in seventh_subset_dict.items():\n",
        "    seventh_subset_viewing_per_station[key] = val.join(static_viewing_df, on=\"household_id\").groupBy(\"station_num\").count().orderBy(\"count\", ascending=False)\n",
        "\n",
        "for key, val in eleventh_subset_dict.items():\n",
        "    eleventh_subset_viewing_per_station[key] = val.join(static_viewing_df, on=\"household_id\").groupBy(\"station_num\").count().orderBy(\"count\", ascending=False)\n",
        "\n",
        "for i in range(8):\n",
        "    print(f\"amount of viewing events per station for the full subset cluster {i}:\")\n",
        "    subset_viewing_per_station[f\"full_subset_{i}\"].show(10, truncate=False)\n",
        "    print(f\"amount of viewing events per station for the seventh subset cluster {i}:\")\n",
        "    seventh_subset_viewing_per_station[f\"seventh_subset_{i}\"].show(10, truncate=False)\n",
        "    print(f\"amount of viewing events per station for the eleventh subset cluster {i}:\")\n",
        "    eleventh_subset_viewing_per_station[f\"eleventh_subset_{i}\"].show(10, truncate=False)\n",
        "\n"
      ]
    },
    {
      "cell_type": "code",
      "execution_count": null,
      "metadata": {
        "application/vnd.databricks.v1+cell": {
          "cellMetadata": {
            "byteLimit": 2048000,
            "rowLimit": 10000
          },
          "inputWidgets": {},
          "nuid": "aabc68a6-39d7-4004-8ba7-508e9a3cb9e0",
          "showTitle": false,
          "title": ""
        },
        "id": "sGjlJDF06QLe",
        "outputId": "51e9be86-7a72-4d4e-a1d8-9a8f445a845f"
      },
      "outputs": [
        {
          "output_type": "stream",
          "name": "stdout",
          "text": [
            "the precent of viewing events per station for the full subset, cluster 0:\n+-----------+------------------+\n|station_num|rating            |\n+-----------+------------------+\n|99993      |7.745445906092957 |\n|60179      |1.6455166643424908|\n|16374      |1.4513188408042683|\n|32645      |1.353703445461917 |\n|99995      |1.2191594746329093|\n|10171      |1.0608572594348638|\n|14902      |1.0531100058362644|\n|49788      |0.9844176905953507|\n|12131      |0.9420660375896746|\n|14771      |0.8795715252276401|\n+-----------+------------------+\nonly showing top 10 rows\n\nthe precent of viewing events per station for the seventh subset, cluster 0:\n+-----------+------------------+\n|station_num|rating            |\n+-----------+------------------+\n|99993      |7.74844995571302  |\n|60179      |1.6811337466784766|\n|16374      |1.4437555358724536|\n|32645      |1.3144375553587246|\n|99995      |1.2010628875110718|\n|14902      |1.066430469441984 |\n|10171      |0.9991142604074401|\n|49788      |0.9725420726306466|\n|14771      |0.8857395925597875|\n|10179      |0.8503100088573958|\n+-----------+------------------+\nonly showing top 10 rows\n\nthe precent of viewing events per station for the eleventh subset, cluster 0:\n+-----------+------------------+\n|station_num|rating            |\n+-----------+------------------+\n|99993      |7.411340580722689 |\n|60179      |1.5314534834977502|\n|16374      |1.4587932817259592|\n|14902      |1.1709470977838639|\n|32645      |1.1513847357683815|\n|99995      |1.1290277506078306|\n|12131      |1.1010815191571417|\n|10171      |1.020037447950144 |\n|10179      |1.017242824805075 |\n|10142      |1.0032697090797305|\n+-----------+------------------+\nonly showing top 10 rows\n\nthe precent of viewing events per station for the full subset, cluster 1:\n+-----------+------------------+\n|station_num|rating            |\n+-----------+------------------+\n|99993      |8.577435763040967 |\n|10171      |1.4940974662584725|\n|12131      |1.263297080300666 |\n|32645      |1.2150523544617438|\n|99995      |1.123030007028244 |\n|16374      |0.9928883700430033|\n|60179      |0.9226059299319809|\n|11187      |0.8133107794203485|\n|10179      |0.782934470558805 |\n|10142      |0.7769783315663454|\n+-----------+------------------+\nonly showing top 10 rows\n\nthe precent of viewing events per station for the seventh subset, cluster 1:\n+-----------+------------------+\n|station_num|rating            |\n+-----------+------------------+\n|99993      |8.13288749865171  |\n|10171      |1.643835616438356 |\n|12131      |1.3849638658181425|\n|99995      |1.2555279905080359|\n|32645      |1.2059109049724948|\n|16374      |0.9837126523568116|\n|60179      |0.8844784812857297|\n|10179      |0.8629058354007119|\n|10142      |0.8413331895156941|\n|11187      |0.8370186603386904|\n+-----------+------------------+\nonly showing top 10 rows\n\nthe precent of viewing events per station for the eleventh subset, cluster 1:\n+-----------+------------------+\n|station_num|rating            |\n+-----------+------------------+\n|99993      |8.89998719426303  |\n|10171      |1.3542066845946985|\n|60179      |1.2037392751952873|\n|32645      |1.1365091561019336|\n|12131      |1.0788833397362019|\n|99995      |1.050070431553336 |\n|16374      |0.899603022153925 |\n|11118      |0.8803944166986811|\n|10179      |0.8163657318478679|\n|10142      |0.7747470866948393|\n+-----------+------------------+\nonly showing top 10 rows\n\nthe precent of viewing events per station for the full subset, cluster 2:\n+-----------+------------------+\n|station_num|rating            |\n+-----------+------------------+\n|99993      |9.507681621988127 |\n|10171      |1.4242008301774463|\n|12131      |1.3838495758157072|\n|10179      |1.297855099307083 |\n|11207      |1.119912682531545 |\n|32645      |1.093122095619243 |\n|10142      |1.0273032462914882|\n|11164      |1.0041508872314742|\n|70387      |1.0031586432717592|\n|16374      |0.953877193272586 |\n+-----------+------------------+\nonly showing top 10 rows\n\nthe precent of viewing events per station for the seventh subset, cluster 2:\n+-----------+------------------+\n|station_num|rating            |\n+-----------+------------------+\n|99993      |9.398907103825136 |\n|10171      |1.4706581135661678|\n|12131      |1.4611546685673558|\n|10179      |1.221192682347351 |\n|11207      |1.2045616535994297|\n|32645      |1.116654787360418 |\n|11164      |1.0501306723687336|\n|14765      |1.0311237823711095|\n|10142      |1.0026134473746733|\n|70387      |0.9883582798764553|\n+-----------+------------------+\nonly showing top 10 rows\n\nthe precent of viewing events per station for the eleventh subset, cluster 2:\n+-----------+------------------+\n|station_num|rating            |\n+-----------+------------------+\n|99993      |9.530196476473574 |\n|10179      |1.3956354672660045|\n|10171      |1.2687595156963678|\n|16374      |1.2615094613209599|\n|11207      |1.257884434133256 |\n|10142      |1.17813383600377  |\n|12131      |1.1745088088160662|\n|11164      |1.0838831291234685|\n|70387      |1.0331327484956137|\n|32645      |1.025882694120206 |\n+-----------+------------------+\nonly showing top 10 rows\n\nthe precent of viewing events per station for the full subset, cluster 3:\n+-----------+------------------+\n|station_num|rating            |\n+-----------+------------------+\n|99993      |8.073377832266267 |\n|60179      |1.6771102937837716|\n|16374      |1.6366412387049902|\n|32645      |1.2762793443218452|\n|14902      |1.0343731553376014|\n|99995      |0.990214775462017 |\n|49788      |0.963197566180811 |\n|11187      |0.9192662216773373|\n|10142      |0.9188689097761431|\n|14771      |0.8802728965172775|\n+-----------+------------------+\nonly showing top 10 rows\n\nthe precent of viewing events per station for the seventh subset, cluster 3:\n+-----------+------------------+\n|station_num|rating            |\n+-----------+------------------+\n|99993      |7.7411429056361305|\n|60179      |1.756264724780467 |\n|16374      |1.4515653224600638|\n|32645      |1.310530718468259 |\n|14902      |1.0555369215661712|\n|49788      |1.0013860994031285|\n|99995      |0.9844134536505332|\n|11187      |0.9169269812533086|\n|14771      |0.9003584461138702|\n|10142      |0.8938926763033577|\n+-----------+------------------+\nonly showing top 10 rows\n\nthe precent of viewing events per station for the eleventh subset, cluster 3:\n+-----------+------------------+\n|station_num|rating            |\n+-----------+------------------+\n|99993      |8.14762189650015  |\n|16374      |1.6676637750523482|\n|60179      |1.6121996210988132|\n|32645      |1.2856466247881144|\n|14902      |0.9852677236015555|\n|99995      |0.9341659188353774|\n|49788      |0.9329195333532756|\n|10142      |0.9285571841659188|\n|11187      |0.8774553793997407|\n|14771      |0.8624987536145179|\n+-----------+------------------+\nonly showing top 10 rows\n\nthe precent of viewing events per station for the full subset, cluster 4:\n+-----------+------------------+\n|station_num|rating            |\n+-----------+------------------+\n|99993      |7.7792092446734795|\n|16374      |1.2282961965273915|\n|11221      |1.1102001776320285|\n|12131      |1.0745761719321876|\n|10142      |1.0462721674035467|\n|11207      |1.0379761660761866|\n|11187      |1.0316321650611464|\n|10171      |0.9501361520217843|\n|60179      |0.9281761485081838|\n|32645      |0.9203681472589036|\n+-----------+------------------+\nonly showing top 10 rows\n\nthe precent of viewing events per station for the seventh subset, cluster 4:\n+-----------+------------------+\n|station_num|rating            |\n+-----------+------------------+\n|99993      |7.676809070108936 |\n|16374      |1.4137895707407029|\n|12131      |1.1986476795410306|\n|10142      |1.1166888638459174|\n|11867      |1.0244851961889152|\n|11221      |1.021070245534952 |\n|10171      |0.9800908376873955|\n|11187      |0.9732609363794694|\n|11207      |0.956186183109654 |\n|60179      |0.9015469726462453|\n+-----------+------------------+\nonly showing top 10 rows\n\nthe precent of viewing events per station for the eleventh subset, cluster 4:\n+-----------+------------------+\n|station_num|rating            |\n+-----------+------------------+\n|99993      |7.5629825274278755|\n|16374      |1.4272653392929704|\n|10142      |1.1479073547338479|\n|10179      |1.0514018691588785|\n|11207      |1.0158472165786265|\n|11221      |1.0056887444128404|\n|10171      |0.995530272247054 |\n|12131      |0.9904510361641609|\n|99995      |0.9548963835839089|\n|60179      |0.8634701340918326|\n+-----------+------------------+\nonly showing top 10 rows\n\nthe precent of viewing events per station for the full subset, cluster 5:\n+-----------+------------------+\n|station_num|rating            |\n+-----------+------------------+\n|99993      |8.054625395819146 |\n|60179      |1.8206896118854015|\n|16374      |1.6039371124842952|\n|32645      |1.494514759987405 |\n|99995      |1.0394077384408256|\n|49788      |0.97167258237798  |\n|14902      |0.9367327489803113|\n|14771      |0.9147122851174093|\n|10179      |0.9048266136920211|\n|11187      |0.9016883053030089|\n+-----------+------------------+\nonly showing top 10 rows\n\nthe precent of viewing events per station for the seventh subset, cluster 5:\n+-----------+------------------+\n|station_num|rating            |\n+-----------+------------------+\n|99993      |8.077918938814078 |\n|60179      |1.7597316271932555|\n|32645      |1.5802792864388966|\n|16374      |1.5692924084335276|\n|99995      |1.0367950544399807|\n|49788      |1.0140888398955514|\n|14771      |0.9265600451194458|\n|14902      |0.9207003768499155|\n|11187      |0.8925007233028021|\n|10179      |0.8774853233621313|\n+-----------+------------------+\nonly showing top 10 rows\n\nthe precent of viewing events per station for the eleventh subset, cluster 5:\n+-----------+------------------+\n|station_num|rating            |\n+-----------+------------------+\n|99993      |7.943613460233462 |\n|60179      |1.70847565878388  |\n|16374      |1.584160674266228 |\n|32645      |1.5071766242208928|\n|99995      |1.0275945050495834|\n|14771      |0.9357838972177395|\n|49788      |0.9112630516477437|\n|14902      |0.9015687638642571|\n|11187      |0.899287754974025 |\n|10179      |0.8895934671905383|\n+-----------+------------------+\nonly showing top 10 rows\n\nthe precent of viewing events per station for the full subset, cluster 6:\n+-----------+------------------+\n|station_num|rating            |\n+-----------+------------------+\n|99993      |7.714595475919335 |\n|60179      |1.760298523769703 |\n|32645      |1.6197351778157842|\n|16374      |1.5142601409415433|\n|99995      |1.2014068941173506|\n|49788      |0.9927680263561526|\n|10171      |0.9623021292510432|\n|14902      |0.9280542587121959|\n|12131      |0.9097747204491304|\n|14771      |0.9068331855562233|\n+-----------+------------------+\nonly showing top 10 rows\n\nthe precent of viewing events per station for the seventh subset, cluster 6:\n+-----------+------------------+\n|station_num|rating            |\n+-----------+------------------+\n|99993      |7.700752596530255 |\n|16374      |1.7334277088419257|\n|32645      |1.6063096768601848|\n|60179      |1.5326389992344027|\n|99995      |1.1310615800193566|\n|49788      |1.0285004405795428|\n|14771      |0.9114940702327127|\n|10171      |0.9100495471420111|\n|10179      |0.8522686235139468|\n|14902      |0.8436014849697372|\n+-----------+------------------+\nonly showing top 10 rows\n\nthe precent of viewing events per station for the eleventh subset, cluster 6:\n+-----------+------------------+\n|station_num|rating            |\n+-----------+------------------+\n|99993      |8.040076550714849 |\n|16374      |1.677361251829337 |\n|60179      |1.5918045705279746|\n|32645      |1.3328830350106946|\n|99995      |1.19779353821907  |\n|14771      |1.0109197343239897|\n|12131      |0.999662276258021 |\n|10171      |0.9839018349656647|\n|11187      |0.9681413936733085|\n|49788      |0.9141055949566588|\n+-----------+------------------+\nonly showing top 10 rows\n\nthe precent of viewing events per station for the full subset, cluster 7:\n+-----------+------------------+\n|station_num|rating            |\n+-----------+------------------+\n|99993      |7.433412332323465 |\n|16374      |1.3301985026314673|\n|32645      |1.271773802175849 |\n|60179      |1.2523617242825307|\n|99995      |1.032326763695645 |\n|10171      |1.0165897879277608|\n|12131      |0.9828542350840327|\n|14902      |0.9281046367538484|\n|10142      |0.9260315022215521|\n|14771      |0.8953114177884367|\n+-----------+------------------+\nonly showing top 10 rows\n\nthe precent of viewing events per station for the seventh subset, cluster 7:\n+-----------+------------------+\n|station_num|rating            |\n+-----------+------------------+\n|99993      |7.374781074411913 |\n|16374      |1.3666165335208444|\n|60179      |1.2624437629809038|\n|32645      |1.1784544667330767|\n|99995      |1.0899076117741273|\n|10171      |1.0208931512914168|\n|12131      |1.0072204751580498|\n|10142      |0.9792240430754406|\n|10179      |0.9134649816721031|\n|14771      |0.9121628220403539|\n+-----------+------------------+\nonly showing top 10 rows\n\nthe precent of viewing events per station for the eleventh subset, cluster 7:\n+-----------+------------------+\n|station_num|rating            |\n+-----------+------------------+\n|99993      |7.5323533107174265|\n|16374      |1.4647987603132722|\n|60179      |1.29832055953428  |\n|32645      |1.2721447418017338|\n|99995      |1.0564560036855553|\n|10171      |1.0501738074297442|\n|14902      |0.9779285504879172|\n|12131      |0.9360472421158437|\n|14771      |0.9014951627088831|\n|10179      |0.8805545085228463|\n+-----------+------------------+\nonly showing top 10 rows\n\n"
          ]
        }
      ],
      "source": [
        "# stage 2\n",
        "\n",
        "for dict_ in [subset_viewing_per_station, seventh_subset_viewing_per_station, eleventh_subset_viewing_per_station]:\n",
        "    for key, val in dict_.items():\n",
        "        total_count = val.select(f.sum(\"count\")).collect()[0][0]\n",
        "        val = val.withColumn(\"rating\", (val[\"count\"] / total_count)*100)\n",
        "        dict_[key] = val.select(\"station_num\", \"rating\").orderBy(\"rating\", ascending=False)\n",
        "\n",
        "for i in range(8):\n",
        "    print(f\"the precent of viewing events per station for the full subset, cluster {i}:\")\n",
        "    subset_viewing_per_station[f\"full_subset_{i}\"].show(10, truncate=False)\n",
        "    print(f\"the precent of viewing events per station for the seventh subset, cluster {i}:\")\n",
        "    seventh_subset_viewing_per_station[f\"seventh_subset_{i}\"].show(10, truncate=False)\n",
        "    print(f\"the precent of viewing events per station for the eleventh subset, cluster {i}:\")\n",
        "    eleventh_subset_viewing_per_station[f\"eleventh_subset_{i}\"].show(10, truncate=False)"
      ]
    },
    {
      "cell_type": "code",
      "execution_count": null,
      "metadata": {
        "application/vnd.databricks.v1+cell": {
          "cellMetadata": {
            "byteLimit": 2048000,
            "rowLimit": 10000
          },
          "inputWidgets": {},
          "nuid": "82e4d36a-a68d-4db7-a638-69e9e4456626",
          "showTitle": false,
          "title": ""
        },
        "id": "WTudvurv6QLe",
        "outputId": "055e4ce3-16aa-4eb3-fd1d-e7e4eb431550"
      },
      "outputs": [
        {
          "output_type": "stream",
          "name": "stdout",
          "text": [
            "amount of viewing events per station for the entire data:\n+-----------+---------------+\n|station_num|full_data_count|\n+-----------+---------------+\n|99993      |800201         |\n|16374      |142003         |\n|60179      |137138         |\n|32645      |129320         |\n|10171      |105204         |\n|12131      |103763         |\n|99995      |103330         |\n|10179      |92164          |\n|14902      |91332          |\n|10142      |90415          |\n|14771      |89195          |\n|11187      |89133          |\n|11207      |87081          |\n|49788      |83291          |\n|11221      |82527          |\n|11867      |80921          |\n|11150      |71803          |\n|58515      |69083          |\n|16615      |67846          |\n|11164      |67569          |\n+-----------+---------------+\nonly showing top 20 rows\n\nthe precent of viewing events per station for the entire data:\n+-----------+---------------+------------------+\n|station_num|full_data_count|full_data_rating  |\n+-----------+---------------+------------------+\n|99993      |800201         |7.915264244564543 |\n|16374      |142003         |1.404636170813207 |\n|60179      |137138         |1.3565135609316814|\n|32645      |129320         |1.2791810708897975|\n|10171      |105204         |1.0406353648460427|\n|12131      |103763         |1.0263815763898705|\n|99995      |103330         |1.022098515736489 |\n|10179      |92164          |0.9116489654924783|\n|14902      |91332          |0.9034191584171588|\n|10142      |90415          |0.8943485657632311|\n|14771      |89195          |0.8822808198114405|\n|11187      |89133          |0.8816675409188086|\n|11207      |87081          |0.8613699878916985|\n|49788      |83291          |0.8238808426808082|\n|11221      |82527          |0.8163236640683755|\n|11867      |80921          |0.8004377624301987|\n|11150      |71803          |0.7102461988331281|\n|58515      |69083          |0.6833410603176606|\n|16615      |67846          |0.6711051572501484|\n|11164      |67569          |0.6683651854233894|\n+-----------+---------------+------------------+\nonly showing top 20 rows\n\n"
          ]
        }
      ],
      "source": [
        "# stage 3\n",
        "viewing_amount_full_data = static_viewing_df.groupBy(\"station_num\").count().withColumnRenamed(\"count\", \"full_data_count\")\n",
        "print(\"amount of viewing events per station for the entire data:\")\n",
        "viewing_amount_full_data.orderBy(\"full_data_count\", ascending=False).show(truncate=False)\n",
        "\n",
        "total_count = viewing_amount_full_data.select(f.sum(\"full_data_count\")).collect()[0][0]\n",
        "viewing_amount_full_data = viewing_amount_full_data.withColumn(\"full_data_rating\", (f.col(\"full_data_count\") / total_count)*100)\n",
        "print(\"the precent of viewing events per station for the entire data:\")\n",
        "viewing_amount_full_data.orderBy(\"full_data_rating\", ascending=False).show(truncate=False)"
      ]
    },
    {
      "cell_type": "code",
      "execution_count": null,
      "metadata": {
        "application/vnd.databricks.v1+cell": {
          "cellMetadata": {
            "byteLimit": 2048000,
            "rowLimit": 10000
          },
          "inputWidgets": {},
          "nuid": "94e2363d-c816-44b0-a35c-0a50850abc0f",
          "showTitle": false,
          "title": ""
        },
        "id": "tday-2HW6QLe",
        "outputId": "9250a239-6fbe-4ee9-fd10-fa6981a67a5b"
      },
      "outputs": [
        {
          "output_type": "stream",
          "name": "stdout",
          "text": [
            "top 10 highest diff_rank station in the full subset for cluster 0 are:\n+-----------+--------------------+\n|station_num|diff_rank           |\n+-----------+--------------------+\n|60179      |0.28900310341080937 |\n|99995      |0.19706095889642028 |\n|49788      |0.16053684791454248 |\n|14902      |0.14969084741910554 |\n|11713      |0.09542935779355038 |\n|59684      |0.09397652222975589 |\n|19628      |0.08426652874308772 |\n|32645      |0.07452237457211952 |\n|50747      |0.06424401891450898 |\n|58515      |0.054713965842232315|\n+-----------+--------------------+\nonly showing top 10 rows\n\ntop 10 highest diff_rank station in the seventh subset for cluster 0 are:\n+-----------+-------------------+\n|station_num|diff_rank          |\n+-----------+-------------------+\n|60179      |0.3246201857467952 |\n|99995      |0.1789643717745828 |\n|14902      |0.16301131102482513|\n|36069      |0.16188470145546666|\n|49788      |0.14866122994983844|\n|58646      |0.14401705686252642|\n|29952      |0.10727562967443702|\n|11713      |0.09929761389564029|\n|50747      |0.08952437559907106|\n|14899      |0.08665820979915154|\n+-----------+-------------------+\nonly showing top 10 rows\n\ntop 10 highest diff_rank station in the eleventh subset for cluster 0 are:\n+-----------+-------------------+\n|station_num|diff_rank          |\n+-----------+-------------------+\n|14902      |0.26752793936670505|\n|60179      |0.17493992256606883|\n|11713      |0.15422163715195447|\n|16300      |0.13236962865773494|\n|10142      |0.10892114331649938|\n|99995      |0.10692923487134154|\n|10626      |0.10641379992271824|\n|10179      |0.1055938593125968 |\n|11765      |0.09694285544316128|\n|18279      |0.09541262875849821|\n+-----------+-------------------+\nonly showing top 10 rows\n\ntop 10 highest diff_rank station in the full subset for cluster 1 are:\n+-----------+-------------------+\n|station_num|diff_rank          |\n+-----------+-------------------+\n|99993      |0.6621715184764234 |\n|11118      |0.6560907708026674 |\n|10171      |0.4534621014124298 |\n|10222      |0.45344997741257514|\n|59684      |0.3013632851094438 |\n|10366      |0.27799636234611214|\n|33702      |0.25095873638024957|\n|10730      |0.24551750032198263|\n|12458      |0.243220512044092  |\n|12131      |0.23691550391079552|\n+-----------+-------------------+\nonly showing top 10 rows\n\ntop 10 highest diff_rank station in the seventh subset for cluster 1 are:\n+-----------+-------------------+\n|station_num|diff_rank          |\n+-----------+-------------------+\n|10171      |0.6032002515923134 |\n|11118      |0.5378557004361887 |\n|12131      |0.35858228942827197|\n|10222      |0.3560124389526434 |\n|10730      |0.31451814668544975|\n|10366      |0.2785666830523764 |\n|59684      |0.26151589934043856|\n|33702      |0.2556910111961763 |\n|12437      |0.24141031666258186|\n|10458      |0.23864779293803276|\n+-----------+-------------------+\nonly showing top 10 rows\n\ntop 10 highest diff_rank station in the eleventh subset for cluster 1 are:\n+-----------+-------------------+\n|station_num|diff_rank          |\n+-----------+-------------------+\n|99993      |0.9847229496984866 |\n|11118      |0.7991151802348591 |\n|10222      |0.3772126949458312 |\n|10730      |0.34900661661176835|\n|10171      |0.3135713197486558 |\n|31658      |0.284464395018372  |\n|59684      |0.282678101396238  |\n|10366      |0.2798587903384015 |\n|12458      |0.2557293573376232 |\n|33311      |0.2545712145180321 |\n+-----------+-------------------+\nonly showing top 10 rows\n\ntop 10 highest diff_rank station in the full subset for cluster 2 are:\n+-----------+-------------------+\n|station_num|diff_rank          |\n+-----------+-------------------+\n|99993      |1.5924173774235832 |\n|10642      |0.6146460081686794 |\n|35513      |0.6139998633477544 |\n|70387      |0.5865543348688393 |\n|11561      |0.5620893060034499 |\n|11809      |0.4987697698506816 |\n|35070      |0.4882478771178953 |\n|14765      |0.44372147678902363|\n|14909      |0.4104791948073372 |\n|12729      |0.39247933493775883|\n+-----------+-------------------+\nonly showing top 10 rows\n\ntop 10 highest diff_rank station in the seventh subset for cluster 2 are:\n+-----------+-------------------+\n|station_num|diff_rank          |\n+-----------+-------------------+\n|99993      |1.483642859260593  |\n|10642      |0.7009723720902962 |\n|70387      |0.5717539714735353 |\n|14765      |0.551727628638709  |\n|35513      |0.5310115866429514 |\n|35070      |0.45698362704343676|\n|11561      |0.43968748359068777|\n|12131      |0.4347730921774853 |\n|10171      |0.43002274872012514|\n|12729      |0.38348030222828006|\n+-----------+-------------------+\nonly showing top 10 rows\n\ntop 10 highest diff_rank station in the eleventh subset for cluster 2 are:\n+-----------+-------------------+\n|station_num|diff_rank          |\n+-----------+-------------------+\n|99993      |1.6149322319090302 |\n|10642      |0.8091602706936435 |\n|35513      |0.7030047867843972 |\n|70387      |0.6165284400926938 |\n|11809      |0.5206570592265396 |\n|10179      |0.4839865017735262 |\n|11561      |0.47309681589030705|\n|35070      |0.46151521246772353|\n|10918      |0.4384878262657005 |\n|11164      |0.4155179437000791 |\n+-----------+-------------------+\nonly showing top 10 rows\n\ntop 10 highest diff_rank station in the full subset for cluster 3 are:\n+-----------+-------------------+\n|station_num|diff_rank          |\n+-----------+-------------------+\n|60179      |0.3205967328520902 |\n|16374      |0.23200506789178332|\n|99993      |0.1581135877017239 |\n|49788      |0.1393167235000028 |\n|14902      |0.13095399692044263|\n|31709      |0.10277995009217386|\n|30754      |0.08220006476056965|\n|66268      |0.07775539172919238|\n|11069      |0.0734368925939402 |\n|11458      |0.06542373937585166|\n+-----------+-------------------+\nonly showing top 10 rows\n\ntop 10 highest diff_rank station in the seventh subset for cluster 3 are:\n+-----------+-------------------+\n|station_num|diff_rank          |\n+-----------+-------------------+\n|60179      |0.3997511638487856 |\n|49788      |0.17750525672232031|\n|14902      |0.15211776314901237|\n|31709      |0.1095149971555485 |\n|30754      |0.10621998155957996|\n|11458      |0.09423303004513114|\n|66268      |0.0827365857950817 |\n|61522      |0.08184357611067306|\n|25544      |0.08113166663475911|\n|10330      |0.07050342387504173|\n+-----------+-------------------+\nonly showing top 10 rows\n\ntop 10 highest diff_rank station in the eleventh subset for cluster 3 are:\n+-----------+-------------------+\n|station_num|diff_rank          |\n+-----------+-------------------+\n|16374      |0.2630276042391413 |\n|60179      |0.2556860601671318 |\n|99993      |0.2323576519356063 |\n|31709      |0.11075557775329428|\n|49788      |0.10903869067246741|\n|11066      |0.10011772922912798|\n|30754      |0.09749970547420692|\n|11344      |0.09039519253332567|\n|14902      |0.08184856518439665|\n|11069      |0.0812983743676316 |\n+-----------+-------------------+\nonly showing top 10 rows\n\ntop 10 highest diff_rank station in the full subset for cluster 4 are:\n+-----------+-------------------+\n|station_num|diff_rank          |\n+-----------+-------------------+\n|11221      |0.29387651356365296|\n|14909      |0.20409717067010436|\n|16615      |0.19655898157611384|\n|11207      |0.1766061781844881 |\n|10142      |0.1519236016403156 |\n|11187      |0.1499646241423378 |\n|11097      |0.14011568385809453|\n|12574      |0.1398181865031355 |\n|18480      |0.12344401842754765|\n|61522      |0.12141354787424663|\n+-----------+-------------------+\nonly showing top 10 rows\n\ntop 10 highest diff_rank station in the seventh subset for cluster 4 are:\n+-----------+-------------------+\n|station_num|diff_rank          |\n+-----------+-------------------+\n|14909      |0.2799942064792381 |\n|16300      |0.22506764962182524|\n|11867      |0.2240474337587165 |\n|10142      |0.2223402980826863 |\n|11916      |0.21100201360551982|\n|11097      |0.20823411541066522|\n|11221      |0.20474658146657654|\n|12574      |0.19519297171798267|\n|58646      |0.19126091794426958|\n|11349      |0.18328674457211735|\n+-----------+-------------------+\nonly showing top 10 rows\n\ntop 10 highest diff_rank station in the eleventh subset for cluster 4 are:\n+-----------+-------------------+\n|station_num|diff_rank          |\n+-----------+-------------------+\n|15433      |0.346688845612057  |\n|19311      |0.2781804928634482 |\n|10142      |0.2535587889706168 |\n|19326      |0.2293167971249837 |\n|24405      |0.2094698015293332 |\n|61522      |0.1930764386576599 |\n|11221      |0.18936508034446486|\n|11158      |0.17893841019982937|\n|11066      |0.1708823918375919 |\n|21883      |0.1698599361231347 |\n+-----------+-------------------+\nonly showing top 10 rows\n\ntop 10 highest diff_rank station in the full subset for cluster 5 are:\n+-----------+-------------------+\n|station_num|diff_rank          |\n+-----------+-------------------+\n|60179      |0.46417605095372005|\n|32645      |0.21533368909760742|\n|16374      |0.19930094167108825|\n|49788      |0.14779173969717185|\n|99993      |0.1393611512546027 |\n|31709      |0.08834953950363356|\n|61854      |0.08701292771866218|\n|30754      |0.08652979762938265|\n|45507      |0.07549386491051474|\n|25544      |0.06326424106138052|\n+-----------+-------------------+\nonly showing top 10 rows\n\ntop 10 highest diff_rank station in the seventh subset for cluster 5 are:\n+-----------+-------------------+\n|station_num|diff_rank          |\n+-----------+-------------------+\n|60179      |0.4032180662615741 |\n|32645      |0.3010982155490991 |\n|49788      |0.19020799721474324|\n|16374      |0.16465623762032067|\n|99993      |0.16265469424953416|\n|30754      |0.11075624910082904|\n|45507      |0.10786094641484628|\n|31709      |0.09589158425477412|\n|58646      |0.09444260894511769|\n|66268      |0.09233920221092712|\n+-----------+-------------------+\nonly showing top 10 rows\n\ntop 10 highest diff_rank station in the eleventh subset for cluster 5 are:\n+-----------+-------------------+\n|station_num|diff_rank          |\n+-----------+-------------------+\n|60179      |0.3519620978521987 |\n|32645      |0.22799555333109534|\n|16374      |0.17952450345302107|\n|61854      |0.10175834559147914|\n|14765      |0.10055035660912359|\n|31709      |0.09495215598988721|\n|64241      |0.09427264818073888|\n|49788      |0.08738220896693549|\n|30754      |0.07869372792835813|\n|11066      |0.07676233201908378|\n+-----------+-------------------+\nonly showing top 10 rows\n\ntop 10 highest diff_rank station in the full subset for cluster 6 are:\n+-----------+-------------------+\n|station_num|diff_rank          |\n+-----------+-------------------+\n|60179      |0.4037849628380217 |\n|32645      |0.34055410692598675|\n|99995      |0.17930837838086156|\n|49788      |0.1688871836753444 |\n|59684      |0.13628629156054567|\n|16374      |0.10962397012833636|\n|45507      |0.10181560036409826|\n|58515      |0.09154327432815756|\n|58646      |0.08447906558083673|\n|82547      |0.0796800239512252 |\n+-----------+-------------------+\nonly showing top 10 rows\n\ntop 10 highest diff_rank station in the seventh subset for cluster 6 are:\n+-----------+-------------------+\n|station_num|diff_rank          |\n+-----------+-------------------+\n|16374      |0.32879153802871874|\n|32645      |0.3271286059703873 |\n|49788      |0.20461959789873463|\n|60179      |0.17612543830272132|\n|59684      |0.15273553564542314|\n|31046      |0.12992988337070116|\n|58515      |0.11981377811243177|\n|58646      |0.11429767677609226|\n|99995      |0.10896306428286762|\n|11865      |0.10854442606679812|\n+-----------+-------------------+\nonly showing top 10 rows\n\ntop 10 highest diff_rank station in the eleventh subset for cluster 6 are:\n+-----------+-------------------+\n|station_num|diff_rank          |\n+-----------+-------------------+\n|16374      |0.27272508101613013|\n|60179      |0.23529100959629323|\n|99995      |0.17569502248258106|\n|65732      |0.16295803991733526|\n|35443      |0.13215299969439165|\n|14771      |0.12863891451254927|\n|99993      |0.12481230615030547|\n|59684      |0.12178013596013731|\n|11066      |0.11821683755965029|\n|11458      |0.11726911830432846|\n+-----------+-------------------+\nonly showing top 10 rows\n\ntop 10 highest diff_rank station in the full subset for cluster 7 are:\n+-----------+-------------------+\n|station_num|diff_rank          |\n+-----------+-------------------+\n|11865      |0.08057555853674778|\n|10145      |0.04452118710115005|\n|74796      |0.04423477145733945|\n|16300      |0.04350145272085748|\n|19211      |0.03965977667367315|\n|58646      |0.03934929530516551|\n|11344      |0.03862623424395045|\n|58515      |0.03858092386055356|\n|11867      |0.03729705539310435|\n|15433      |0.03691818863730517|\n+-----------+-------------------+\nonly showing top 10 rows\n\ntop 10 highest diff_rank station in the seventh subset for cluster 7 are:\n+-----------+-------------------+\n|station_num|diff_rank          |\n+-----------+-------------------+\n|58515      |0.10381443707476468|\n|58646      |0.08879212086773791|\n|10142      |0.08487547731220957|\n|74796      |0.07823986721575193|\n|61623      |0.07643330785206046|\n|15433      |0.07352997558385604|\n|11713      |0.07240814437119569|\n|10559      |0.07030170914240685|\n|99995      |0.0678090960376383 |\n|11221      |0.06654056625762017|\n+-----------+-------------------+\nonly showing top 10 rows\n\ntop 10 highest diff_rank station in the eleventh subset for cluster 7 are:\n+-----------+--------------------+\n|station_num|diff_rank           |\n+-----------+--------------------+\n|16615      |0.11626344014483414 |\n|15433      |0.11170637066770722 |\n|11865      |0.08410276807514991 |\n|10458      |0.08382846118202239 |\n|14902      |0.07450939207075835 |\n|12574      |0.07365340195019121 |\n|19211      |0.07284997208776459 |\n|16374      |0.060162589500065256|\n|18284      |0.05964897328483634 |\n|58515      |0.05795809786804107 |\n+-----------+--------------------+\nonly showing top 10 rows\n\n"
          ]
        },
        {
          "output_type": "execute_result",
          "data": {
            "text/plain": [
              "DataFrame[device_id: string, event_date: int, event_time: int, station_num: string, prog_code: string, household_id: bigint]"
            ]
          },
          "execution_count": 18,
          "metadata": {}
        }
      ],
      "source": [
        "# stage 4\n",
        "\n",
        "for dict_ in [subset_viewing_per_station, seventh_subset_viewing_per_station, eleventh_subset_viewing_per_station]:\n",
        "    for key, val in dict_.items():\n",
        "        val = val.join(viewing_amount_full_data, on=\"station_num\").withColumn(\"diff_rank\", f.col(\"rating\") - f.col(\"full_data_rating\"))\n",
        "        dict_[key] = val.select(\"station_num\", \"diff_rank\").orderBy(\"diff_rank\", ascending=False)\n",
        "\n",
        "for i in range(8):\n",
        "    print(f\"top 10 highest diff_rank station in the full subset for cluster {i} are:\")\n",
        "    subset_viewing_per_station[f\"full_subset_{i}\"].show(10, truncate=False)\n",
        "    print(f\"top 10 highest diff_rank station in the seventh subset for cluster {i} are:\")\n",
        "    seventh_subset_viewing_per_station[f\"seventh_subset_{i}\"].show(10, truncate=False)\n",
        "    print(f\"top 10 highest diff_rank station in the eleventh subset for cluster {i} are:\")\n",
        "    eleventh_subset_viewing_per_station[f\"eleventh_subset_{i}\"].show(10, truncate=False)\n",
        "\n",
        "static_viewing_df.unpersist()"
      ]
    },
    {
      "cell_type": "markdown",
      "metadata": {
        "application/vnd.databricks.v1+cell": {
          "cellMetadata": {
            "byteLimit": 2048000,
            "rowLimit": 10000
          },
          "inputWidgets": {},
          "nuid": "e706dbb0-4830-4ef2-b190-6f1def4612d2",
          "showTitle": false,
          "title": ""
        },
        "id": "JisxChAh6QLe"
      },
      "source": [
        "# Dynamic Data Analysis - Streaming"
      ]
    },
    {
      "cell_type": "code",
      "execution_count": null,
      "metadata": {
        "application/vnd.databricks.v1+cell": {
          "cellMetadata": {
            "byteLimit": 2048000,
            "rowLimit": 10000
          },
          "inputWidgets": {},
          "nuid": "91c034c7-f56f-4acf-ac4f-a7f237bc3523",
          "showTitle": false,
          "title": ""
        },
        "id": "FhmgXnXX6QLe",
        "outputId": "3cc6d7c2-6521-4861-9201-a1c58720b8cb"
      },
      "outputs": [
        {
          "output_type": "stream",
          "name": "stdout",
          "text": [
            "Batch number: 0\n{'message': 'Processing new data', 'isDataAvailable': True, 'isTriggerActive': True}\n+----------+-----+\n|event_date|count|\n+----------+-----+\n+----------+-----+\n\nBatch number: 1\n{'message': 'Processing new data', 'isDataAvailable': True, 'isTriggerActive': True}\n+----------+-----+\n|event_date|count|\n+----------+-----+\n+----------+-----+\n\nBatch number: 2\n{'message': 'Processing new data', 'isDataAvailable': True, 'isTriggerActive': True}\n+----------+-----+\n|event_date|count|\n+----------+-----+\n|  20150913|12582|\n|  20151004|18896|\n|  20151018|18522|\n+----------+-----+\n\nBatch number: 3\n{'message': 'Processing new data', 'isDataAvailable': True, 'isTriggerActive': True}\n+----------+-----+\n|event_date|count|\n+----------+-----+\n|  20150913|30085|\n|  20151004|35537|\n|  20151018|34378|\n+----------+-----+\n\nBatch number: 4\n{'message': 'Processing new data', 'isDataAvailable': True, 'isTriggerActive': True}\n+----------+-----+\n|event_date|count|\n+----------+-----+\n|  20150913|47186|\n|  20151004|52316|\n|  20151018|50498|\n+----------+-----+\n\nBatch number: 5\n{'message': 'Processing new data', 'isDataAvailable': True, 'isTriggerActive': True}\n+----------+-----+\n|event_date|count|\n+----------+-----+\n|  20150913|64487|\n|  20151004|70127|\n|  20151018|65386|\n+----------+-----+\n\nBatch number: 6\n{'message': 'Processing new data', 'isDataAvailable': True, 'isTriggerActive': True}\n+----------+-----+\n|event_date|count|\n+----------+-----+\n|  20150913|81730|\n|  20151004|87203|\n|  20151018|81067|\n+----------+-----+\n\nBatch number: 7\n{'message': 'Processing new data', 'isDataAvailable': True, 'isTriggerActive': True}\n+----------+------+\n|event_date| count|\n+----------+------+\n|  20150913| 98115|\n|  20151004|104351|\n|  20151018| 97534|\n+----------+------+\n\nBatch number: 8\n{'message': 'Processing new data', 'isDataAvailable': True, 'isTriggerActive': True}\n+----------+------+\n|event_date| count|\n+----------+------+\n|  20150913|116312|\n|  20151004|121105|\n|  20151018|112583|\n+----------+------+\n\nBatch number: 9\n{'message': 'Processing new data', 'isDataAvailable': True, 'isTriggerActive': True}\n+----------+------+\n|event_date| count|\n+----------+------+\n|  20150913|133167|\n|  20151004|138044|\n|  20151018|128789|\n+----------+------+\n\n"
          ]
        }
      ],
      "source": [
        "from pyspark.sql import functions as f\n",
        "\n",
        "SCHEMA = \"device_id STRING, event_date INT, event_time INT, station_num STRING, prog_code STRING, household_id STRING\"\n",
        "kafka_server = \"kafka.eastus.cloudapp.azure.com:29092\"\n",
        "topic = \"view_data\"\n",
        "OFFSETS_PER_TRIGGER = 50000\n",
        "\n",
        "streaming_df = spark.readStream\\\n",
        "                  .format(\"kafka\")\\\n",
        "                  .option(\"kafka.bootstrap.servers\", kafka_server)\\\n",
        "                  .option(\"subscribe\", topic)\\\n",
        "                  .option(\"startingOffsets\", \"earliest\")\\\n",
        "                  .option(\"failOnDataLoss\",False)\\\n",
        "                  .option(\"maxOffsetsPerTrigger\", OFFSETS_PER_TRIGGER)\\\n",
        "                  .load()\\\n",
        "                  .select(f.from_csv(f.decode(\"value\", \"US-ASCII\"), schema=SCHEMA).alias(\"value\")).select(\"value.*\")\n",
        "\n",
        "viewing_counts = streaming_df.groupBy(\"event_date\").count()\n",
        "count_viewing_query =viewing_counts.writeStream\\\n",
        ".queryName('num_viewing')\\\n",
        ".format(\"memory\")\\\n",
        ".outputMode(\"complete\")\\\n",
        ".start()\n",
        "\n",
        "\n",
        "time.sleep(10)\n",
        "\n",
        "for i in range(10):\n",
        "    print(\"Batch number: \"+str(i))\n",
        "    print(count_viewing_query.status)\n",
        "    spark.sql('SELECT * FROM num_viewing').show()\n",
        "    time.sleep(5)\n",
        "\n",
        "count_viewing_query.stop()"
      ]
    },
    {
      "cell_type": "code",
      "execution_count": null,
      "metadata": {
        "application/vnd.databricks.v1+cell": {
          "cellMetadata": {
            "byteLimit": 2048000,
            "rowLimit": 10000
          },
          "inputWidgets": {},
          "nuid": "684e13c3-092e-4991-881f-52bc022ddf5c",
          "showTitle": false,
          "title": ""
        },
        "id": "YGCPGIBL6QLe",
        "outputId": "6222f0ea-3c0b-4ca0-fb68-59235aa71260"
      },
      "outputs": [
        {
          "output_type": "stream",
          "name": "stdout",
          "text": [
            "Batch number 1:\nCluster 0:\n+-----------+------------------+\n|station_num|diff_rank         |\n+-----------+------------------+\n|19580      |13.877870967741936|\n|20367      |12.653548387096773|\n|10918      |6.196193548387098 |\n|60222      |5.989032258064516 |\n|64549      |5.371870967741936 |\n|99993      |3.259290322580645 |\n|59684      |3.2303870967741934|\n|99995      |2.817870967741936 |\n|60150      |2.801225806451613 |\n|66268      |2.757806451612903 |\n+-----------+------------------+\nonly showing top 10 rows\n\nCluster 1:\n+-----------+------------------+\n|station_num|diff_rank         |\n+-----------+------------------+\n|11221      |35.71418604651163 |\n|18480      |6.576744186046511 |\n|16331      |6.079627906976744 |\n|11207      |4.104279069767442 |\n|11380      |3.4689302325581393|\n|11097      |3.2889302325581395|\n|16617      |2.981813953488372 |\n|16715      |2.6266976744186046|\n|11006      |2.4198139534883722|\n|11593      |1.9326976744186046|\n+-----------+------------------+\nonly showing top 10 rows\n\nCluster 2:\n+-----------+------------------+\n|station_num|diff_rank         |\n+-----------+------------------+\n|62079      |17.61828571428571 |\n|10021      |13.839142857142857|\n|14321      |9.671714285714284 |\n|11207      |9.273714285714284 |\n|22561      |8.317428571428572 |\n|46817      |7.258571428571429 |\n|25148      |5.8177142857142865|\n|11867      |3.11              |\n|16604      |2.2017142857142855|\n|35575      |1.6502857142857144|\n+-----------+------------------+\nonly showing top 10 rows\n\nCluster 3:\n+-----------+------------------+\n|station_num|diff_rank         |\n+-----------+------------------+\n|66268      |5.786442075337598 |\n|11221      |3.30546552949538  |\n|14902      |2.7191727078891264|\n|16331      |1.7712693674484723|\n|11479      |1.7063425728500357|\n|15326      |1.3516105188343994|\n|14776      |1.2514641080312723|\n|10149      |1.1697569296375265|\n|12574      |1.1179033404406538|\n|46205      |1.0922444918265812|\n+-----------+------------------+\nonly showing top 10 rows\n\nCluster 4:\n+-----------+------------------+\n|station_num|diff_rank         |\n+-----------+------------------+\n|11158      |10.93337552742616 |\n|16374      |5.100143459915612 |\n|48543      |4.5913502109704645|\n|10720      |4.4621434599156125|\n|10153      |3.959409282700422 |\n|44940      |3.9424388185654013|\n|59208      |3.75746835443038  |\n|14873      |3.70546835443038  |\n|10057      |3.45146835443038  |\n|10178      |2.6715864978902952|\n+-----------+------------------+\nonly showing top 10 rows\n\nCluster 5:\n+-----------+------------------+\n|station_num|diff_rank         |\n+-----------+------------------+\n|11949      |4.806334140435835 |\n|10051      |4.778876513317192 |\n|10188      |3.579026634382567 |\n|50887      |3.5279612590799028|\n|11867      |2.3787651331719126|\n|10093      |2.3786343825665863|\n|14902      |2.1788958837772396|\n|16616      |2.1063728813559326|\n|16123      |2.0115690072639225|\n|11811      |1.7913075060532688|\n+-----------+------------------+\nonly showing top 10 rows\n\nCluster 6:\n+-----------+------------------+\n|station_num|diff_rank         |\n+-----------+------------------+\n|19579      |6.2484581497797365|\n|59684      |5.519004405286344 |\n|50747      |3.891022026431718 |\n|16374      |3.6075506607929517|\n|11069      |2.753964757709251 |\n|11163      |2.731964757709251 |\n|20367      |2.0943612334801758|\n|10269      |1.8606431718061676|\n|48969      |1.6682466960352422|\n|16616      |1.6565110132158591|\n+-----------+------------------+\nonly showing top 10 rows\n\nCluster 7:\n+-----------+------------------+\n|station_num|diff_rank         |\n+-----------+------------------+\n|20430      |4.862648342764753 |\n|11207      |4.242648342764753 |\n|10171      |3.9451705739692806|\n|65025      |3.299718674211803 |\n|24505      |2.8389927243330644|\n|58321      |2.7534260307194827|\n|32645      |2.463311236863379 |\n|24959      |2.291744543249798 |\n|11496      |2.279514955537591 |\n|10142      |2.1482667744543247|\n+-----------+------------------+\nonly showing top 10 rows\n\nBatch number 2:\nCluster 0:\n+-----------+------------------+\n|station_num|diff_rank         |\n+-----------+------------------+\n|19580      |6.938935483870968 |\n|59684      |6.676912760209757 |\n|20367      |6.3267741935483865|\n|10918      |3.678013030351184 |\n|30439      |3.642886699507389 |\n|42568      |3.491581280788177 |\n|24026      |3.486886699507389 |\n|60222      |2.994516129032258 |\n|64549      |2.685935483870968 |\n|14771      |2.3610541871921185|\n+-----------+------------------+\nonly showing top 10 rows\n\nCluster 1:\n+-----------+------------------+\n|station_num|diff_rank         |\n+-----------+------------------+\n|11221      |17.857093023255814|\n|21218      |6.708383233532935 |\n|21220      |4.43137125748503  |\n|18480      |3.2883720930232556|\n|16331      |3.039813953488372 |\n|11207      |2.052139534883721 |\n|44322      |1.7394071856287425|\n|11380      |1.7344651162790696|\n|11097      |1.64446511627907  |\n|11654      |1.5177065868263477|\n+-----------+------------------+\nonly showing top 10 rows\n\nCluster 2:\n+-----------+------------------+\n|station_num|diff_rank         |\n+-----------+------------------+\n|62079      |8.809142857142856 |\n|10021      |6.9195714285714285|\n|14321      |5.36026678141136  |\n|11207      |5.065266781411359 |\n|19324      |4.791277108433736 |\n|22561      |4.158714285714286 |\n|10918      |3.857064257028113 |\n|46817      |3.629285714285714 |\n|25148      |3.0966603557085493|\n|14902      |3.0611910499139423|\n+-----------+------------------+\nonly showing top 10 rows\n\nCluster 3:\n+-----------+------------------+\n|station_num|diff_rank         |\n+-----------+------------------+\n|66268      |2.893221037668799 |\n|20367      |2.2089065387348974|\n|59684      |2.116958333333333 |\n|56905      |1.8983333333333328|\n|11221      |1.65273276474769  |\n|19580      |1.6353508351101633|\n|14902      |1.3595863539445634|\n|49438      |1.1120833333333335|\n|45507      |1.1120366027007818|\n|25148      |1.0906199360341153|\n+-----------+------------------+\nonly showing top 10 rows\n\nCluster 4:\n+-----------+------------------+\n|station_num|diff_rank         |\n+-----------+------------------+\n|10142      |42.707142857142856|\n|11158      |5.466687763713081 |\n|16374      |2.550071729957806 |\n|48543      |2.2956751054852322|\n|10720      |2.2310717299578062|\n|10153      |1.979704641350211 |\n|44940      |1.971219409282701 |\n|59208      |1.8787341772151898|\n|14873      |1.8527341772151897|\n|10057      |1.72573417721519  |\n+-----------+------------------+\nonly showing top 10 rows\n\nCluster 5:\n+-----------+------------------+\n|station_num|diff_rank         |\n+-----------+------------------+\n|20367      |4.270441193021947 |\n|24026      |3.2038503095104107|\n|30439      |2.7971041080472707|\n|11949      |2.4031670702179175|\n|10051      |2.389438256658596 |\n|14902      |2.2417642052538422|\n|34963      |2.2308683173888575|\n|10188      |1.7895133171912836|\n|50887      |1.7639806295399514|\n|48639      |1.5336505346088916|\n+-----------+------------------+\nonly showing top 10 rows\n\nCluster 6:\n+-----------+------------------+\n|station_num|diff_rank         |\n+-----------+------------------+\n|19579      |3.1242290748898687|\n|59684      |2.759502202643172 |\n|50747      |1.945511013215859 |\n|16374      |1.8037753303964759|\n|11069      |1.3769823788546256|\n|11163      |1.3659823788546255|\n|20367      |1.0471806167400879|\n|10269      |0.9303215859030838|\n|48969      |0.8341233480176212|\n|16616      |0.8282555066079296|\n+-----------+------------------+\nonly showing top 10 rows\n\nCluster 7:\n+-----------+------------------+\n|station_num|diff_rank         |\n+-----------+------------------+\n|20493      |4.840986425339366 |\n|49788      |3.6372966270022715|\n|21220      |2.8500316742081453|\n|20430      |2.4313241713823763|\n|59684      |2.1316877828054297|\n|11207      |2.1213241713823763|\n|26192      |2.080443438914027 |\n|10171      |1.9725852869846403|\n|65025      |1.7552258529430054|\n|24505      |1.4194963621665322|\n+-----------+------------------+\nonly showing top 10 rows\n\nBatch number 3:\nCluster 0:\n+-----------+------------------+\n|station_num|diff_rank         |\n+-----------+------------------+\n|90190      |11.24348737184296 |\n|49788      |4.804240806507045 |\n|19580      |4.720220555138785 |\n|59684      |4.451275173473171 |\n|20367      |4.444113028257064 |\n|32494      |3.8270602650662666|\n|99993      |3.327386078046605 |\n|10918      |2.4520086869007898|\n|30439      |2.428591133004926 |\n|42568      |2.327720853858785 |\n+-----------+------------------+\nonly showing top 10 rows\n\nCluster 1:\n+-----------+------------------+\n|station_num|diff_rank         |\n+-----------+------------------+\n|11221      |11.904728682170543|\n|74796      |4.533843137254902 |\n|21218      |3.9510005870611717|\n|21220      |2.8730318187155106|\n|18480      |2.1922480620155036|\n|16331      |2.0265426356589145|\n|12013      |1.7334117647058824|\n|34734      |1.7107450980392156|\n|57573      |1.5738504168134317|\n|11207      |1.4681714546283628|\n+-----------+------------------+\nonly showing top 10 rows\n\nCluster 2:\n+-----------+------------------+\n|station_num|diff_rank         |\n+-----------+------------------+\n|62079      |5.872761904761904 |\n|10021      |4.613047619047619 |\n|14321      |3.573511187607573 |\n|11207      |3.376844520940906 |\n|19324      |3.1941847389558236|\n|22561      |2.7724761904761905|\n|10918      |2.571376171352075 |\n|46817      |2.4195238095238096|\n|25148      |2.0644402371390327|\n|14902      |2.0407940332759615|\n+-----------+------------------+\nonly showing top 10 rows\n\nCluster 3:\n+-----------+------------------+\n|station_num|diff_rank         |\n+-----------+------------------+\n|66268      |1.9288140251125325|\n|20367      |1.4124344046801187|\n|59684      |1.4113055555555551|\n|32645      |1.382478196128254 |\n|19580      |1.3785899851670185|\n|56905      |1.2655555555555553|\n|16374      |1.125563157548481 |\n|11221      |1.1018218431651265|\n|57391      |0.9235323487339657|\n|14902      |0.9063909026297089|\n+-----------+------------------+\nonly showing top 10 rows\n\nCluster 4:\n+-----------+------------------+\n|station_num|diff_rank         |\n+-----------+------------------+\n|10142      |28.471428571428568|\n|11158      |3.6444585091420536|\n|21218      |1.9422411347517732|\n|16374      |1.700047819971871 |\n|48543      |1.5304500703234882|\n|10720      |1.4873811533052042|\n|10153      |1.3198030942334742|\n|44940      |1.3141462728551339|\n|59208      |1.2524894514767932|\n|14873      |1.2351561181434598|\n+-----------+------------------+\nonly showing top 10 rows\n\nCluster 5:\n+-----------+------------------+\n|station_num|diff_rank         |\n+-----------+------------------+\n|20367      |4.066669521022792 |\n|34963      |3.154989424398598 |\n|19580      |2.6263030522786734|\n|32494      |2.6149074139427526|\n|24026      |2.135900206340274 |\n|30439      |1.8647360720315138|\n|10051      |1.5929588377723973|\n|11949      |1.5921653663348578|\n|14902      |1.494509470169228 |\n|48639      |1.4127927606746031|\n+-----------+------------------+\nonly showing top 10 rows\n\nCluster 6:\n+-----------+------------------+\n|station_num|diff_rank         |\n+-----------+------------------+\n|56905      |3.472521739130435 |\n|19579      |2.0828193832599124|\n|57394      |1.8920869565217395|\n|60179      |1.8679130434782605|\n|59684      |1.8396681350954478|\n|34963      |1.7003326310413074|\n|20367      |1.6237435995658558|\n|61812      |1.4598121688054653|\n|50747      |1.2970073421439061|\n|16374      |1.202516886930984 |\n+-----------+------------------+\nonly showing top 10 rows\n\nCluster 7:\n+-----------+------------------+\n|station_num|diff_rank         |\n+-----------+------------------+\n|99995      |4.030806925195873 |\n|20493      |3.227324283559578 |\n|21220      |2.4442280126904876|\n|49788      |2.202082808806112 |\n|60048      |1.952829903022081 |\n|21219      |1.8973489017180702|\n|20430      |1.6208827809215842|\n|59684      |1.4211251885369531|\n|11207      |1.4142161142549174|\n|26192      |1.3702573117664394|\n+-----------+------------------+\nonly showing top 10 rows\n\n"
          ]
        }
      ],
      "source": [
        "\n",
        "global_state = {}\n",
        "seventh_subsets = {name: subset.select(\"household_id\") for name, subset in seventh_subset_dict.items()}\n",
        "\n",
        "for df in seventh_subsets.values():\n",
        "    df.cache()\n",
        "\n",
        "batch_num = 0\n",
        "\n",
        "def process_batch(df, batch_id):\n",
        "    df = df.withColumn(\"household_id\", col(\"household_id\").cast(LongType()))\n",
        "    df.cache()\n",
        "\n",
        "    global global_state\n",
        "    global batch_num\n",
        "    global seventh_subsets\n",
        "\n",
        "    batch_num += 1\n",
        "\n",
        "    # stage 1\n",
        "    popularity_per_station = {}\n",
        "    for name, subset_df in seventh_subsets.items():\n",
        "            popularity_per_station[name] = df.join(subset_df, on=\"household_id\").groupBy(\"station_num\").agg(f.count(\"*\").alias(\"count\"))\n",
        "\n",
        "    # stage 2\n",
        "    for name, subset_df in popularity_per_station.items():\n",
        "        total_count = subset_df.select(f.sum(\"count\")).collect()[0][0]\n",
        "        popularity_per_station[name] = subset_df.withColumn(\n",
        "            \"popularity\",\n",
        "            (f.col(\"count\") / total_count) * 100\n",
        "            ).select(\"station_num\", \"popularity\")\n",
        "\n",
        "    # stage 3\n",
        "    entire_data_popularity = df.groupBy(\"station_num\").agg(f.count(\"*\").alias(\"overall_count\"))\n",
        "    total_count = entire_data_popularity.select(f.sum(\"overall_count\")).collect()[0][0]\n",
        "    entire_data_popularity = entire_data_popularity.withColumn(\n",
        "        \"overall_popularity\",\n",
        "        (f.col(\"overall_count\") / total_count) * 100\n",
        "    ).select(\"station_num\", \"overall_popularity\")\n",
        "\n",
        "    # stage 4\n",
        "    for name, subset_df in popularity_per_station.items():\n",
        "        popularity_per_station[name] = subset_df.join(entire_data_popularity, on=\"station_num\") \\\n",
        "            .withColumn(\"diff_rank\", f.col(\"popularity\") - f.col(\"overall_popularity\"))\n",
        "\n",
        "    for name, subset_df in popularity_per_station.items():\n",
        "        if name not in global_state:\n",
        "            global_state[name] = subset_df\n",
        "        else:\n",
        "            subset_df = subset_df.withColumnRenamed(\"diff_rank\", \"diff_rank_updated\")\n",
        "            update_global = global_state[name].join(subset_df, on=\"station_num\", how=\"outer\").fillna(0)\n",
        "            global_state[name] = update_global.withColumn(\"diff_rank\", \\\n",
        "                (col('diff_rank') * (batch_num-1) * OFFSETS_PER_TRIGGER \\\n",
        "                + col('diff_rank_updated') * OFFSETS_PER_TRIGGER) \\\n",
        "                / (batch_num * OFFSETS_PER_TRIGGER)).select(\"station_num\", \"diff_rank\")\n",
        "\n",
        "    print(f\"Batch number {batch_num}:\")\n",
        "    for name, subset_df in global_state.items():\n",
        "        print(f\"Cluster {name[-1]}:\")\n",
        "        subset_df.select(\"station_num\",\"diff_rank\").orderBy(\"diff_rank\", ascending=False).show(10, truncate=False)\n",
        "    df.unpersist()\n",
        "\n",
        "query = streaming_df.writeStream \\\n",
        "    .foreachBatch(process_batch) \\\n",
        "    .option(\"failOnDataLoss\", \"false\") \\\n",
        "    .start()\n",
        "\n",
        "while batch_num <= 3:\n",
        "    time.sleep(5)\n",
        "\n",
        "query.stop()\n",
        "\n",
        "for df in seventh_subsets.values():\n",
        "    df.unpersist()"
      ]
    }
  ],
  "metadata": {
    "application/vnd.databricks.v1+notebook": {
      "dashboards": [],
      "environmentMetadata": null,
      "language": "python",
      "notebookMetadata": {
        "pythonIndentUnit": 4
      },
      "notebookName": "project2_wet_314689498_211620570",
      "widgets": {}
    },
    "colab": {
      "provenance": [],
      "include_colab_link": true
    }
  },
  "nbformat": 4,
  "nbformat_minor": 0
}